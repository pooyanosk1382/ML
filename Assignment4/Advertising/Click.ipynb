{
 "cells": [
  {
   "cell_type": "code",
   "execution_count": 5,
   "metadata": {
    "collapsed": true,
    "ExecuteTime": {
     "end_time": "2024-06-04T19:24:24.307504600Z",
     "start_time": "2024-06-04T19:24:24.285978700Z"
    }
   },
   "outputs": [],
   "source": [
    "import numpy as np\n",
    "import pandas as pd\n",
    "import matplotlib.pyplot as plt\n",
    "import seaborn as sns"
   ]
  },
  {
   "cell_type": "code",
   "execution_count": 6,
   "outputs": [
    {
     "data": {
      "text/plain": "      Daily Time Spent on Site   Age  Area Income  Daily Internet Usage  \\\n0                        62.26  32.0     69481.85                172.83   \n1                        41.73  31.0     61840.26                207.17   \n2                        44.40  30.0     57877.15                172.83   \n3                        59.88  28.0     56180.93                207.17   \n4                        49.21  30.0     54324.73                201.58   \n...                        ...   ...          ...                   ...   \n9995                     41.73  31.0     61840.26                207.17   \n9996                     41.73  28.0     51501.38                120.49   \n9997                     55.60  39.0     38067.08                124.44   \n9998                     46.61  50.0     43974.49                123.13   \n9999                     46.61  43.0     60575.99                198.45   \n\n                                 AdTopicLine             City  Gender  \\\n0            Decentralized real-time circuit         Lisafort    Male   \n1             Optional full-range projection  West Angelabury    Male   \n2        Total 5thgeneration standardization        Reyesfurt  Female   \n3                Balanced empowering success      New Michael  Female   \n4        Total 5thgeneration standardization     West Richard  Female   \n...                                      ...              ...     ...   \n9995          Profound executive flexibility  West Angelabury    Male   \n9996          Managed zero tolerance concept      Kennedyfurt    Male   \n9997          Intuitive exuding service-desk      North Randy  Female   \n9998        Realigned content-based leverage   North Samantha  Female   \n9999  Optimized upward-trending productivity     Port Jeffrey    Male   \n\n                           Country            Timestamp  Clicked on Ad  \n0     Svalbard & Jan Mayen Islands  2016-06-09 21:43:05              0  \n1                        Singapore  2016-01-16 17:56:05              0  \n2                       Guadeloupe  2016-06-29 10:50:45              0  \n3                           Zambia  2016-06-21 14:32:32              0  \n4                            Qatar  2016-07-21 10:54:35              1  \n...                            ...                  ...            ...  \n9995                     Singapore  2016-01-03 03:22:15              1  \n9996                    Luxembourg  2016-05-28 12:20:15              0  \n9997                         Egypt  2016-01-05 11:53:17              0  \n9998                        Malawi  2016-04-04 07:07:46              1  \n9999      Northern Mariana Islands  2016-04-03 21:13:46              1  \n\n[10000 rows x 10 columns]",
      "text/html": "<div>\n<style scoped>\n    .dataframe tbody tr th:only-of-type {\n        vertical-align: middle;\n    }\n\n    .dataframe tbody tr th {\n        vertical-align: top;\n    }\n\n    .dataframe thead th {\n        text-align: right;\n    }\n</style>\n<table border=\"1\" class=\"dataframe\">\n  <thead>\n    <tr style=\"text-align: right;\">\n      <th></th>\n      <th>Daily Time Spent on Site</th>\n      <th>Age</th>\n      <th>Area Income</th>\n      <th>Daily Internet Usage</th>\n      <th>AdTopicLine</th>\n      <th>City</th>\n      <th>Gender</th>\n      <th>Country</th>\n      <th>Timestamp</th>\n      <th>Clicked on Ad</th>\n    </tr>\n  </thead>\n  <tbody>\n    <tr>\n      <th>0</th>\n      <td>62.26</td>\n      <td>32.0</td>\n      <td>69481.85</td>\n      <td>172.83</td>\n      <td>Decentralized real-time circuit</td>\n      <td>Lisafort</td>\n      <td>Male</td>\n      <td>Svalbard &amp; Jan Mayen Islands</td>\n      <td>2016-06-09 21:43:05</td>\n      <td>0</td>\n    </tr>\n    <tr>\n      <th>1</th>\n      <td>41.73</td>\n      <td>31.0</td>\n      <td>61840.26</td>\n      <td>207.17</td>\n      <td>Optional full-range projection</td>\n      <td>West Angelabury</td>\n      <td>Male</td>\n      <td>Singapore</td>\n      <td>2016-01-16 17:56:05</td>\n      <td>0</td>\n    </tr>\n    <tr>\n      <th>2</th>\n      <td>44.40</td>\n      <td>30.0</td>\n      <td>57877.15</td>\n      <td>172.83</td>\n      <td>Total 5thgeneration standardization</td>\n      <td>Reyesfurt</td>\n      <td>Female</td>\n      <td>Guadeloupe</td>\n      <td>2016-06-29 10:50:45</td>\n      <td>0</td>\n    </tr>\n    <tr>\n      <th>3</th>\n      <td>59.88</td>\n      <td>28.0</td>\n      <td>56180.93</td>\n      <td>207.17</td>\n      <td>Balanced empowering success</td>\n      <td>New Michael</td>\n      <td>Female</td>\n      <td>Zambia</td>\n      <td>2016-06-21 14:32:32</td>\n      <td>0</td>\n    </tr>\n    <tr>\n      <th>4</th>\n      <td>49.21</td>\n      <td>30.0</td>\n      <td>54324.73</td>\n      <td>201.58</td>\n      <td>Total 5thgeneration standardization</td>\n      <td>West Richard</td>\n      <td>Female</td>\n      <td>Qatar</td>\n      <td>2016-07-21 10:54:35</td>\n      <td>1</td>\n    </tr>\n    <tr>\n      <th>...</th>\n      <td>...</td>\n      <td>...</td>\n      <td>...</td>\n      <td>...</td>\n      <td>...</td>\n      <td>...</td>\n      <td>...</td>\n      <td>...</td>\n      <td>...</td>\n      <td>...</td>\n    </tr>\n    <tr>\n      <th>9995</th>\n      <td>41.73</td>\n      <td>31.0</td>\n      <td>61840.26</td>\n      <td>207.17</td>\n      <td>Profound executive flexibility</td>\n      <td>West Angelabury</td>\n      <td>Male</td>\n      <td>Singapore</td>\n      <td>2016-01-03 03:22:15</td>\n      <td>1</td>\n    </tr>\n    <tr>\n      <th>9996</th>\n      <td>41.73</td>\n      <td>28.0</td>\n      <td>51501.38</td>\n      <td>120.49</td>\n      <td>Managed zero tolerance concept</td>\n      <td>Kennedyfurt</td>\n      <td>Male</td>\n      <td>Luxembourg</td>\n      <td>2016-05-28 12:20:15</td>\n      <td>0</td>\n    </tr>\n    <tr>\n      <th>9997</th>\n      <td>55.60</td>\n      <td>39.0</td>\n      <td>38067.08</td>\n      <td>124.44</td>\n      <td>Intuitive exuding service-desk</td>\n      <td>North Randy</td>\n      <td>Female</td>\n      <td>Egypt</td>\n      <td>2016-01-05 11:53:17</td>\n      <td>0</td>\n    </tr>\n    <tr>\n      <th>9998</th>\n      <td>46.61</td>\n      <td>50.0</td>\n      <td>43974.49</td>\n      <td>123.13</td>\n      <td>Realigned content-based leverage</td>\n      <td>North Samantha</td>\n      <td>Female</td>\n      <td>Malawi</td>\n      <td>2016-04-04 07:07:46</td>\n      <td>1</td>\n    </tr>\n    <tr>\n      <th>9999</th>\n      <td>46.61</td>\n      <td>43.0</td>\n      <td>60575.99</td>\n      <td>198.45</td>\n      <td>Optimized upward-trending productivity</td>\n      <td>Port Jeffrey</td>\n      <td>Male</td>\n      <td>Northern Mariana Islands</td>\n      <td>2016-04-03 21:13:46</td>\n      <td>1</td>\n    </tr>\n  </tbody>\n</table>\n<p>10000 rows × 10 columns</p>\n</div>"
     },
     "execution_count": 6,
     "metadata": {},
     "output_type": "execute_result"
    }
   ],
   "source": [
    "data = pd.read_csv('ad_10000records.csv')\n",
    "data"
   ],
   "metadata": {
    "collapsed": false,
    "ExecuteTime": {
     "end_time": "2024-06-04T19:24:24.600938700Z",
     "start_time": "2024-06-04T19:24:24.563385200Z"
    }
   }
  },
  {
   "cell_type": "code",
   "execution_count": 7,
   "outputs": [
    {
     "data": {
      "text/plain": "(10000, 10)"
     },
     "execution_count": 7,
     "metadata": {},
     "output_type": "execute_result"
    }
   ],
   "source": [
    "data.shape"
   ],
   "metadata": {
    "collapsed": false,
    "ExecuteTime": {
     "end_time": "2024-06-04T19:24:24.841049900Z",
     "start_time": "2024-06-04T19:24:24.819061Z"
    }
   }
  },
  {
   "cell_type": "code",
   "execution_count": 8,
   "outputs": [
    {
     "data": {
      "text/plain": "<bound method DataFrame.info of       Daily Time Spent on Site   Age  Area Income  Daily Internet Usage  \\\n0                        62.26  32.0     69481.85                172.83   \n1                        41.73  31.0     61840.26                207.17   \n2                        44.40  30.0     57877.15                172.83   \n3                        59.88  28.0     56180.93                207.17   \n4                        49.21  30.0     54324.73                201.58   \n...                        ...   ...          ...                   ...   \n9995                     41.73  31.0     61840.26                207.17   \n9996                     41.73  28.0     51501.38                120.49   \n9997                     55.60  39.0     38067.08                124.44   \n9998                     46.61  50.0     43974.49                123.13   \n9999                     46.61  43.0     60575.99                198.45   \n\n                                 AdTopicLine             City  Gender  \\\n0            Decentralized real-time circuit         Lisafort    Male   \n1             Optional full-range projection  West Angelabury    Male   \n2        Total 5thgeneration standardization        Reyesfurt  Female   \n3                Balanced empowering success      New Michael  Female   \n4        Total 5thgeneration standardization     West Richard  Female   \n...                                      ...              ...     ...   \n9995          Profound executive flexibility  West Angelabury    Male   \n9996          Managed zero tolerance concept      Kennedyfurt    Male   \n9997          Intuitive exuding service-desk      North Randy  Female   \n9998        Realigned content-based leverage   North Samantha  Female   \n9999  Optimized upward-trending productivity     Port Jeffrey    Male   \n\n                           Country            Timestamp  Clicked on Ad  \n0     Svalbard & Jan Mayen Islands  2016-06-09 21:43:05              0  \n1                        Singapore  2016-01-16 17:56:05              0  \n2                       Guadeloupe  2016-06-29 10:50:45              0  \n3                           Zambia  2016-06-21 14:32:32              0  \n4                            Qatar  2016-07-21 10:54:35              1  \n...                            ...                  ...            ...  \n9995                     Singapore  2016-01-03 03:22:15              1  \n9996                    Luxembourg  2016-05-28 12:20:15              0  \n9997                         Egypt  2016-01-05 11:53:17              0  \n9998                        Malawi  2016-04-04 07:07:46              1  \n9999      Northern Mariana Islands  2016-04-03 21:13:46              1  \n\n[10000 rows x 10 columns]>"
     },
     "execution_count": 8,
     "metadata": {},
     "output_type": "execute_result"
    }
   ],
   "source": [
    "data.info"
   ],
   "metadata": {
    "collapsed": false,
    "ExecuteTime": {
     "end_time": "2024-06-04T19:24:26.018057700Z",
     "start_time": "2024-06-04T19:24:26.004038800Z"
    }
   }
  },
  {
   "cell_type": "code",
   "execution_count": 11,
   "outputs": [
    {
     "data": {
      "text/plain": "Cloned explicit middleware                 344\nStreamlined homogeneous analyzer           212\nBusiness-focused transitional solution     207\nSharable reciprocal project                187\nIntuitive exuding service-desk             173\n                                          ... \nErgonomic neutral portal                     1\nImplemented uniform synergy                  1\nVisionary multi-tasking alliance             1\nInverse zero tolerance customer loyalty      1\nReactive interactive protocol                1\nName: AdTopicLine, Length: 559, dtype: int64"
     },
     "execution_count": 11,
     "metadata": {},
     "output_type": "execute_result"
    }
   ],
   "source": [
    "plot_df = data.AdTopicLine.value_counts()\n",
    "plot_df"
   ],
   "metadata": {
    "collapsed": false,
    "ExecuteTime": {
     "end_time": "2024-06-04T19:25:13.905782500Z",
     "start_time": "2024-06-04T19:25:13.894226900Z"
    }
   }
  },
  {
   "cell_type": "code",
   "execution_count": 13,
   "outputs": [
    {
     "data": {
      "text/plain": "Hubbardmouth       336\nWest Brandonton    275\nLisafort           261\nWintersfort        230\nStewartbury        207\n                  ... \nTurnerview           1\nNorth Tiffany        1\nNorth Kristine       1\nEast Troyhaven       1\nDavidview            1\nName: City, Length: 521, dtype: int64"
     },
     "execution_count": 13,
     "metadata": {},
     "output_type": "execute_result"
    }
   ],
   "source": [
    "plot_df = data.City.value_counts()\n",
    "plot_df"
   ],
   "metadata": {
    "collapsed": false,
    "ExecuteTime": {
     "end_time": "2024-06-04T19:26:40.453249Z",
     "start_time": "2024-06-04T19:26:40.426679300Z"
    }
   }
  },
  {
   "cell_type": "code",
   "execution_count": 14,
   "outputs": [
    {
     "data": {
      "text/plain": "Australia                                       388\nCzech Republic                                  330\nTurkey                                          312\nQatar                                           224\nHong Kong                                       221\n                                               ... \nSouth Georgia and the South Sandwich Islands      1\nWallis and Futuna                                 1\nSierra Leone                                      1\nNiue                                              1\nParaguay                                          1\nName: Country, Length: 207, dtype: int64"
     },
     "execution_count": 14,
     "metadata": {},
     "output_type": "execute_result"
    }
   ],
   "source": [
    "plot_df = data.Country.value_counts()\n",
    "plot_df"
   ],
   "metadata": {
    "collapsed": false,
    "ExecuteTime": {
     "end_time": "2024-06-04T19:27:03.519322300Z",
     "start_time": "2024-06-04T19:27:03.514309600Z"
    }
   }
  },
  {
   "cell_type": "code",
   "execution_count": 15,
   "outputs": [
    {
     "data": {
      "text/plain": "<AxesSubplot: >"
     },
     "execution_count": 15,
     "metadata": {},
     "output_type": "execute_result"
    },
    {
     "data": {
      "text/plain": "<Figure size 640x480 with 1 Axes>",
      "image/png": "[encoded data removed]"
     },
     "metadata": {},
     "output_type": "display_data"
    }
   ],
   "source": [
    "plot_df = data.Gender.value_counts()\n",
    "plot_df.plot(kind=\"bar\")"
   ],
   "metadata": {
    "collapsed": false,
    "ExecuteTime": {
     "end_time": "2024-06-04T19:27:33.425523700Z",
     "start_time": "2024-06-04T19:27:33.310996700Z"
    }
   }
  },
  {
   "cell_type": "code",
   "execution_count": 16,
   "outputs": [
    {
     "data": {
      "text/plain": "      Daily Time Spent on Site   Age  Area Income  Daily Internet Usage  \\\n0                        62.26  32.0     69481.85                172.83   \n1                        41.73  31.0     61840.26                207.17   \n2                        44.40  30.0     57877.15                172.83   \n3                        59.88  28.0     56180.93                207.17   \n4                        49.21  30.0     54324.73                201.58   \n...                        ...   ...          ...                   ...   \n9995                     41.73  31.0     61840.26                207.17   \n9996                     41.73  28.0     51501.38                120.49   \n9997                     55.60  39.0     38067.08                124.44   \n9998                     46.61  50.0     43974.49                123.13   \n9999                     46.61  43.0     60575.99                198.45   \n\n                                 AdTopicLine             City  Gender  \\\n0            Decentralized real-time circuit         Lisafort    Male   \n1             Optional full-range projection  West Angelabury    Male   \n2        Total 5thgeneration standardization        Reyesfurt  Female   \n3                Balanced empowering success      New Michael  Female   \n4        Total 5thgeneration standardization     West Richard  Female   \n...                                      ...              ...     ...   \n9995          Profound executive flexibility  West Angelabury    Male   \n9996          Managed zero tolerance concept      Kennedyfurt    Male   \n9997          Intuitive exuding service-desk      North Randy  Female   \n9998        Realigned content-based leverage   North Samantha  Female   \n9999  Optimized upward-trending productivity     Port Jeffrey    Male   \n\n                           Country            Timestamp  Clicked on Ad  group  \n0     Svalbard & Jan Mayen Islands  2016-06-09 21:43:05              0      0  \n1                        Singapore  2016-01-16 17:56:05              0      1  \n2                       Guadeloupe  2016-06-29 10:50:45              0      2  \n3                           Zambia  2016-06-21 14:32:32              0      3  \n4                            Qatar  2016-07-21 10:54:35              1      2  \n...                            ...                  ...            ...    ...  \n9995                     Singapore  2016-01-03 03:22:15              1    256  \n9996                    Luxembourg  2016-05-28 12:20:15              0     61  \n9997                         Egypt  2016-01-05 11:53:17              0     15  \n9998                        Malawi  2016-04-04 07:07:46              1    169  \n9999      Northern Mariana Islands  2016-04-03 21:13:46              1      5  \n\n[10000 rows x 11 columns]",
      "text/html": "<div>\n<style scoped>\n    .dataframe tbody tr th:only-of-type {\n        vertical-align: middle;\n    }\n\n    .dataframe tbody tr th {\n        vertical-align: top;\n    }\n\n    .dataframe thead th {\n        text-align: right;\n    }\n</style>\n<table border=\"1\" class=\"dataframe\">\n  <thead>\n    <tr style=\"text-align: right;\">\n      <th></th>\n      <th>Daily Time Spent on Site</th>\n      <th>Age</th>\n      <th>Area Income</th>\n      <th>Daily Internet Usage</th>\n      <th>AdTopicLine</th>\n      <th>City</th>\n      <th>Gender</th>\n      <th>Country</th>\n      <th>Timestamp</th>\n      <th>Clicked on Ad</th>\n      <th>group</th>\n    </tr>\n  </thead>\n  <tbody>\n    <tr>\n      <th>0</th>\n      <td>62.26</td>\n      <td>32.0</td>\n      <td>69481.85</td>\n      <td>172.83</td>\n      <td>Decentralized real-time circuit</td>\n      <td>Lisafort</td>\n      <td>Male</td>\n      <td>Svalbard &amp; Jan Mayen Islands</td>\n      <td>2016-06-09 21:43:05</td>\n      <td>0</td>\n      <td>0</td>\n    </tr>\n    <tr>\n      <th>1</th>\n      <td>41.73</td>\n      <td>31.0</td>\n      <td>61840.26</td>\n      <td>207.17</td>\n      <td>Optional full-range projection</td>\n      <td>West Angelabury</td>\n      <td>Male</td>\n      <td>Singapore</td>\n      <td>2016-01-16 17:56:05</td>\n      <td>0</td>\n      <td>1</td>\n    </tr>\n    <tr>\n      <th>2</th>\n      <td>44.40</td>\n      <td>30.0</td>\n      <td>57877.15</td>\n      <td>172.83</td>\n      <td>Total 5thgeneration standardization</td>\n      <td>Reyesfurt</td>\n      <td>Female</td>\n      <td>Guadeloupe</td>\n      <td>2016-06-29 10:50:45</td>\n      <td>0</td>\n      <td>2</td>\n    </tr>\n    <tr>\n      <th>3</th>\n      <td>59.88</td>\n      <td>28.0</td>\n      <td>56180.93</td>\n      <td>207.17</td>\n      <td>Balanced empowering success</td>\n      <td>New Michael</td>\n      <td>Female</td>\n      <td>Zambia</td>\n      <td>2016-06-21 14:32:32</td>\n      <td>0</td>\n      <td>3</td>\n    </tr>\n    <tr>\n      <th>4</th>\n      <td>49.21</td>\n      <td>30.0</td>\n      <td>54324.73</td>\n      <td>201.58</td>\n      <td>Total 5thgeneration standardization</td>\n      <td>West Richard</td>\n      <td>Female</td>\n      <td>Qatar</td>\n      <td>2016-07-21 10:54:35</td>\n      <td>1</td>\n      <td>2</td>\n    </tr>\n    <tr>\n      <th>...</th>\n      <td>...</td>\n      <td>...</td>\n      <td>...</td>\n      <td>...</td>\n      <td>...</td>\n      <td>...</td>\n      <td>...</td>\n      <td>...</td>\n      <td>...</td>\n      <td>...</td>\n      <td>...</td>\n    </tr>\n    <tr>\n      <th>9995</th>\n      <td>41.73</td>\n      <td>31.0</td>\n      <td>61840.26</td>\n      <td>207.17</td>\n      <td>Profound executive flexibility</td>\n      <td>West Angelabury</td>\n      <td>Male</td>\n      <td>Singapore</td>\n      <td>2016-01-03 03:22:15</td>\n      <td>1</td>\n      <td>256</td>\n    </tr>\n    <tr>\n      <th>9996</th>\n      <td>41.73</td>\n      <td>28.0</td>\n      <td>51501.38</td>\n      <td>120.49</td>\n      <td>Managed zero tolerance concept</td>\n      <td>Kennedyfurt</td>\n      <td>Male</td>\n      <td>Luxembourg</td>\n      <td>2016-05-28 12:20:15</td>\n      <td>0</td>\n      <td>61</td>\n    </tr>\n    <tr>\n      <th>9997</th>\n      <td>55.60</td>\n      <td>39.0</td>\n      <td>38067.08</td>\n      <td>124.44</td>\n      <td>Intuitive exuding service-desk</td>\n      <td>North Randy</td>\n      <td>Female</td>\n      <td>Egypt</td>\n      <td>2016-01-05 11:53:17</td>\n      <td>0</td>\n      <td>15</td>\n    </tr>\n    <tr>\n      <th>9998</th>\n      <td>46.61</td>\n      <td>50.0</td>\n      <td>43974.49</td>\n      <td>123.13</td>\n      <td>Realigned content-based leverage</td>\n      <td>North Samantha</td>\n      <td>Female</td>\n      <td>Malawi</td>\n      <td>2016-04-04 07:07:46</td>\n      <td>1</td>\n      <td>169</td>\n    </tr>\n    <tr>\n      <th>9999</th>\n      <td>46.61</td>\n      <td>43.0</td>\n      <td>60575.99</td>\n      <td>198.45</td>\n      <td>Optimized upward-trending productivity</td>\n      <td>Port Jeffrey</td>\n      <td>Male</td>\n      <td>Northern Mariana Islands</td>\n      <td>2016-04-03 21:13:46</td>\n      <td>1</td>\n      <td>5</td>\n    </tr>\n  </tbody>\n</table>\n<p>10000 rows × 11 columns</p>\n</div>"
     },
     "execution_count": 16,
     "metadata": {},
     "output_type": "execute_result"
    }
   ],
   "source": [
    "import pandas as pd\n",
    "from sklearn.feature_extraction.text import TfidfVectorizer\n",
    "from sklearn.cluster import DBSCAN\n",
    "\n",
    "# Assuming the text data is in the 'text' column\n",
    "text_data = data['AdTopicLine'].tolist()\n",
    "\n",
    "# Vectorize the text\n",
    "vectorizer = TfidfVectorizer()\n",
    "X = vectorizer.fit_transform(text_data)\n",
    "\n",
    "# Cluster the text data using DBSCAN\n",
    "model = DBSCAN(eps=0.5, min_samples=2)\n",
    "labels = model.fit_predict(X)\n",
    "\n",
    "# Group the text data by cluster\n",
    "groups = [[] for _ in set(labels)]\n",
    "for i, label in enumerate(labels):\n",
    "    groups[label].append(text_data[i])\n",
    "\n",
    "# Add the groups as a new column to the original dataset\n",
    "data['group'] = labels\n",
    "\n",
    "data"
   ],
   "metadata": {
    "collapsed": false,
    "ExecuteTime": {
     "end_time": "2024-06-04T19:32:29.389149500Z",
     "start_time": "2024-06-04T19:32:28.111633Z"
    }
   }
  },
  {
   "cell_type": "code",
   "execution_count": 17,
   "outputs": [
    {
     "data": {
      "text/plain": "47     344\n40     212\n43     207\n52     187\n15     173\n      ... \n360      2\n356      2\n353      2\n349      2\n448      2\nName: group, Length: 450, dtype: int64"
     },
     "execution_count": 17,
     "metadata": {},
     "output_type": "execute_result"
    }
   ],
   "source": [
    "data.group.value_counts()"
   ],
   "metadata": {
    "collapsed": false,
    "ExecuteTime": {
     "end_time": "2024-06-04T19:33:32.289260700Z",
     "start_time": "2024-06-04T19:33:32.282199900Z"
    }
   }
  },
  {
   "cell_type": "code",
   "execution_count": null,
   "outputs": [],
   "source": [],
   "metadata": {
    "collapsed": false
   }
  }
 ],
 "metadata": {
  "kernelspec": {
   "display_name": "Python 3",
   "language": "python",
   "name": "python3"
  },
  "language_info": {
   "codemirror_mode": {
    "name": "ipython",
    "version": 2
   },
   "file_extension": ".py",
   "mimetype": "text/x-python",
   "name": "python",
   "nbconvert_exporter": "python",
   "pygments_lexer": "ipython2",
   "version": "2.7.6"
  }
 },
 "nbformat": 4,
 "nbformat_minor": 0
}

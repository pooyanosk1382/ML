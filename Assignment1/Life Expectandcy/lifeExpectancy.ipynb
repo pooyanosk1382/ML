{
 "cells": [
  {
   "cell_type": "code",
   "execution_count": 1,
   "outputs": [],
   "source": [
    "import pandas as pd\n",
    "import numpy as np\n",
    "import seaborn as sns\n",
    "import matplotlib.pyplot as pt"
   ],
   "metadata": {
    "collapsed": false,
    "pycharm": {
     "name": "#%%\n"
    }
   }
  },
  {
   "cell_type": "code",
   "execution_count": 2,
   "outputs": [
    {
     "data": {
      "text/plain": "       Country  Year      Status  Life expectancy   Adult Mortality  \\\n0  Afghanistan  2015  Developing              65.0            263.0   \n1  Afghanistan  2014  Developing              59.9            271.0   \n2  Afghanistan  2013  Developing              59.9            268.0   \n3  Afghanistan  2012  Developing              59.5            272.0   \n4  Afghanistan  2011  Developing              59.2            275.0   \n\n   infant deaths  Alcohol  percentage expenditure  Hepatitis B  Measles   ...  \\\n0             62     0.01               71.279624         65.0      1154  ...   \n1             64     0.01               73.523582         62.0       492  ...   \n2             66     0.01               73.219243         64.0       430  ...   \n3             69     0.01               78.184215         67.0      2787  ...   \n4             71     0.01                7.097109         68.0      3013  ...   \n\n   Polio  Total expenditure  Diphtheria    HIV/AIDS         GDP  Population  \\\n0    6.0               8.16         65.0        0.1  584.259210  33736494.0   \n1   58.0               8.18         62.0        0.1  612.696514    327582.0   \n2   62.0               8.13         64.0        0.1  631.744976  31731688.0   \n3   67.0               8.52         67.0        0.1  669.959000   3696958.0   \n4   68.0               7.87         68.0        0.1   63.537231   2978599.0   \n\n    thinness  1-19 years   thinness 5-9 years  \\\n0                   17.2                 17.3   \n1                   17.5                 17.5   \n2                   17.7                 17.7   \n3                   17.9                 18.0   \n4                   18.2                 18.2   \n\n   Income composition of resources  Schooling  \n0                            0.479       10.1  \n1                            0.476       10.0  \n2                            0.470        9.9  \n3                            0.463        9.8  \n4                            0.454        9.5  \n\n[5 rows x 22 columns]",
      "text/html": "<div>\n<style scoped>\n    .dataframe tbody tr th:only-of-type {\n        vertical-align: middle;\n    }\n\n    .dataframe tbody tr th {\n        vertical-align: top;\n    }\n\n    .dataframe thead th {\n        text-align: right;\n    }\n</style>\n<table border=\"1\" class=\"dataframe\">\n  <thead>\n    <tr style=\"text-align: right;\">\n      <th></th>\n      <th>Country</th>\n      <th>Year</th>\n      <th>Status</th>\n      <th>Life expectancy</th>\n      <th>Adult Mortality</th>\n      <th>infant deaths</th>\n      <th>Alcohol</th>\n      <th>percentage expenditure</th>\n      <th>Hepatitis B</th>\n      <th>Measles</th>\n      <th>...</th>\n      <th>Polio</th>\n      <th>Total expenditure</th>\n      <th>Diphtheria</th>\n      <th>HIV/AIDS</th>\n      <th>GDP</th>\n      <th>Population</th>\n      <th>thinness  1-19 years</th>\n      <th>thinness 5-9 years</th>\n      <th>Income composition of resources</th>\n      <th>Schooling</th>\n    </tr>\n  </thead>\n  <tbody>\n    <tr>\n      <th>0</th>\n      <td>Afghanistan</td>\n      <td>2015</td>\n      <td>Developing</td>\n      <td>65.0</td>\n      <td>263.0</td>\n      <td>62</td>\n      <td>0.01</td>\n      <td>71.279624</td>\n      <td>65.0</td>\n      <td>1154</td>\n      <td>...</td>\n      <td>6.0</td>\n      <td>8.16</td>\n      <td>65.0</td>\n      <td>0.1</td>\n      <td>584.259210</td>\n      <td>33736494.0</td>\n      <td>17.2</td>\n      <td>17.3</td>\n      <td>0.479</td>\n      <td>10.1</td>\n    </tr>\n    <tr>\n      <th>1</th>\n      <td>Afghanistan</td>\n      <td>2014</td>\n      <td>Developing</td>\n      <td>59.9</td>\n      <td>271.0</td>\n      <td>64</td>\n      <td>0.01</td>\n      <td>73.523582</td>\n      <td>62.0</td>\n      <td>492</td>\n      <td>...</td>\n      <td>58.0</td>\n      <td>8.18</td>\n      <td>62.0</td>\n      <td>0.1</td>\n      <td>612.696514</td>\n      <td>327582.0</td>\n      <td>17.5</td>\n      <td>17.5</td>\n      <td>0.476</td>\n      <td>10.0</td>\n    </tr>\n    <tr>\n      <th>2</th>\n      <td>Afghanistan</td>\n      <td>2013</td>\n      <td>Developing</td>\n      <td>59.9</td>\n      <td>268.0</td>\n      <td>66</td>\n      <td>0.01</td>\n      <td>73.219243</td>\n      <td>64.0</td>\n      <td>430</td>\n      <td>...</td>\n      <td>62.0</td>\n      <td>8.13</td>\n      <td>64.0</td>\n      <td>0.1</td>\n      <td>631.744976</td>\n      <td>31731688.0</td>\n      <td>17.7</td>\n      <td>17.7</td>\n      <td>0.470</td>\n      <td>9.9</td>\n    </tr>\n    <tr>\n      <th>3</th>\n      <td>Afghanistan</td>\n      <td>2012</td>\n      <td>Developing</td>\n      <td>59.5</td>\n      <td>272.0</td>\n      <td>69</td>\n      <td>0.01</td>\n      <td>78.184215</td>\n      <td>67.0</td>\n      <td>2787</td>\n      <td>...</td>\n      <td>67.0</td>\n      <td>8.52</td>\n      <td>67.0</td>\n      <td>0.1</td>\n      <td>669.959000</td>\n      <td>3696958.0</td>\n      <td>17.9</td>\n      <td>18.0</td>\n      <td>0.463</td>\n      <td>9.8</td>\n    </tr>\n    <tr>\n      <th>4</th>\n      <td>Afghanistan</td>\n      <td>2011</td>\n      <td>Developing</td>\n      <td>59.2</td>\n      <td>275.0</td>\n      <td>71</td>\n      <td>0.01</td>\n      <td>7.097109</td>\n      <td>68.0</td>\n      <td>3013</td>\n      <td>...</td>\n      <td>68.0</td>\n      <td>7.87</td>\n      <td>68.0</td>\n      <td>0.1</td>\n      <td>63.537231</td>\n      <td>2978599.0</td>\n      <td>18.2</td>\n      <td>18.2</td>\n      <td>0.454</td>\n      <td>9.5</td>\n    </tr>\n  </tbody>\n</table>\n<p>5 rows × 22 columns</p>\n</div>"
     },
     "execution_count": 2,
     "metadata": {},
     "output_type": "execute_result"
    }
   ],
   "source": [
    "data = pd.read_csv(\"Life Expectancy Data.csv\")\n",
    "data.head()"
   ],
   "metadata": {
    "collapsed": false,
    "pycharm": {
     "name": "#%%\n"
    }
   }
  },
  {
   "cell_type": "code",
   "execution_count": 3,
   "outputs": [
    {
     "data": {
      "text/plain": "<bound method DataFrame.info of           Country  Year      Status  Life expectancy   Adult Mortality  \\\n0     Afghanistan  2015  Developing              65.0            263.0   \n1     Afghanistan  2014  Developing              59.9            271.0   \n2     Afghanistan  2013  Developing              59.9            268.0   \n3     Afghanistan  2012  Developing              59.5            272.0   \n4     Afghanistan  2011  Developing              59.2            275.0   \n...           ...   ...         ...               ...              ...   \n2933     Zimbabwe  2004  Developing              44.3            723.0   \n2934     Zimbabwe  2003  Developing              44.5            715.0   \n2935     Zimbabwe  2002  Developing              44.8             73.0   \n2936     Zimbabwe  2001  Developing              45.3            686.0   \n2937     Zimbabwe  2000  Developing              46.0            665.0   \n\n      infant deaths  Alcohol  percentage expenditure  Hepatitis B  Measles   \\\n0                62     0.01               71.279624         65.0      1154   \n1                64     0.01               73.523582         62.0       492   \n2                66     0.01               73.219243         64.0       430   \n3                69     0.01               78.184215         67.0      2787   \n4                71     0.01                7.097109         68.0      3013   \n...             ...      ...                     ...          ...       ...   \n2933             27     4.36                0.000000         68.0        31   \n2934             26     4.06                0.000000          7.0       998   \n2935             25     4.43                0.000000         73.0       304   \n2936             25     1.72                0.000000         76.0       529   \n2937             24     1.68                0.000000         79.0      1483   \n\n      ...  Polio  Total expenditure  Diphtheria    HIV/AIDS         GDP  \\\n0     ...    6.0               8.16         65.0        0.1  584.259210   \n1     ...   58.0               8.18         62.0        0.1  612.696514   \n2     ...   62.0               8.13         64.0        0.1  631.744976   \n3     ...   67.0               8.52         67.0        0.1  669.959000   \n4     ...   68.0               7.87         68.0        0.1   63.537231   \n...   ...    ...                ...          ...        ...         ...   \n2933  ...   67.0               7.13         65.0       33.6  454.366654   \n2934  ...    7.0               6.52         68.0       36.7  453.351155   \n2935  ...   73.0               6.53         71.0       39.8   57.348340   \n2936  ...   76.0               6.16         75.0       42.1  548.587312   \n2937  ...   78.0               7.10         78.0       43.5  547.358878   \n\n      Population   thinness  1-19 years   thinness 5-9 years  \\\n0     33736494.0                   17.2                 17.3   \n1       327582.0                   17.5                 17.5   \n2     31731688.0                   17.7                 17.7   \n3      3696958.0                   17.9                 18.0   \n4      2978599.0                   18.2                 18.2   \n...          ...                    ...                  ...   \n2933  12777511.0                    9.4                  9.4   \n2934  12633897.0                    9.8                  9.9   \n2935    125525.0                    1.2                  1.3   \n2936  12366165.0                    1.6                  1.7   \n2937  12222251.0                   11.0                 11.2   \n\n      Income composition of resources  Schooling  \n0                               0.479       10.1  \n1                               0.476       10.0  \n2                               0.470        9.9  \n3                               0.463        9.8  \n4                               0.454        9.5  \n...                               ...        ...  \n2933                            0.407        9.2  \n2934                            0.418        9.5  \n2935                            0.427       10.0  \n2936                            0.427        9.8  \n2937                            0.434        9.8  \n\n[2938 rows x 22 columns]>"
     },
     "execution_count": 3,
     "metadata": {},
     "output_type": "execute_result"
    }
   ],
   "source": [
    "data.info"
   ],
   "metadata": {
    "collapsed": false,
    "pycharm": {
     "name": "#%%\n"
    }
   }
  },
  {
   "cell_type": "code",
   "execution_count": 4,
   "outputs": [
    {
     "data": {
      "text/plain": "(2938, 22)"
     },
     "execution_count": 4,
     "metadata": {},
     "output_type": "execute_result"
    }
   ],
   "source": [
    "data.shape"
   ],
   "metadata": {
    "collapsed": false,
    "pycharm": {
     "name": "#%%\n"
    }
   }
  },
  {
   "cell_type": "code",
   "execution_count": 5,
   "outputs": [
    {
     "data": {
      "text/plain": "              Year  Life expectancy   Adult Mortality  infant deaths  \\\ncount  2938.000000       2928.000000      2928.000000    2938.000000   \nmean   2007.518720         69.224932       164.796448      30.303948   \nstd       4.613841          9.523867       124.292079     117.926501   \nmin    2000.000000         36.300000         1.000000       0.000000   \n25%    2004.000000         63.100000        74.000000       0.000000   \n50%    2008.000000         72.100000       144.000000       3.000000   \n75%    2012.000000         75.700000       228.000000      22.000000   \nmax    2015.000000         89.000000       723.000000    1800.000000   \n\n           Alcohol  percentage expenditure  Hepatitis B       Measles   \\\ncount  2744.000000             2938.000000  2385.000000    2938.000000   \nmean      4.602861              738.251295    80.940461    2419.592240   \nstd       4.052413             1987.914858    25.070016   11467.272489   \nmin       0.010000                0.000000     1.000000       0.000000   \n25%       0.877500                4.685343    77.000000       0.000000   \n50%       3.755000               64.912906    92.000000      17.000000   \n75%       7.702500              441.534144    97.000000     360.250000   \nmax      17.870000            19479.911610    99.000000  212183.000000   \n\n              BMI   under-five deaths         Polio  Total expenditure  \\\ncount  2904.000000         2938.000000  2919.000000         2712.00000   \nmean     38.321247           42.035739    82.550188            5.93819   \nstd      20.044034          160.445548    23.428046            2.49832   \nmin       1.000000            0.000000     3.000000            0.37000   \n25%      19.300000            0.000000    78.000000            4.26000   \n50%      43.500000            4.000000    93.000000            5.75500   \n75%      56.200000           28.000000    97.000000            7.49250   \nmax      87.300000         2500.000000    99.000000           17.60000   \n\n       Diphtheria      HIV/AIDS            GDP    Population  \\\ncount  2919.000000  2938.000000    2490.000000  2.286000e+03   \nmean     82.324084     1.742103    7483.158469  1.275338e+07   \nstd      23.716912     5.077785   14270.169342  6.101210e+07   \nmin       2.000000     0.100000       1.681350  3.400000e+01   \n25%      78.000000     0.100000     463.935626  1.957932e+05   \n50%      93.000000     0.100000    1766.947595  1.386542e+06   \n75%      97.000000     0.800000    5910.806335  7.420359e+06   \nmax      99.000000    50.600000  119172.741800  1.293859e+09   \n\n        thinness  1-19 years   thinness 5-9 years  \\\ncount            2904.000000          2904.000000   \nmean                4.839704             4.870317   \nstd                 4.420195             4.508882   \nmin                 0.100000             0.100000   \n25%                 1.600000             1.500000   \n50%                 3.300000             3.300000   \n75%                 7.200000             7.200000   \nmax                27.700000            28.600000   \n\n       Income composition of resources    Schooling  \ncount                      2771.000000  2775.000000  \nmean                          0.627551    11.992793  \nstd                           0.210904     3.358920  \nmin                           0.000000     0.000000  \n25%                           0.493000    10.100000  \n50%                           0.677000    12.300000  \n75%                           0.779000    14.300000  \nmax                           0.948000    20.700000  ",
      "text/html": "<div>\n<style scoped>\n    .dataframe tbody tr th:only-of-type {\n        vertical-align: middle;\n    }\n\n    .dataframe tbody tr th {\n        vertical-align: top;\n    }\n\n    .dataframe thead th {\n        text-align: right;\n    }\n</style>\n<table border=\"1\" class=\"dataframe\">\n  <thead>\n    <tr style=\"text-align: right;\">\n      <th></th>\n      <th>Year</th>\n      <th>Life expectancy</th>\n      <th>Adult Mortality</th>\n      <th>infant deaths</th>\n      <th>Alcohol</th>\n      <th>percentage expenditure</th>\n      <th>Hepatitis B</th>\n      <th>Measles</th>\n      <th>BMI</th>\n      <th>under-five deaths</th>\n      <th>Polio</th>\n      <th>Total expenditure</th>\n      <th>Diphtheria</th>\n      <th>HIV/AIDS</th>\n      <th>GDP</th>\n      <th>Population</th>\n      <th>thinness  1-19 years</th>\n      <th>thinness 5-9 years</th>\n      <th>Income composition of resources</th>\n      <th>Schooling</th>\n    </tr>\n  </thead>\n  <tbody>\n    <tr>\n      <th>count</th>\n      <td>2938.000000</td>\n      <td>2928.000000</td>\n      <td>2928.000000</td>\n      <td>2938.000000</td>\n      <td>2744.000000</td>\n      <td>2938.000000</td>\n      <td>2385.000000</td>\n      <td>2938.000000</td>\n      <td>2904.000000</td>\n      <td>2938.000000</td>\n      <td>2919.000000</td>\n      <td>2712.00000</td>\n      <td>2919.000000</td>\n      <td>2938.000000</td>\n      <td>2490.000000</td>\n      <td>2.286000e+03</td>\n      <td>2904.000000</td>\n      <td>2904.000000</td>\n      <td>2771.000000</td>\n      <td>2775.000000</td>\n    </tr>\n    <tr>\n      <th>mean</th>\n      <td>2007.518720</td>\n      <td>69.224932</td>\n      <td>164.796448</td>\n      <td>30.303948</td>\n      <td>4.602861</td>\n      <td>738.251295</td>\n      <td>80.940461</td>\n      <td>2419.592240</td>\n      <td>38.321247</td>\n      <td>42.035739</td>\n      <td>82.550188</td>\n      <td>5.93819</td>\n      <td>82.324084</td>\n      <td>1.742103</td>\n      <td>7483.158469</td>\n      <td>1.275338e+07</td>\n      <td>4.839704</td>\n      <td>4.870317</td>\n      <td>0.627551</td>\n      <td>11.992793</td>\n    </tr>\n    <tr>\n      <th>std</th>\n      <td>4.613841</td>\n      <td>9.523867</td>\n      <td>124.292079</td>\n      <td>117.926501</td>\n      <td>4.052413</td>\n      <td>1987.914858</td>\n      <td>25.070016</td>\n      <td>11467.272489</td>\n      <td>20.044034</td>\n      <td>160.445548</td>\n      <td>23.428046</td>\n      <td>2.49832</td>\n      <td>23.716912</td>\n      <td>5.077785</td>\n      <td>14270.169342</td>\n      <td>6.101210e+07</td>\n      <td>4.420195</td>\n      <td>4.508882</td>\n      <td>0.210904</td>\n      <td>3.358920</td>\n    </tr>\n    <tr>\n      <th>min</th>\n      <td>2000.000000</td>\n      <td>36.300000</td>\n      <td>1.000000</td>\n      <td>0.000000</td>\n      <td>0.010000</td>\n      <td>0.000000</td>\n      <td>1.000000</td>\n      <td>0.000000</td>\n      <td>1.000000</td>\n      <td>0.000000</td>\n      <td>3.000000</td>\n      <td>0.37000</td>\n      <td>2.000000</td>\n      <td>0.100000</td>\n      <td>1.681350</td>\n      <td>3.400000e+01</td>\n      <td>0.100000</td>\n      <td>0.100000</td>\n      <td>0.000000</td>\n      <td>0.000000</td>\n    </tr>\n    <tr>\n      <th>25%</th>\n      <td>2004.000000</td>\n      <td>63.100000</td>\n      <td>74.000000</td>\n      <td>0.000000</td>\n      <td>0.877500</td>\n      <td>4.685343</td>\n      <td>77.000000</td>\n      <td>0.000000</td>\n      <td>19.300000</td>\n      <td>0.000000</td>\n      <td>78.000000</td>\n      <td>4.26000</td>\n      <td>78.000000</td>\n      <td>0.100000</td>\n      <td>463.935626</td>\n      <td>1.957932e+05</td>\n      <td>1.600000</td>\n      <td>1.500000</td>\n      <td>0.493000</td>\n      <td>10.100000</td>\n    </tr>\n    <tr>\n      <th>50%</th>\n      <td>2008.000000</td>\n      <td>72.100000</td>\n      <td>144.000000</td>\n      <td>3.000000</td>\n      <td>3.755000</td>\n      <td>64.912906</td>\n      <td>92.000000</td>\n      <td>17.000000</td>\n      <td>43.500000</td>\n      <td>4.000000</td>\n      <td>93.000000</td>\n      <td>5.75500</td>\n      <td>93.000000</td>\n      <td>0.100000</td>\n      <td>1766.947595</td>\n      <td>1.386542e+06</td>\n      <td>3.300000</td>\n      <td>3.300000</td>\n      <td>0.677000</td>\n      <td>12.300000</td>\n    </tr>\n    <tr>\n      <th>75%</th>\n      <td>2012.000000</td>\n      <td>75.700000</td>\n      <td>228.000000</td>\n      <td>22.000000</td>\n      <td>7.702500</td>\n      <td>441.534144</td>\n      <td>97.000000</td>\n      <td>360.250000</td>\n      <td>56.200000</td>\n      <td>28.000000</td>\n      <td>97.000000</td>\n      <td>7.49250</td>\n      <td>97.000000</td>\n      <td>0.800000</td>\n      <td>5910.806335</td>\n      <td>7.420359e+06</td>\n      <td>7.200000</td>\n      <td>7.200000</td>\n      <td>0.779000</td>\n      <td>14.300000</td>\n    </tr>\n    <tr>\n      <th>max</th>\n      <td>2015.000000</td>\n      <td>89.000000</td>\n      <td>723.000000</td>\n      <td>1800.000000</td>\n      <td>17.870000</td>\n      <td>19479.911610</td>\n      <td>99.000000</td>\n      <td>212183.000000</td>\n      <td>87.300000</td>\n      <td>2500.000000</td>\n      <td>99.000000</td>\n      <td>17.60000</td>\n      <td>99.000000</td>\n      <td>50.600000</td>\n      <td>119172.741800</td>\n      <td>1.293859e+09</td>\n      <td>27.700000</td>\n      <td>28.600000</td>\n      <td>0.948000</td>\n      <td>20.700000</td>\n    </tr>\n  </tbody>\n</table>\n</div>"
     },
     "execution_count": 5,
     "metadata": {},
     "output_type": "execute_result"
    }
   ],
   "source": [
    "data.describe()"
   ],
   "metadata": {
    "collapsed": false,
    "pycharm": {
     "name": "#%%\n"
    }
   }
  },
  {
   "cell_type": "code",
   "execution_count": 6,
   "outputs": [
    {
     "data": {
      "text/plain": "Country                              0\nYear                                 0\nStatus                               0\nLife expectancy                     10\nAdult Mortality                     10\ninfant deaths                        0\nAlcohol                            194\npercentage expenditure               0\nHepatitis B                        553\nMeasles                              0\n BMI                                34\nunder-five deaths                    0\nPolio                               19\nTotal expenditure                  226\nDiphtheria                          19\n HIV/AIDS                            0\nGDP                                448\nPopulation                         652\n thinness  1-19 years               34\n thinness 5-9 years                 34\nIncome composition of resources    167\nSchooling                          163\ndtype: int64"
     },
     "execution_count": 6,
     "metadata": {},
     "output_type": "execute_result"
    }
   ],
   "source": [
    "data.isnull().sum()"
   ],
   "metadata": {
    "collapsed": false,
    "pycharm": {
     "name": "#%%\n"
    }
   }
  },
  {
   "cell_type": "markdown",
   "source": [
    "*fill null values with mean.*"
   ],
   "metadata": {
    "collapsed": false,
    "pycharm": {
     "name": "#%% md\n"
    }
   }
  },
  {
   "cell_type": "code",
   "execution_count": 7,
   "outputs": [],
   "source": [
    "data[['Adult Mortality', 'Alcohol', 'Hepatitis B', ' BMI ', 'Polio', 'Diphtheria ',\n",
    "      ' HIV/AIDS','Population', ' thinness  1-19 years', ' thinness 5-9 years', 'Life expectancy ',\n",
    "      'Total expenditure', 'Income composition of resources', 'Schooling', 'GDP']] =\\\n",
    "    data[['Adult Mortality', 'Alcohol', 'Hepatitis B', ' BMI ', 'Polio', 'Diphtheria ',\n",
    "          ' HIV/AIDS', 'Population', ' thinness  1-19 years', ' thinness 5-9 years', 'Life expectancy ',\n",
    "          'Total expenditure', 'Income composition of resources', 'Schooling', 'GDP']].transform(lambda x: x.fillna(x.mean()))"
   ],
   "metadata": {
    "collapsed": false,
    "pycharm": {
     "name": "#%%\n"
    }
   }
  },
  {
   "cell_type": "code",
   "execution_count": 8,
   "outputs": [
    {
     "data": {
      "text/plain": "Country                            0\nYear                               0\nStatus                             0\nLife expectancy                    0\nAdult Mortality                    0\ninfant deaths                      0\nAlcohol                            0\npercentage expenditure             0\nHepatitis B                        0\nMeasles                            0\n BMI                               0\nunder-five deaths                  0\nPolio                              0\nTotal expenditure                  0\nDiphtheria                         0\n HIV/AIDS                          0\nGDP                                0\nPopulation                         0\n thinness  1-19 years              0\n thinness 5-9 years                0\nIncome composition of resources    0\nSchooling                          0\ndtype: int64"
     },
     "execution_count": 8,
     "metadata": {},
     "output_type": "execute_result"
    }
   ],
   "source": [
    "data.isnull().sum()"
   ],
   "metadata": {
    "collapsed": false,
    "pycharm": {
     "name": "#%%\n"
    }
   }
  },
  {
   "cell_type": "markdown",
   "source": [
    "## Detecting And Removing Outliers"
   ],
   "metadata": {
    "collapsed": false,
    "pycharm": {
     "name": "#%% md\n"
    }
   }
  },
  {
   "cell_type": "code",
   "execution_count": 9,
   "outputs": [],
   "source": [
    "def outlier(data):\n",
    "    for column in data.columns:\n",
    "        if column == 'Adult Mortality' or column == 'Alcohol' or column == ' BMI ' or column == 'Polio' or column == 'Total expenditure' or column == 'Diphtheria ' or column == ' HIV/AIDS' or column == 'GDP' or column == ' thinness  1-19 years' or column == ' thinness 5-9 years' or column == 'Income composition of resources' or column == 'Schooling':\n",
    "            q1, q3 = np.percentile(data[column], [25, 75])\n",
    "            iqr = q3 - q1\n",
    "            lower_bound = q1 - (1.5 * iqr)\n",
    "            upper_bound = q3 + (1.5 * iqr)\n",
    "            outliers = data[column][(data[column] < lower_bound) | (data[column] > upper_bound)]\n",
    "            data1 = data[column][(data[column] >= lower_bound) & (data[column] <= upper_bound)]\n",
    "            data[column]= data1\n",
    "    return data"
   ],
   "metadata": {
    "collapsed": false,
    "pycharm": {
     "name": "#%%\n"
    }
   }
  },
  {
   "cell_type": "code",
   "execution_count": 10,
   "outputs": [
    {
     "data": {
      "text/plain": "(2938, 22)"
     },
     "execution_count": 10,
     "metadata": {},
     "output_type": "execute_result"
    }
   ],
   "source": [
    "data = outlier(data)\n",
    "data.shape"
   ],
   "metadata": {
    "collapsed": false,
    "pycharm": {
     "name": "#%%\n"
    }
   }
  },
  {
   "cell_type": "code",
   "execution_count": 11,
   "outputs": [
    {
     "name": "stdout",
     "output_type": "stream",
     "text": [
      "<class 'pandas.core.frame.DataFrame'>\n",
      "RangeIndex: 2938 entries, 0 to 2937\n",
      "Data columns (total 22 columns):\n",
      " #   Column                           Non-Null Count  Dtype  \n",
      "---  ------                           --------------  -----  \n",
      " 0   Country                          2938 non-null   object \n",
      " 1   Year                             2938 non-null   int64  \n",
      " 2   Status                           2938 non-null   object \n",
      " 3   Life expectancy                  2938 non-null   float64\n",
      " 4   Adult Mortality                  2852 non-null   float64\n",
      " 5   infant deaths                    2938 non-null   int64  \n",
      " 6   Alcohol                          2935 non-null   float64\n",
      " 7   percentage expenditure           2938 non-null   float64\n",
      " 8   Hepatitis B                      2938 non-null   float64\n",
      " 9   Measles                          2938 non-null   int64  \n",
      " 10   BMI                             2938 non-null   float64\n",
      " 11  under-five deaths                2938 non-null   int64  \n",
      " 12  Polio                            2659 non-null   float64\n",
      " 13  Total expenditure                2887 non-null   float64\n",
      " 14  Diphtheria                       2640 non-null   float64\n",
      " 15   HIV/AIDS                        2396 non-null   float64\n",
      " 16  GDP                              2638 non-null   float64\n",
      " 17  Population                       2938 non-null   float64\n",
      " 18   thinness  1-19 years            2838 non-null   float64\n",
      " 19   thinness 5-9 years              2839 non-null   float64\n",
      " 20  Income composition of resources  2808 non-null   float64\n",
      " 21  Schooling                        2861 non-null   float64\n",
      "dtypes: float64(16), int64(4), object(2)\n",
      "memory usage: 505.1+ KB\n"
     ]
    }
   ],
   "source": [
    "data.info()"
   ],
   "metadata": {
    "collapsed": false,
    "pycharm": {
     "name": "#%%\n"
    }
   }
  },
  {
   "cell_type": "code",
   "execution_count": 12,
   "outputs": [
    {
     "data": {
      "text/plain": "Country                              0\nYear                                 0\nStatus                               0\nLife expectancy                      0\nAdult Mortality                     86\ninfant deaths                        0\nAlcohol                              3\npercentage expenditure               0\nHepatitis B                          0\nMeasles                              0\n BMI                                 0\nunder-five deaths                    0\nPolio                              279\nTotal expenditure                   51\nDiphtheria                         298\n HIV/AIDS                          542\nGDP                                300\nPopulation                           0\n thinness  1-19 years              100\n thinness 5-9 years                 99\nIncome composition of resources    130\nSchooling                           77\ndtype: int64"
     },
     "execution_count": 12,
     "metadata": {},
     "output_type": "execute_result"
    }
   ],
   "source": [
    "data.isnull().sum()"
   ],
   "metadata": {
    "collapsed": false,
    "pycharm": {
     "name": "#%%\n"
    }
   }
  },
  {
   "cell_type": "markdown",
   "source": [
    "*Null values will be removed with mean values*"
   ],
   "metadata": {
    "collapsed": false,
    "pycharm": {
     "name": "#%% md\n"
    }
   }
  },
  {
   "cell_type": "code",
   "execution_count": 15,
   "outputs": [],
   "source": [
    "data[['Adult Mortality', 'Alcohol', 'Hepatitis B', ' BMI ', 'Polio', 'Diphtheria ',\n",
    "      ' HIV/AIDS','Population', ' thinness  1-19 years', ' thinness 5-9 years', 'Life expectancy ',\n",
    "      'Total expenditure', 'Income composition of resources', 'Schooling', 'GDP']] =\\\n",
    "    data[['Adult Mortality', 'Alcohol', 'Hepatitis B', ' BMI ', 'Polio', 'Diphtheria ',\n",
    "          ' HIV/AIDS', 'Population', ' thinness  1-19 years', ' thinness 5-9 years', 'Life expectancy ',\n",
    "          'Total expenditure', 'Income composition of resources', 'Schooling', 'GDP']].transform(lambda x: x.fillna(x.mean()))"
   ],
   "metadata": {
    "collapsed": false,
    "pycharm": {
     "name": "#%%\n"
    }
   }
  },
  {
   "cell_type": "code",
   "execution_count": 16,
   "outputs": [
    {
     "data": {
      "text/plain": "Country                            0\nYear                               0\nStatus                             0\nLife expectancy                    0\nAdult Mortality                    0\ninfant deaths                      0\nAlcohol                            0\npercentage expenditure             0\nHepatitis B                        0\nMeasles                            0\n BMI                               0\nunder-five deaths                  0\nPolio                              0\nTotal expenditure                  0\nDiphtheria                         0\n HIV/AIDS                          0\nGDP                                0\nPopulation                         0\n thinness  1-19 years              0\n thinness 5-9 years                0\nIncome composition of resources    0\nSchooling                          0\ndtype: int64"
     },
     "execution_count": 16,
     "metadata": {},
     "output_type": "execute_result"
    }
   ],
   "source": [
    "data.isnull().sum()"
   ],
   "metadata": {
    "collapsed": false,
    "pycharm": {
     "name": "#%%\n"
    }
   }
  },
  {
   "cell_type": "code",
   "execution_count": 14,
   "outputs": [],
   "source": [],
   "metadata": {
    "collapsed": false,
    "pycharm": {
     "name": "#%%\n"
    }
   }
  }
 ],
 "metadata": {
  "kernelspec": {
   "display_name": "Python 3",
   "language": "python",
   "name": "python3"
  },
  "language_info": {
   "codemirror_mode": {
    "name": "ipython",
    "version": 2
   },
   "file_extension": ".py",
   "mimetype": "text/x-python",
   "name": "python",
   "nbconvert_exporter": "python",
   "pygments_lexer": "ipython2",
   "version": "2.7.6"
  }
 },
 "nbformat": 4,
 "nbformat_minor": 0
}
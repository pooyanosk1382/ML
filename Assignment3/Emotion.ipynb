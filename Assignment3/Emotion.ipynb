{
 "cells": [
  {
   "cell_type": "code",
   "execution_count": 1,
   "metadata": {
    "collapsed": true,
    "ExecuteTime": {
     "end_time": "2024-06-04T10:36:30.615149900Z",
     "start_time": "2024-06-04T10:36:30.614143800Z"
    }
   },
   "outputs": [],
   "source": [
    "import numpy as np\n",
    "import pandas as pd\n",
    "import matplotlib.pyplot as plt\n",
    "import seaborn as sns"
   ]
  },
  {
   "cell_type": "markdown",
   "source": [
    "Before anything we add a name for each column to make them meaningful and easy to use."
   ],
   "metadata": {
    "collapsed": false
   }
  },
  {
   "cell_type": "code",
   "execution_count": 2,
   "outputs": [
    {
     "data": {
      "text/plain": "                                               Sentence Emotion\n0     کی گفته مرد گریه نمیکنه!؟!؟ سیلم امشب سیل #اصفهان     SAD\n1     عکسی که چند روز پیش گذاشته بودم این فیلم الانش...   OTHER\n2     تنهاییم شبیه تنهاییه ظهرای بچگیم شده وقتی که ه...     SAD\n3              خوبه تمام قسمت‌های گوشی رو محافظت می‌کنه   HAPPY\n4     این خاک مال مردمان است نه حاکمان #ایران #مهسا_...   ANGRY\n...                                                 ...     ...\n4919  من از بو و ماندگاریش راضی بودم ، قیمتش هم‌ مناسبه   HAPPY\n4920  گاز نداریم آب نداریم برق نداریم نت نداریم پول ...     SAD\n4921  یکی بهم گفت برنو چرا عاشق نمیشی گفتم ما پول عا...     SAD\n4922  زیادی داریم به قضیه ی گاز میپردازیم فقط فراخوا...   OTHER\n4923  سلام. خیلی مواظبت کنید این ویروس کوفتی رو‌ نگی...     SAD\n\n[4924 rows x 2 columns]",
      "text/html": "<div>\n<style scoped>\n    .dataframe tbody tr th:only-of-type {\n        vertical-align: middle;\n    }\n\n    .dataframe tbody tr th {\n        vertical-align: top;\n    }\n\n    .dataframe thead th {\n        text-align: right;\n    }\n</style>\n<table border=\"1\" class=\"dataframe\">\n  <thead>\n    <tr style=\"text-align: right;\">\n      <th></th>\n      <th>Sentence</th>\n      <th>Emotion</th>\n    </tr>\n  </thead>\n  <tbody>\n    <tr>\n      <th>0</th>\n      <td>کی گفته مرد گریه نمیکنه!؟!؟ سیلم امشب سیل #اصفهان</td>\n      <td>SAD</td>\n    </tr>\n    <tr>\n      <th>1</th>\n      <td>عکسی که چند روز پیش گذاشته بودم این فیلم الانش...</td>\n      <td>OTHER</td>\n    </tr>\n    <tr>\n      <th>2</th>\n      <td>تنهاییم شبیه تنهاییه ظهرای بچگیم شده وقتی که ه...</td>\n      <td>SAD</td>\n    </tr>\n    <tr>\n      <th>3</th>\n      <td>خوبه تمام قسمت‌های گوشی رو محافظت می‌کنه</td>\n      <td>HAPPY</td>\n    </tr>\n    <tr>\n      <th>4</th>\n      <td>این خاک مال مردمان است نه حاکمان #ایران #مهسا_...</td>\n      <td>ANGRY</td>\n    </tr>\n    <tr>\n      <th>...</th>\n      <td>...</td>\n      <td>...</td>\n    </tr>\n    <tr>\n      <th>4919</th>\n      <td>من از بو و ماندگاریش راضی بودم ، قیمتش هم‌ مناسبه</td>\n      <td>HAPPY</td>\n    </tr>\n    <tr>\n      <th>4920</th>\n      <td>گاز نداریم آب نداریم برق نداریم نت نداریم پول ...</td>\n      <td>SAD</td>\n    </tr>\n    <tr>\n      <th>4921</th>\n      <td>یکی بهم گفت برنو چرا عاشق نمیشی گفتم ما پول عا...</td>\n      <td>SAD</td>\n    </tr>\n    <tr>\n      <th>4922</th>\n      <td>زیادی داریم به قضیه ی گاز میپردازیم فقط فراخوا...</td>\n      <td>OTHER</td>\n    </tr>\n    <tr>\n      <th>4923</th>\n      <td>سلام. خیلی مواظبت کنید این ویروس کوفتی رو‌ نگی...</td>\n      <td>SAD</td>\n    </tr>\n  </tbody>\n</table>\n<p>4924 rows × 2 columns</p>\n</div>"
     },
     "execution_count": 2,
     "metadata": {},
     "output_type": "execute_result"
    }
   ],
   "source": [
    "data = pd.read_csv('train_data.csv')\n",
    "data"
   ],
   "metadata": {
    "collapsed": false,
    "ExecuteTime": {
     "end_time": "2024-06-04T10:36:30.762661500Z",
     "start_time": "2024-06-04T10:36:30.615149900Z"
    }
   }
  },
  {
   "cell_type": "code",
   "execution_count": 3,
   "outputs": [
    {
     "data": {
      "text/plain": "(4924, 2)"
     },
     "execution_count": 3,
     "metadata": {},
     "output_type": "execute_result"
    }
   ],
   "source": [
    "data.shape"
   ],
   "metadata": {
    "collapsed": false,
    "ExecuteTime": {
     "end_time": "2024-06-04T10:36:30.770532Z",
     "start_time": "2024-06-04T10:36:30.762661500Z"
    }
   }
  },
  {
   "cell_type": "code",
   "execution_count": 4,
   "outputs": [
    {
     "data": {
      "text/plain": "Sentence    0\nEmotion     0\ndtype: int64"
     },
     "execution_count": 4,
     "metadata": {},
     "output_type": "execute_result"
    }
   ],
   "source": [
    "data.isnull().sum()"
   ],
   "metadata": {
    "collapsed": false,
    "ExecuteTime": {
     "end_time": "2024-06-04T10:36:30.782697100Z",
     "start_time": "2024-06-04T10:36:30.770532Z"
    }
   }
  },
  {
   "cell_type": "code",
   "execution_count": 5,
   "outputs": [
    {
     "data": {
      "text/plain": "<AxesSubplot: >"
     },
     "execution_count": 5,
     "metadata": {},
     "output_type": "execute_result"
    },
    {
     "data": {
      "text/plain": "<Figure size 640x480 with 1 Axes>",
      "image/png": "[encoded data removed]"
     },
     "metadata": {},
     "output_type": "display_data"
    }
   ],
   "source": [
    "plot_df = data.Emotion.value_counts()\n",
    "plot_df.plot(kind=\"bar\")"
   ],
   "metadata": {
    "collapsed": false,
    "ExecuteTime": {
     "end_time": "2024-06-04T10:36:31.023346800Z",
     "start_time": "2024-06-04T10:36:30.782697100Z"
    }
   }
  },
  {
   "cell_type": "code",
   "execution_count": 6,
   "outputs": [
    {
     "name": "stdout",
     "output_type": "stream",
     "text": [
      "210\n",
      "{'♥', '’', '[', 'ش', '_', '“', '٦', '⚽', 'Y', 'آ', '*', '3', 'y', 'ة', '°', '=', 'ق', '.', 'I', 'K', 'ۀ', 'z', 'c', 'H', 'R', '✋', '۹', 'ژ', '۲', 'ج', 'S', 'ِ', '/', 'ʏ', '^', 'گ', 'P', 'Q', '✨', 'g', '&', 'ᴏ', 'چ', 'س', '۱', '0', 'ـ', 'A', '♂', 'و', 'غ', '️', ']', '☠', 'د', 'w', 'h', 'F', '❤', 'ؤ', ' ', 'u', 'k', 'n', '#', '‐', '”', '8', 'ر', 'ئ', '9', 'd', '?', 'ف', '؟', '✍', 'p', 'V', 'ا', '☄', '۳', 'ع', 'خ', '6', '۰', 't', '\\n', 'م', 'ى', 'E', '⃟', 'ي', '۸', 'ّ', 'x', '☺', '4', 'O', '⁉', 'ز', '⭕', '!', '☘', '⭐', 'ی', 'ط', 'N', '⚘', 'ُ', '۴', 'j', 'D', '+', 'Z', 'َ', 'ᴛ', ',', 'B', 'ً', 'a', 'l', 'ᴇ', 'e', 'M', 'U', '…', 'v', 'm', '|', '\\u200c', '⛓', '¹', 'ه', '؛', '%', '•', '\\u2066', '١', 'T', '٣', '♀', '⊰', 'b', '(', '✌', 'ْ', 'ټ', '‘', '۶', '7', ')', ';', 'ہ', '\\u200d', '5', 'ت', 'ە', '٪', 'J', 'ء', ':', 'ص', 'ل', '۷', '\\u2067', '٠', '٫', '٢', '✅', '❄', '2', '»', 'o', '}', 'ھ', 'L', 'f', 'ٔ', '1', 'W', '☹', 'پ', '☝', 'i', 'G', 'ح', '۔', '،', 'r', '۵', 'ے', '~', '\\u2069', 'ك', 's', 'ب', '-', 'ض', 'ک', 'ن', '٬', 'ذ', '²', 'ɴ', 'q', 'C', 'ث', 'أ', '«', 'ظ'}\n"
     ]
    }
   ],
   "source": [
    "uniqueChars = set(''.join(data['Sentence']))\n",
    "print(len(uniqueChars))\n",
    "print(uniqueChars)"
   ],
   "metadata": {
    "collapsed": false,
    "ExecuteTime": {
     "end_time": "2024-06-04T10:36:31.023346800Z",
     "start_time": "2024-06-04T10:36:30.993512600Z"
    }
   }
  },
  {
   "cell_type": "markdown",
   "source": [
    "As we can see there are capital and small letter. Also, there are three kind of 'ی' for only one char and there are persian and english numbers. We have to handle all of them."
   ],
   "metadata": {
    "collapsed": false
   }
  },
  {
   "cell_type": "code",
   "execution_count": 7,
   "outputs": [
    {
     "name": "stdout",
     "output_type": "stream",
     "text": [
      "185\n",
      "{'♥', '’', '[', 'ش', '_', '“', '٦', '⚽', 'آ', '*', '3', 'y', 'ة', '°', '=', 'ق', '.', 'ۀ', 'z', 'c', '✋', '۹', 'ژ', '۲', 'ج', 'ِ', '/', 'ʏ', '^', 'گ', '✨', 'g', '&', 'ᴏ', 'چ', 'س', '۱', '0', 'ـ', '♂', 'و', 'غ', '️', ']', '☠', 'د', 'w', 'h', '❤', 'ؤ', ' ', 'u', 'k', 'n', '#', '‐', '”', '8', 'ر', 'ئ', '9', 'd', '?', 'ف', '؟', '✍', 'p', '☄', 'ا', '۳', 'ع', 'خ', '6', '۰', 't', '\\n', 'م', 'ى', '⃟', 'ي', '۸', 'ّ', 'x', '☺', '4', '⁉', 'ز', '⭕', '!', '☘', '⭐', 'ی', 'ط', '⚘', 'ُ', '۴', 'j', '+', 'َ', 'ᴛ', ',', 'ً', 'a', 'l', 'ᴇ', 'e', '|', '…', 'v', 'm', '¹', '\\u200c', '⛓', 'ه', '؛', '%', '•', '\\u2066', '١', '٣', '♀', '⊰', 'b', '(', '✌', 'ْ', 'ټ', '‘', '۶', '7', ')', ';', 'ہ', '\\u200d', '5', 'ت', 'ە', '٪', 'ء', ':', 'ص', 'ل', '۷', '\\u2067', '٠', '٫', '٢', '✅', '❄', '2', '»', 'o', '}', 'ھ', 'f', 'ٔ', '1', '☹', 'پ', '☝', 'i', 'ح', '۔', '،', 'r', '۵', 'ے', '~', '\\u2069', 'ك', 's', 'ب', '-', 'ض', 'ک', 'ن', '٬', 'ذ', '²', 'ɴ', 'q', 'ث', 'أ', '«', 'ظ'}\n"
     ]
    }
   ],
   "source": [
    "data['Sentence'] = data['Sentence'].str.lower()\n",
    "uniqueChars = set(''.join(data['Sentence']))\n",
    "print(len(uniqueChars))\n",
    "print(uniqueChars)"
   ],
   "metadata": {
    "collapsed": false,
    "ExecuteTime": {
     "end_time": "2024-06-04T10:36:31.044008100Z",
     "start_time": "2024-06-04T10:36:31.015839600Z"
    }
   }
  },
  {
   "cell_type": "code",
   "execution_count": 8,
   "outputs": [
    {
     "name": "stdout",
     "output_type": "stream",
     "text": [
      "174\n",
      "{'♥', '’', '[', 'ش', '_', '“', '⚽', 'آ', '*', '3', 'y', 'ة', '°', '=', 'ق', '.', 'ۀ', 'z', 'c', '✋', 'ژ', 'ج', 'ِ', '/', 'ʏ', '^', 'گ', '✨', 'g', '&', 'ᴏ', 'چ', 'س', '0', 'ـ', '♂', 'و', 'غ', '️', ']', '☠', 'د', 'w', 'h', '❤', 'ؤ', ' ', 'u', 'k', 'n', '#', '‐', '8', '”', 'ر', 'ئ', '9', 'd', '?', 'ف', '؟', '✍', 'p', '☄', 'ا', 'ع', 'خ', '6', 't', '\\n', 'م', 'ى', '⃟', 'ي', 'x', 'ّ', '⁉', '☺', '4', 'ز', '⭕', '!', '☘', '⭐', 'ی', 'ط', '⚘', 'ُ', 'j', '+', 'َ', 'ᴛ', ',', 'ً', 'a', 'l', 'ᴇ', 'e', '|', '…', 'v', 'm', '¹', '\\u200c', '⛓', 'ه', '؛', '%', '•', '\\u2066', '١', '٣', '♀', '⊰', 'b', '(', '✌', 'ْ', 'ټ', '‘', '7', ')', ';', 'ہ', '\\u200d', '5', 'ت', 'ە', '٪', 'ء', ':', 'ص', 'ل', '\\u2067', '٠', '٫', '٢', '✅', '❄', '2', '»', 'o', '}', 'ھ', 'f', 'ٔ', '1', '☹', 'پ', '☝', 'i', 'ح', '۔', '،', 'r', 'ے', '~', '\\u2069', 'ك', 's', 'ب', '-', 'ض', 'ک', 'ن', '٬', 'ذ', '²', 'ɴ', 'q', 'ث', 'أ', '«', 'ظ'}\n"
     ]
    }
   ],
   "source": [
    "def convert_persian_to_english(text):\n",
    "    persian_digits = '۰۱۲۳۴۵۶۷۸۹٦'\n",
    "    english_digits = '01234567896'\n",
    "    translation_table = str.maketrans(persian_digits, english_digits)\n",
    "    return text.translate(translation_table)\n",
    "\n",
    "# Apply the function to the 'text' column\n",
    "data['Sentence'] = data['Sentence'].apply(convert_persian_to_english)\n",
    "uniqueChars = set(''.join(data['Sentence']))\n",
    "print(len(uniqueChars))\n",
    "print(uniqueChars)"
   ],
   "metadata": {
    "collapsed": false,
    "ExecuteTime": {
     "end_time": "2024-06-04T10:36:31.211918300Z",
     "start_time": "2024-06-04T10:36:31.044008100Z"
    }
   }
  },
  {
   "cell_type": "markdown",
   "source": [
    "Now we handle the numbers and upper cases."
   ],
   "metadata": {
    "collapsed": false
   }
  },
  {
   "cell_type": "code",
   "execution_count": 9,
   "outputs": [
    {
     "name": "stdout",
     "output_type": "stream",
     "text": [
      "170\n",
      "{'♥', '’', '[', 'ش', '_', '“', '⚽', 'آ', '*', '3', 'y', 'ة', '°', '=', 'ق', '.', 'ۀ', 'z', 'c', '✋', 'ژ', 'ج', 'ِ', '/', 'ʏ', '^', 'گ', '✨', 'g', '&', 'ᴏ', 'چ', 'س', '0', 'ـ', '♂', 'و', 'غ', '️', ']', '☠', 'د', 'w', 'h', '❤', 'ؤ', ' ', 'u', 'k', 'n', '#', '‐', '8', '”', 'ر', '9', 'd', '?', 'ف', '؟', '✍', 'p', '☄', 'ا', 'ع', 'خ', '6', 't', '\\n', 'م', '⃟', 'x', '⁉', 'ّ', '☺', '4', 'ز', '⭕', '!', '☘', '⭐', 'ی', 'ط', '⚘', 'ُ', 'j', '+', 'َ', 'ᴛ', ',', 'ً', 'a', 'l', 'ᴇ', 'e', '|', '…', 'v', 'm', '¹', '\\u200c', '⛓', 'ه', '؛', '%', '•', '\\u2066', '١', '٣', '♀', '⊰', 'b', '(', '✌', 'ْ', 'ټ', '‘', '7', ')', ';', 'ہ', '\\u200d', '5', 'ت', 'ە', '٪', 'ء', ':', 'ص', 'ل', '\\u2067', '٠', '٫', '٢', '✅', '❄', '2', '»', 'o', '}', 'ھ', 'f', 'ٔ', '1', '☹', 'پ', '☝', 'i', 'ح', '۔', '،', 'r', '~', '\\u2069', 'ك', 's', 'ب', '-', 'ض', 'ک', 'ن', '٬', 'ذ', '²', 'ɴ', 'q', 'ث', 'أ', '«', 'ظ'}\n"
     ]
    }
   ],
   "source": [
    "def normalize_yeh(text):\n",
    "    # The three types of \"ی\" in Persian: ی, ي, ے, ئ\n",
    "    yeh_characters = ['ی', 'ي', 'ے', 'ئ', 'ى']\n",
    "    # Convert all types of \"ی\" to the standard \"ی\"\n",
    "    for char in yeh_characters:\n",
    "        text = text.replace(char, 'ی')\n",
    "    return text\n",
    "\n",
    "# Apply the normalization function to the 'text' column\n",
    "data['Sentence'] = data['Sentence'].apply(normalize_yeh)\n",
    "uniqueChars = set(''.join(data['Sentence']))\n",
    "print(len(uniqueChars))\n",
    "print(uniqueChars)"
   ],
   "metadata": {
    "collapsed": false,
    "ExecuteTime": {
     "end_time": "2024-06-04T10:36:31.211918300Z",
     "start_time": "2024-06-04T10:36:31.121252800Z"
    }
   }
  },
  {
   "cell_type": "code",
   "execution_count": 10,
   "outputs": [
    {
     "name": "stdout",
     "output_type": "stream",
     "text": [
      "Accuracy: 0.61\n",
      "F1-score: 0.61\n"
     ]
    }
   ],
   "source": [
    "import pandas as pd\n",
    "from sklearn.model_selection import train_test_split\n",
    "from sklearn.feature_extraction.text import TfidfVectorizer\n",
    "from sklearn.linear_model import LogisticRegression\n",
    "from sklearn.metrics import accuracy_score, f1_score\n",
    "import re\n",
    "\n",
    "# Load your dataset\n",
    "df = pd.read_csv('train_data.csv')\n",
    "\n",
    "# Preprocess the text data\n",
    "def preprocess_text(text):\n",
    "    # Normalize Persian characters\n",
    "    text = normalize_persian(text)\n",
    "\n",
    "    # Convert to lowercase\n",
    "    text = text.lower()\n",
    "\n",
    "    # Add more preprocessing steps as needed\n",
    "\n",
    "    return text\n",
    "\n",
    "def normalize_persian(text):\n",
    "    # Define a function to normalize Persian characters\n",
    "    persian_digits = '۰۱۲۳۴۵۶۷۸۹٦'\n",
    "    english_digits = '01234567896'\n",
    "    yeh_characters = ['ی', 'ي', 'ے', 'ئ', 'ى']\n",
    "\n",
    "    text = text.translate(str.maketrans(persian_digits, english_digits))\n",
    "    for char in yeh_characters:\n",
    "        text = text.replace(char, 'ی')\n",
    "\n",
    "    return text\n",
    "\n",
    "# Preprocess the text data\n",
    "df['Sentence'] = df['Sentence'].apply(preprocess_text)\n",
    "\n",
    "# Split the dataset into training and test sets\n",
    "X_train, X_test, y_train, y_test = train_test_split(df['Sentence'], df['Emotion'], test_size=0.2, random_state=42)\n",
    "\n",
    "# Extract features using TF-IDF\n",
    "tfidf = TfidfVectorizer()\n",
    "X_train_tfidf = tfidf.fit_transform(X_train)\n",
    "X_test_tfidf = tfidf.transform(X_test)\n",
    "\n",
    "# Train a logistic regression model\n",
    "model = LogisticRegression()\n",
    "model.fit(X_train_tfidf, y_train)\n",
    "\n",
    "# Evaluate the model on the test set\n",
    "y_pred = model.predict(X_test_tfidf)\n",
    "accuracy = accuracy_score(y_test, y_pred)\n",
    "f1 = f1_score(y_test, y_pred, average='weighted')\n",
    "\n",
    "print(f'Accuracy: {accuracy:.2f}')\n",
    "print(f'F1-score: {f1:.2f}')\n"
   ],
   "metadata": {
    "collapsed": false,
    "ExecuteTime": {
     "end_time": "2024-06-04T10:36:32.386319200Z",
     "start_time": "2024-06-04T10:36:31.121252800Z"
    }
   }
  },
  {
   "cell_type": "code",
   "execution_count": 11,
   "outputs": [
    {
     "name": "stdout",
     "output_type": "stream",
     "text": [
      "Accuracy: 0.58\n",
      "F1-score: 0.57\n"
     ]
    }
   ],
   "source": [
    "import pandas as pd\n",
    "from sklearn.model_selection import train_test_split\n",
    "from sklearn.feature_extraction.text import TfidfVectorizer\n",
    "from sklearn.linear_model import LogisticRegression\n",
    "from sklearn.metrics import accuracy_score, f1_score\n",
    "import re\n",
    "from sklearn.ensemble import RandomForestClassifier\n",
    "\n",
    "# Load your dataset\n",
    "df = pd.read_csv('train_data.csv')\n",
    "\n",
    "# Preprocess the text data\n",
    "def preprocess_text(text):\n",
    "    # Normalize Persian characters\n",
    "    text = normalize_persian(text)\n",
    "\n",
    "    # Convert to lowercase\n",
    "    text = text.lower()\n",
    "\n",
    "    # Add more preprocessing steps as needed\n",
    "\n",
    "    return text\n",
    "\n",
    "def normalize_persian(text):\n",
    "    # Define a function to normalize Persian characters\n",
    "    persian_digits = '۰۱۲۳۴۵۶۷۸۹٦'\n",
    "    english_digits = '01234567896'\n",
    "    yeh_characters = ['ی', 'ي', 'ے', 'ئ', 'ى']\n",
    "\n",
    "    text = text.translate(str.maketrans(persian_digits, english_digits))\n",
    "    for char in yeh_characters:\n",
    "        text = text.replace(char, 'ی')\n",
    "\n",
    "    return text\n",
    "\n",
    "# Preprocess the text data\n",
    "df['Sentence'] = df['Sentence'].apply(preprocess_text)\n",
    "\n",
    "# Split the dataset into training and test sets\n",
    "X_train, X_test, y_train, y_test = train_test_split(df['Sentence'], df['Emotion'], test_size=0.2, random_state=42)\n",
    "\n",
    "# Extract features using TF-IDF\n",
    "tfidf = TfidfVectorizer()\n",
    "X_train_tfidf = tfidf.fit_transform(X_train)\n",
    "X_test_tfidf = tfidf.transform(X_test)\n",
    "\n",
    "# Train a logistic regression model\n",
    "model = RandomForestClassifier()\n",
    "model.fit(X_train_tfidf, y_train)\n",
    "\n",
    "# Evaluate the model on the test set\n",
    "y_pred = model.predict(X_test_tfidf)\n",
    "accuracy = accuracy_score(y_test, y_pred)\n",
    "f1 = f1_score(y_test, y_pred, average='weighted')\n",
    "\n",
    "print(f'Accuracy: {accuracy:.2f}')\n",
    "print(f'F1-score: {f1:.2f}')\n"
   ],
   "metadata": {
    "collapsed": false,
    "ExecuteTime": {
     "end_time": "2024-06-04T10:36:43.946168400Z",
     "start_time": "2024-06-04T10:36:32.386319200Z"
    }
   }
  },
  {
   "cell_type": "code",
   "execution_count": 12,
   "outputs": [
    {
     "name": "stdout",
     "output_type": "stream",
     "text": [
      "Accuracy: 0.62\n",
      "F1-score: 0.63\n"
     ]
    }
   ],
   "source": [
    "from sklearn.svm import SVC\n",
    "import pandas as pd\n",
    "from sklearn.model_selection import train_test_split\n",
    "from sklearn.feature_extraction.text import TfidfVectorizer\n",
    "from sklearn.linear_model import LogisticRegression\n",
    "from sklearn.metrics import accuracy_score, f1_score\n",
    "import re\n",
    "\n",
    "# Load your dataset\n",
    "df = pd.read_csv('train_data.csv')\n",
    "\n",
    "# Preprocess the text data\n",
    "def preprocess_text(text):\n",
    "    # Normalize Persian characters\n",
    "    text = normalize_persian(text)\n",
    "\n",
    "    # Convert to lowercase\n",
    "    text = text.lower()\n",
    "\n",
    "    # Add more preprocessing steps as needed\n",
    "\n",
    "    return text\n",
    "\n",
    "def normalize_persian(text):\n",
    "    # Define a function to normalize Persian characters\n",
    "    persian_digits = '۰۱۲۳۴۵۶۷۸۹٦'\n",
    "    english_digits = '01234567896'\n",
    "    yeh_characters = ['ی', 'ي', 'ے', 'ئ', 'ى']\n",
    "\n",
    "    text = text.translate(str.maketrans(persian_digits, english_digits))\n",
    "    for char in yeh_characters:\n",
    "        text = text.replace(char, 'ی')\n",
    "\n",
    "    return text\n",
    "\n",
    "# Preprocess the text data\n",
    "df['Sentence'] = df['Sentence'].apply(preprocess_text)\n",
    "\n",
    "# Split the dataset into training and test sets\n",
    "X_train, X_test, y_train, y_test = train_test_split(df['Sentence'], df['Emotion'], test_size=0.2, random_state=42)\n",
    "\n",
    "# Extract features using TF-IDF\n",
    "tfidf = TfidfVectorizer()\n",
    "X_train_tfidf = tfidf.fit_transform(X_train)\n",
    "X_test_tfidf = tfidf.transform(X_test)\n",
    "\n",
    "# Train a logistic regression model\n",
    "model = SVC(kernel = 'rbf', random_state = 0)\n",
    "model.fit(X_train_tfidf, y_train)\n",
    "\n",
    "# Evaluate the model on the test set\n",
    "y_pred = model.predict(X_test_tfidf)\n",
    "accuracy = accuracy_score(y_test, y_pred)\n",
    "f1 = f1_score(y_test, y_pred, average='weighted')\n",
    "\n",
    "print(f'Accuracy: {accuracy:.2f}')\n",
    "print(f'F1-score: {f1:.2f}')\n"
   ],
   "metadata": {
    "collapsed": false,
    "ExecuteTime": {
     "end_time": "2024-06-04T10:36:46.832204200Z",
     "start_time": "2024-06-04T10:36:43.946168400Z"
    }
   }
  },
  {
   "cell_type": "code",
   "execution_count": 13,
   "outputs": [
    {
     "name": "stdout",
     "output_type": "stream",
     "text": [
      "Accuracy: 0.55\n",
      "F1-score: 0.54\n"
     ]
    }
   ],
   "source": [
    "from sklearn.neighbors import KNeighborsClassifier\n",
    "import pandas as pd\n",
    "from sklearn.model_selection import train_test_split\n",
    "from sklearn.feature_extraction.text import TfidfVectorizer\n",
    "from sklearn.linear_model import LogisticRegression\n",
    "from sklearn.metrics import accuracy_score, f1_score\n",
    "import re\n",
    "\n",
    "# Load your dataset\n",
    "df = pd.read_csv('train_data.csv')\n",
    "\n",
    "# Preprocess the text data\n",
    "def preprocess_text(text):\n",
    "    # Normalize Persian characters\n",
    "    text = normalize_persian(text)\n",
    "\n",
    "    # Convert to lowercase\n",
    "    text = text.lower()\n",
    "\n",
    "    # Add more preprocessing steps as needed\n",
    "\n",
    "    return text\n",
    "\n",
    "def normalize_persian(text):\n",
    "    # Define a function to normalize Persian characters\n",
    "    persian_digits = '۰۱۲۳۴۵۶۷۸۹٦'\n",
    "    english_digits = '01234567896'\n",
    "    yeh_characters = ['ی', 'ي', 'ے', 'ئ', 'ى']\n",
    "\n",
    "    text = text.translate(str.maketrans(persian_digits, english_digits))\n",
    "    for char in yeh_characters:\n",
    "        text = text.replace(char, 'ی')\n",
    "\n",
    "    return text\n",
    "\n",
    "# Preprocess the text data\n",
    "df['Sentence'] = df['Sentence'].apply(preprocess_text)\n",
    "\n",
    "# Split the dataset into training and test sets\n",
    "X_train, X_test, y_train, y_test = train_test_split(df['Sentence'], df['Emotion'], test_size=0.2, random_state=42)\n",
    "\n",
    "# Extract features using TF-IDF\n",
    "tfidf = TfidfVectorizer()\n",
    "X_train_tfidf = tfidf.fit_transform(X_train)\n",
    "X_test_tfidf = tfidf.transform(X_test)\n",
    "\n",
    "# Train a logistic regression model\n",
    "model = KNeighborsClassifier()\n",
    "model.fit(X_train_tfidf, y_train)\n",
    "\n",
    "# Evaluate the model on the test set\n",
    "y_pred = model.predict(X_test_tfidf)\n",
    "accuracy = accuracy_score(y_test, y_pred)\n",
    "f1 = f1_score(y_test, y_pred, average='weighted')\n",
    "\n",
    "print(f'Accuracy: {accuracy:.2f}')\n",
    "print(f'F1-score: {f1:.2f}')\n"
   ],
   "metadata": {
    "collapsed": false,
    "ExecuteTime": {
     "end_time": "2024-06-04T10:36:47.144954900Z",
     "start_time": "2024-06-04T10:36:46.838710Z"
    }
   }
  },
  {
   "cell_type": "code",
   "execution_count": 14,
   "outputs": [
    {
     "name": "stdout",
     "output_type": "stream",
     "text": [
      "Accuracy: 0.59\n",
      "F1-score: 0.59\n"
     ]
    }
   ],
   "source": [
    "from sklearn.preprocessing import OrdinalEncoder\n",
    "from xgboost import XGBClassifier\n",
    "import pandas as pd\n",
    "from sklearn.model_selection import train_test_split\n",
    "from sklearn.feature_extraction.text import TfidfVectorizer\n",
    "from sklearn.linear_model import LogisticRegression\n",
    "from sklearn.metrics import accuracy_score, f1_score\n",
    "import re\n",
    "\n",
    "# Load your dataset\n",
    "df = pd.read_csv('train_data.csv')\n",
    "\n",
    "# Preprocess the text data\n",
    "def preprocess_text(text):\n",
    "    # Normalize Persian characters\n",
    "    text = normalize_persian(text)\n",
    "\n",
    "    # Convert to lowercase\n",
    "    text = text.lower()\n",
    "\n",
    "    # Add more preprocessing steps as needed\n",
    "\n",
    "    return text\n",
    "\n",
    "def normalize_persian(text):\n",
    "    # Define a function to normalize Persian characters\n",
    "    persian_digits = '۰۱۲۳۴۵۶۷۸۹٦'\n",
    "    english_digits = '01234567896'\n",
    "    yeh_characters = ['ی', 'ي', 'ے', 'ئ', 'ى']\n",
    "\n",
    "    text = text.translate(str.maketrans(persian_digits, english_digits))\n",
    "    for char in yeh_characters:\n",
    "        text = text.replace(char, 'ی')\n",
    "\n",
    "    return text\n",
    "\n",
    "# Preprocess the text data\n",
    "df['Sentence'] = df['Sentence'].apply(preprocess_text)\n",
    "encoder = OrdinalEncoder()\n",
    "# Fit and transform the 'emotion' column\n",
    "df['emotion'] = encoder.fit_transform(df[['Emotion']])\n",
    "# Split the dataset into training and test sets\n",
    "X_train, X_test, y_train, y_test = train_test_split(df['Sentence'], df['emotion'], test_size=0.2, random_state=42)\n",
    "\n",
    "# Extract features using TF-IDF\n",
    "tfidf = TfidfVectorizer()\n",
    "X_train_tfidf = tfidf.fit_transform(X_train)\n",
    "X_test_tfidf = tfidf.transform(X_test)\n",
    "\n",
    "# Train a logistic regression model\n",
    "model = XGBClassifier()\n",
    "model.fit(X_train_tfidf, y_train)\n",
    "\n",
    "# Evaluate the model on the test set\n",
    "y_pred = model.predict(X_test_tfidf)\n",
    "accuracy = accuracy_score(y_test, y_pred)\n",
    "f1 = f1_score(y_test, y_pred, average='weighted')\n",
    "\n",
    "print(f'Accuracy: {accuracy:.2f}')\n",
    "print(f'F1-score: {f1:.2f}')\n"
   ],
   "metadata": {
    "collapsed": false,
    "ExecuteTime": {
     "end_time": "2024-06-04T10:36:50.051597900Z",
     "start_time": "2024-06-04T10:36:47.144954900Z"
    }
   }
  },
  {
   "cell_type": "markdown",
   "source": [
    "By cross validation approach"
   ],
   "metadata": {
    "collapsed": false
   }
  },
  {
   "cell_type": "code",
   "execution_count": 15,
   "outputs": [
    {
     "name": "stdout",
     "output_type": "stream",
     "text": [
      "Average Accuracy: 0.59\n",
      "Average F1-score: 0.59\n"
     ]
    }
   ],
   "source": [
    "from sklearn.preprocessing import OrdinalEncoder\n",
    "from xgboost import XGBClassifier\n",
    "import pandas as pd\n",
    "from sklearn.model_selection import cross_val_score, StratifiedKFold\n",
    "from sklearn.feature_extraction.text import TfidfVectorizer\n",
    "from sklearn.metrics import accuracy_score, f1_score\n",
    "\n",
    "# Load your dataset\n",
    "df = pd.read_csv('train_data.csv')\n",
    "\n",
    "# Preprocess the text data\n",
    "def preprocess_text(text):\n",
    "    # Normalize Persian characters\n",
    "    text = normalize_persian(text)\n",
    "\n",
    "    # Convert to lowercase\n",
    "    text = text.lower()\n",
    "\n",
    "    # Add more preprocessing steps as needed\n",
    "\n",
    "    return text\n",
    "\n",
    "def normalize_persian(text):\n",
    "    # Define a function to normalize Persian characters\n",
    "    persian_digits = '۰۱۲۳۴۵۶۷۸۹٦'\n",
    "    english_digits = '01234567896'\n",
    "    yeh_characters = ['ی', 'ي', 'ے', 'ئ', 'ى']\n",
    "\n",
    "    text = text.translate(str.maketrans(persian_digits, english_digits))\n",
    "    for char in yeh_characters:\n",
    "        text = text.replace(char, 'ی')\n",
    "\n",
    "    return text\n",
    "\n",
    "# Preprocess the text data\n",
    "df['Sentence'] = df['Sentence'].apply(preprocess_text)\n",
    "encoder = OrdinalEncoder()\n",
    "# Fit and transform the 'emotion' column\n",
    "df['emotion'] = encoder.fit_transform(df[['Emotion']])\n",
    "\n",
    "# Extract features using TF-IDF\n",
    "tfidf = TfidfVectorizer()\n",
    "X_tfidf = tfidf.fit_transform(df['Sentence'])\n",
    "\n",
    "# Train the XGBoost model using cross-validation\n",
    "model = XGBClassifier()\n",
    "skf = StratifiedKFold(n_splits=5, shuffle=True, random_state=42)\n",
    "accuracy_scores = []\n",
    "f1_scores = []\n",
    "\n",
    "for train_index, test_index in skf.split(X_tfidf, df['emotion']):\n",
    "    X_train_tfidf, X_test_tfidf = X_tfidf[train_index], X_tfidf[test_index]\n",
    "    y_train, y_test = df['emotion'].iloc[train_index], df['emotion'].iloc[test_index]\n",
    "\n",
    "    model.fit(X_train_tfidf, y_train)\n",
    "    y_pred = model.predict(X_test_tfidf)\n",
    "\n",
    "    accuracy = accuracy_score(y_test, y_pred)\n",
    "    f1 = f1_score(y_test, y_pred, average='weighted')\n",
    "\n",
    "    accuracy_scores.append(accuracy)\n",
    "    f1_scores.append(f1)\n",
    "\n",
    "print(f'Average Accuracy: {sum(accuracy_scores) / len(accuracy_scores):.2f}')\n",
    "print(f'Average F1-score: {sum(f1_scores) / len(f1_scores):.2f}')\n"
   ],
   "metadata": {
    "collapsed": false,
    "ExecuteTime": {
     "end_time": "2024-06-04T10:44:40.848154700Z",
     "start_time": "2024-06-04T10:44:33.070667200Z"
    }
   }
  },
  {
   "cell_type": "code",
   "execution_count": 16,
   "outputs": [
    {
     "name": "stdout",
     "output_type": "stream",
     "text": [
      "Average Accuracy: 0.60\n",
      "Average F1-score: 0.59\n"
     ]
    }
   ],
   "source": [
    "from sklearn.preprocessing import OrdinalEncoder\n",
    "from xgboost import XGBClassifier\n",
    "import pandas as pd\n",
    "from sklearn.model_selection import cross_val_score, StratifiedKFold\n",
    "from sklearn.feature_extraction.text import TfidfVectorizer\n",
    "from sklearn.metrics import accuracy_score, f1_score\n",
    "\n",
    "# Load your dataset\n",
    "df = pd.read_csv('train_data.csv')\n",
    "\n",
    "# Preprocess the text data\n",
    "def preprocess_text(text):\n",
    "    # Normalize Persian characters\n",
    "    text = normalize_persian(text)\n",
    "\n",
    "    # Convert to lowercase\n",
    "    text = text.lower()\n",
    "\n",
    "    # Add more preprocessing steps as needed\n",
    "\n",
    "    return text\n",
    "\n",
    "def normalize_persian(text):\n",
    "    # Define a function to normalize Persian characters\n",
    "    persian_digits = '۰۱۲۳۴۵۶۷۸۹٦'\n",
    "    english_digits = '01234567896'\n",
    "    yeh_characters = ['ی', 'ي', 'ے', 'ئ', 'ى']\n",
    "\n",
    "    text = text.translate(str.maketrans(persian_digits, english_digits))\n",
    "    for char in yeh_characters:\n",
    "        text = text.replace(char, 'ی')\n",
    "\n",
    "    return text\n",
    "\n",
    "# Preprocess the text data\n",
    "df['Sentence'] = df['Sentence'].apply(preprocess_text)\n",
    "encoder = OrdinalEncoder()\n",
    "# Fit and transform the 'emotion' column\n",
    "df['emotion'] = encoder.fit_transform(df[['Emotion']])\n",
    "\n",
    "# Extract features using TF-IDF\n",
    "tfidf = TfidfVectorizer()\n",
    "X_tfidf = tfidf.fit_transform(df['Sentence'])\n",
    "\n",
    "# Train the XGBoost model using cross-validation\n",
    "model = SVC(kernel = 'rbf', random_state = 0)\n",
    "skf = StratifiedKFold(n_splits=5, shuffle=True, random_state=42)\n",
    "accuracy_scores = []\n",
    "f1_scores = []\n",
    "\n",
    "for train_index, test_index in skf.split(X_tfidf, df['emotion']):\n",
    "    X_train_tfidf, X_test_tfidf = X_tfidf[train_index], X_tfidf[test_index]\n",
    "    y_train, y_test = df['emotion'].iloc[train_index], df['emotion'].iloc[test_index]\n",
    "\n",
    "    model.fit(X_train_tfidf, y_train)\n",
    "    y_pred = model.predict(X_test_tfidf)\n",
    "\n",
    "    accuracy = accuracy_score(y_test, y_pred)\n",
    "    f1 = f1_score(y_test, y_pred, average='weighted')\n",
    "\n",
    "    accuracy_scores.append(accuracy)\n",
    "    f1_scores.append(f1)\n",
    "\n",
    "print(f'Average Accuracy: {sum(accuracy_scores) / len(accuracy_scores):.2f}')\n",
    "print(f'Average F1-score: {sum(f1_scores) / len(f1_scores):.2f}')\n"
   ],
   "metadata": {
    "collapsed": false,
    "ExecuteTime": {
     "end_time": "2024-06-04T10:45:56.799201500Z",
     "start_time": "2024-06-04T10:45:43.121743400Z"
    }
   }
  },
  {
   "cell_type": "code",
   "execution_count": 17,
   "outputs": [
    {
     "name": "stdout",
     "output_type": "stream",
     "text": [
      "Average Accuracy: 0.54\n",
      "Average F1-score: 0.53\n"
     ]
    }
   ],
   "source": [
    "from sklearn.preprocessing import OrdinalEncoder\n",
    "from xgboost import XGBClassifier\n",
    "import pandas as pd\n",
    "from sklearn.model_selection import cross_val_score, StratifiedKFold\n",
    "from sklearn.feature_extraction.text import TfidfVectorizer\n",
    "from sklearn.metrics import accuracy_score, f1_score\n",
    "\n",
    "# Load your dataset\n",
    "df = pd.read_csv('train_data.csv')\n",
    "\n",
    "# Preprocess the text data\n",
    "def preprocess_text(text):\n",
    "    # Normalize Persian characters\n",
    "    text = normalize_persian(text)\n",
    "\n",
    "    # Convert to lowercase\n",
    "    text = text.lower()\n",
    "\n",
    "    # Add more preprocessing steps as needed\n",
    "\n",
    "    return text\n",
    "\n",
    "def normalize_persian(text):\n",
    "    # Define a function to normalize Persian characters\n",
    "    persian_digits = '۰۱۲۳۴۵۶۷۸۹٦'\n",
    "    english_digits = '01234567896'\n",
    "    yeh_characters = ['ی', 'ي', 'ے', 'ئ', 'ى']\n",
    "\n",
    "    text = text.translate(str.maketrans(persian_digits, english_digits))\n",
    "    for char in yeh_characters:\n",
    "        text = text.replace(char, 'ی')\n",
    "\n",
    "    return text\n",
    "\n",
    "# Preprocess the text data\n",
    "df['Sentence'] = df['Sentence'].apply(preprocess_text)\n",
    "encoder = OrdinalEncoder()\n",
    "# Fit and transform the 'emotion' column\n",
    "df['emotion'] = encoder.fit_transform(df[['Emotion']])\n",
    "\n",
    "# Extract features using TF-IDF\n",
    "tfidf = TfidfVectorizer()\n",
    "X_tfidf = tfidf.fit_transform(df['Sentence'])\n",
    "\n",
    "# Train the XGBoost model using cross-validation\n",
    "model = KNeighborsClassifier()\n",
    "skf = StratifiedKFold(n_splits=5, shuffle=True, random_state=42)\n",
    "accuracy_scores = []\n",
    "f1_scores = []\n",
    "\n",
    "for train_index, test_index in skf.split(X_tfidf, df['emotion']):\n",
    "    X_train_tfidf, X_test_tfidf = X_tfidf[train_index], X_tfidf[test_index]\n",
    "    y_train, y_test = df['emotion'].iloc[train_index], df['emotion'].iloc[test_index]\n",
    "\n",
    "    model.fit(X_train_tfidf, y_train)\n",
    "    y_pred = model.predict(X_test_tfidf)\n",
    "\n",
    "    accuracy = accuracy_score(y_test, y_pred)\n",
    "    f1 = f1_score(y_test, y_pred, average='weighted')\n",
    "\n",
    "    accuracy_scores.append(accuracy)\n",
    "    f1_scores.append(f1)\n",
    "\n",
    "print(f'Average Accuracy: {sum(accuracy_scores) / len(accuracy_scores):.2f}')\n",
    "print(f'Average F1-score: {sum(f1_scores) / len(f1_scores):.2f}')\n"
   ],
   "metadata": {
    "collapsed": false,
    "ExecuteTime": {
     "end_time": "2024-06-04T10:47:52.498302800Z",
     "start_time": "2024-06-04T10:47:51.251713300Z"
    }
   }
  },
  {
   "cell_type": "code",
   "execution_count": 18,
   "outputs": [
    {
     "name": "stdout",
     "output_type": "stream",
     "text": [
      "Average Accuracy: 0.58\n",
      "Average F1-score: 0.57\n"
     ]
    }
   ],
   "source": [
    "from sklearn.preprocessing import OrdinalEncoder\n",
    "from xgboost import XGBClassifier\n",
    "import pandas as pd\n",
    "from sklearn.model_selection import cross_val_score, StratifiedKFold\n",
    "from sklearn.feature_extraction.text import TfidfVectorizer\n",
    "from sklearn.metrics import accuracy_score, f1_score\n",
    "\n",
    "# Load your dataset\n",
    "df = pd.read_csv('train_data.csv')\n",
    "\n",
    "# Preprocess the text data\n",
    "def preprocess_text(text):\n",
    "    # Normalize Persian characters\n",
    "    text = normalize_persian(text)\n",
    "\n",
    "    # Convert to lowercase\n",
    "    text = text.lower()\n",
    "\n",
    "    # Add more preprocessing steps as needed\n",
    "\n",
    "    return text\n",
    "\n",
    "def normalize_persian(text):\n",
    "    # Define a function to normalize Persian characters\n",
    "    persian_digits = '۰۱۲۳۴۵۶۷۸۹٦'\n",
    "    english_digits = '01234567896'\n",
    "    yeh_characters = ['ی', 'ي', 'ے', 'ئ', 'ى']\n",
    "\n",
    "    text = text.translate(str.maketrans(persian_digits, english_digits))\n",
    "    for char in yeh_characters:\n",
    "        text = text.replace(char, 'ی')\n",
    "\n",
    "    return text\n",
    "\n",
    "# Preprocess the text data\n",
    "df['Sentence'] = df['Sentence'].apply(preprocess_text)\n",
    "encoder = OrdinalEncoder()\n",
    "# Fit and transform the 'emotion' column\n",
    "df['emotion'] = encoder.fit_transform(df[['Emotion']])\n",
    "\n",
    "# Extract features using TF-IDF\n",
    "tfidf = TfidfVectorizer()\n",
    "X_tfidf = tfidf.fit_transform(df['Sentence'])\n",
    "\n",
    "# Train the XGBoost model using cross-validation\n",
    "model = RandomForestClassifier()\n",
    "skf = StratifiedKFold(n_splits=5, shuffle=True, random_state=42)\n",
    "accuracy_scores = []\n",
    "f1_scores = []\n",
    "\n",
    "for train_index, test_index in skf.split(X_tfidf, df['emotion']):\n",
    "    X_train_tfidf, X_test_tfidf = X_tfidf[train_index], X_tfidf[test_index]\n",
    "    y_train, y_test = df['emotion'].iloc[train_index], df['emotion'].iloc[test_index]\n",
    "\n",
    "    model.fit(X_train_tfidf, y_train)\n",
    "    y_pred = model.predict(X_test_tfidf)\n",
    "\n",
    "    accuracy = accuracy_score(y_test, y_pred)\n",
    "    f1 = f1_score(y_test, y_pred, average='weighted')\n",
    "\n",
    "    accuracy_scores.append(accuracy)\n",
    "    f1_scores.append(f1)\n",
    "\n",
    "print(f'Average Accuracy: {sum(accuracy_scores) / len(accuracy_scores):.2f}')\n",
    "print(f'Average F1-score: {sum(f1_scores) / len(f1_scores):.2f}')\n"
   ],
   "metadata": {
    "collapsed": false,
    "ExecuteTime": {
     "end_time": "2024-06-04T10:51:45.695916100Z",
     "start_time": "2024-06-04T10:50:30.780432300Z"
    }
   }
  },
  {
   "cell_type": "code",
   "execution_count": 19,
   "outputs": [
    {
     "name": "stdout",
     "output_type": "stream",
     "text": [
      "Average Accuracy: 0.61\n",
      "Average F1-score: 0.61\n"
     ]
    }
   ],
   "source": [
    "from sklearn.preprocessing import OrdinalEncoder\n",
    "from xgboost import XGBClassifier\n",
    "import pandas as pd\n",
    "from sklearn.model_selection import cross_val_score, StratifiedKFold\n",
    "from sklearn.feature_extraction.text import TfidfVectorizer\n",
    "from sklearn.metrics import accuracy_score, f1_score\n",
    "\n",
    "# Load your dataset\n",
    "df = pd.read_csv('train_data.csv')\n",
    "\n",
    "# Preprocess the text data\n",
    "def preprocess_text(text):\n",
    "    # Normalize Persian characters\n",
    "    text = normalize_persian(text)\n",
    "\n",
    "    # Convert to lowercase\n",
    "    text = text.lower()\n",
    "\n",
    "    # Add more preprocessing steps as needed\n",
    "\n",
    "    return text\n",
    "\n",
    "def normalize_persian(text):\n",
    "    # Define a function to normalize Persian characters\n",
    "    persian_digits = '۰۱۲۳۴۵۶۷۸۹٦'\n",
    "    english_digits = '01234567896'\n",
    "    yeh_characters = ['ی', 'ي', 'ے', 'ئ', 'ى']\n",
    "\n",
    "    text = text.translate(str.maketrans(persian_digits, english_digits))\n",
    "    for char in yeh_characters:\n",
    "        text = text.replace(char, 'ی')\n",
    "\n",
    "    return text\n",
    "\n",
    "# Preprocess the text data\n",
    "df['Sentence'] = df['Sentence'].apply(preprocess_text)\n",
    "encoder = OrdinalEncoder()\n",
    "# Fit and transform the 'emotion' column\n",
    "df['emotion'] = encoder.fit_transform(df[['Emotion']])\n",
    "\n",
    "# Extract features using TF-IDF\n",
    "tfidf = TfidfVectorizer()\n",
    "X_tfidf = tfidf.fit_transform(df['Sentence'])\n",
    "\n",
    "# Train the XGBoost model using cross-validation\n",
    "model = LogisticRegression()\n",
    "skf = StratifiedKFold(n_splits=5, shuffle=True, random_state=42)\n",
    "accuracy_scores = []\n",
    "f1_scores = []\n",
    "\n",
    "for train_index, test_index in skf.split(X_tfidf, df['emotion']):\n",
    "    X_train_tfidf, X_test_tfidf = X_tfidf[train_index], X_tfidf[test_index]\n",
    "    y_train, y_test = df['emotion'].iloc[train_index], df['emotion'].iloc[test_index]\n",
    "\n",
    "    model.fit(X_train_tfidf, y_train)\n",
    "    y_pred = model.predict(X_test_tfidf)\n",
    "\n",
    "    accuracy = accuracy_score(y_test, y_pred)\n",
    "    f1 = f1_score(y_test, y_pred, average='weighted')\n",
    "\n",
    "    accuracy_scores.append(accuracy)\n",
    "    f1_scores.append(f1)\n",
    "\n",
    "print(f'Average Accuracy: {sum(accuracy_scores) / len(accuracy_scores):.2f}')\n",
    "print(f'Average F1-score: {sum(f1_scores) / len(f1_scores):.2f}')\n"
   ],
   "metadata": {
    "collapsed": false,
    "ExecuteTime": {
     "end_time": "2024-06-04T10:51:54.547952900Z",
     "start_time": "2024-06-04T10:51:50.893968300Z"
    }
   }
  },
  {
   "cell_type": "code",
   "execution_count": 20,
   "outputs": [
    {
     "name": "stdout",
     "output_type": "stream",
     "text": [
      "Decision Tree - Average Accuracy: 0.53\n",
      "Decision Tree - Average F1-score: 0.53\n",
      "Random Forest - Average Accuracy: 0.59\n",
      "Random Forest - Average F1-score: 0.58\n",
      "Gradient Boosting - Average Accuracy: 0.58\n",
      "Gradient Boosting - Average F1-score: 0.58\n",
      "XGBoost - Average Accuracy: 0.59\n",
      "XGBoost - Average F1-score: 0.59\n",
      "AdaBoost - Average Accuracy: 0.47\n",
      "AdaBoost - Average F1-score: 0.45\n",
      "Extra Tree - Average Accuracy: 0.61\n",
      "Extra Tree - Average F1-score: 0.60\n",
      "[LightGBM] [Info] Auto-choosing col-wise multi-threading, the overhead of testing was 0.002280 seconds.\n",
      "You can set `force_col_wise=true` to remove the overhead.\n",
      "[LightGBM] [Info] Total Bins 7474\n",
      "[LightGBM] [Info] Number of data points in the train set: 3939, number of used features: 317\n",
      "[LightGBM] [Info] Start training from score -1.582883\n",
      "[LightGBM] [Info] Start training from score -2.665554\n",
      "[LightGBM] [Info] Start training from score -1.213923\n",
      "[LightGBM] [Info] Start training from score -1.360977\n",
      "[LightGBM] [Info] Start training from score -1.762489\n",
      "[LightGBM] [Info] Auto-choosing row-wise multi-threading, the overhead of testing was 0.002643 seconds.\n",
      "You can set `force_row_wise=true` to remove the overhead.\n",
      "And if memory is not enough, you can set `force_col_wise=true`.\n",
      "[LightGBM] [Info] Total Bins 7514\n",
      "[LightGBM] [Info] Number of data points in the train set: 3939, number of used features: 318\n",
      "[LightGBM] [Info] Start training from score -1.582883\n",
      "[LightGBM] [Info] Start training from score -2.665554\n",
      "[LightGBM] [Info] Start training from score -1.213923\n",
      "[LightGBM] [Info] Start training from score -1.360977\n",
      "[LightGBM] [Info] Start training from score -1.762489\n",
      "[LightGBM] [Info] Auto-choosing col-wise multi-threading, the overhead of testing was 0.002474 seconds.\n",
      "You can set `force_col_wise=true` to remove the overhead.\n",
      "[LightGBM] [Info] Total Bins 7439\n",
      "[LightGBM] [Info] Number of data points in the train set: 3939, number of used features: 315\n",
      "[LightGBM] [Info] Start training from score -1.581648\n",
      "[LightGBM] [Info] Start training from score -2.669210\n",
      "[LightGBM] [Info] Start training from score -1.213923\n",
      "[LightGBM] [Info] Start training from score -1.360977\n",
      "[LightGBM] [Info] Start training from score -1.762489\n",
      "[LightGBM] [Info] Auto-choosing row-wise multi-threading, the overhead of testing was 0.001709 seconds.\n",
      "You can set `force_row_wise=true` to remove the overhead.\n",
      "And if memory is not enough, you can set `force_col_wise=true`.\n",
      "[LightGBM] [Info] Total Bins 7437\n",
      "[LightGBM] [Info] Number of data points in the train set: 3939, number of used features: 317\n",
      "[LightGBM] [Info] Start training from score -1.581648\n",
      "[LightGBM] [Info] Start training from score -2.669210\n",
      "[LightGBM] [Info] Start training from score -1.214778\n",
      "[LightGBM] [Info] Start training from score -1.359987\n",
      "[LightGBM] [Info] Start training from score -1.762489\n",
      "[LightGBM] [Info] Auto-choosing col-wise multi-threading, the overhead of testing was 0.001499 seconds.\n",
      "You can set `force_col_wise=true` to remove the overhead.\n",
      "[LightGBM] [Info] Total Bins 7410\n",
      "[LightGBM] [Info] Number of data points in the train set: 3940, number of used features: 309\n",
      "[LightGBM] [Info] Start training from score -1.581902\n",
      "[LightGBM] [Info] Start training from score -2.665808\n",
      "[LightGBM] [Info] Start training from score -1.215032\n",
      "[LightGBM] [Info] Start training from score -1.360241\n",
      "[LightGBM] [Info] Start training from score -1.762743\n",
      "LightGBM - Average Accuracy: 0.56\n",
      "LightGBM - Average F1-score: 0.56\n"
     ]
    }
   ],
   "source": [
    "from sklearn.preprocessing import OrdinalEncoder\n",
    "from xgboost import XGBClassifier\n",
    "from sklearn.ensemble import RandomForestClassifier, GradientBoostingClassifier, AdaBoostClassifier, ExtraTreesClassifier\n",
    "import pandas as pd\n",
    "from sklearn.tree import DecisionTreeClassifier\n",
    "from sklearn.model_selection import cross_val_score, StratifiedKFold\n",
    "from sklearn.feature_extraction.text import TfidfVectorizer\n",
    "from sklearn.metrics import accuracy_score, f1_score\n",
    "from lightgbm import LGBMClassifier\n",
    "\n",
    "# Load your dataset\n",
    "df = pd.read_csv('train_data.csv')\n",
    "\n",
    "# Preprocess the text data\n",
    "def preprocess_text(text):\n",
    "    # Normalize Persian characters\n",
    "    text = normalize_persian(text)\n",
    "\n",
    "    # Convert to lowercase\n",
    "    text = text.lower()\n",
    "\n",
    "    # Add more preprocessing steps as needed\n",
    "\n",
    "    return text\n",
    "\n",
    "def normalize_persian(text):\n",
    "    # Define a function to normalize Persian characters\n",
    "    persian_digits = '۰۱۲۳۴۵۶۷۸۹٦'\n",
    "    english_digits = '01234567896'\n",
    "    yeh_characters = ['ی', 'ي', 'ے', 'ئ', 'ى']\n",
    "\n",
    "    text = text.translate(str.maketrans(persian_digits, english_digits))\n",
    "    for char in yeh_characters:\n",
    "        text = text.replace(char, 'ی')\n",
    "\n",
    "    return text\n",
    "\n",
    "# Preprocess the text data\n",
    "df['Sentence'] = df['Sentence'].apply(preprocess_text)\n",
    "encoder = OrdinalEncoder()\n",
    "# Fit and transform the 'emotion' column\n",
    "df['emotion'] = encoder.fit_transform(df[['Emotion']])\n",
    "\n",
    "# Extract features using TF-IDF\n",
    "tfidf = TfidfVectorizer()\n",
    "X_tfidf = tfidf.fit_transform(df['Sentence'])\n",
    "\n",
    "# Train the tree-based models using cross-validation\n",
    "models = {\n",
    "    'Decision Tree': DecisionTreeClassifier(criterion='gini'),\n",
    "    'Random Forest': RandomForestClassifier(n_estimators=100, random_state=42),\n",
    "    'Gradient Boosting': GradientBoostingClassifier(n_estimators=100, random_state=42),\n",
    "    'XGBoost': XGBClassifier(),\n",
    "    'AdaBoost': AdaBoostClassifier(),\n",
    "    'Extra Tree': ExtraTreesClassifier(),\n",
    "    'LightGBM': LGBMClassifier()\n",
    "}\n",
    "\n",
    "skf = StratifiedKFold(n_splits=5, shuffle=True, random_state=42)\n",
    "\n",
    "for model_name, model in models.items():\n",
    "    accuracy_scores = []\n",
    "    f1_scores = []\n",
    "\n",
    "    for train_index, test_index in skf.split(X_tfidf, df['emotion']):\n",
    "        X_train_tfidf, X_test_tfidf = X_tfidf[train_index], X_tfidf[test_index]\n",
    "        y_train, y_test = df['emotion'].iloc[train_index], df['emotion'].iloc[test_index]\n",
    "\n",
    "        model.fit(X_train_tfidf, y_train)\n",
    "        y_pred = model.predict(X_test_tfidf)\n",
    "\n",
    "        accuracy = accuracy_score(y_test, y_pred)\n",
    "        f1 = f1_score(y_test, y_pred, average='weighted')\n",
    "\n",
    "        accuracy_scores.append(accuracy)\n",
    "        f1_scores.append(f1)\n",
    "\n",
    "    print(f'{model_name} - Average Accuracy: {sum(accuracy_scores) / len(accuracy_scores):.2f}')\n",
    "    print(f'{model_name} - Average F1-score: {sum(f1_scores) / len(f1_scores):.2f}')\n"
   ],
   "metadata": {
    "collapsed": false,
    "ExecuteTime": {
     "end_time": "2024-06-04T11:26:49.853200400Z",
     "start_time": "2024-06-04T11:19:59.080484500Z"
    }
   }
  },
  {
   "cell_type": "code",
   "execution_count": 25,
   "outputs": [
    {
     "name": "stdout",
     "output_type": "stream",
     "text": [
      "Optimizing Decision Tree model...\n",
      "Decision Tree - Best Hyperparameters: {'criterion': 'gini', 'max_depth': None}\n",
      "Optimizing Random Forest model...\n",
      "Random Forest - Best Hyperparameters: {'max_depth': None, 'n_estimators': 100}\n",
      "Optimizing Gradient Boosting model...\n"
     ]
    },
    {
     "ename": "KeyboardInterrupt",
     "evalue": "",
     "output_type": "error",
     "traceback": [
      "\u001B[1;31m---------------------------------------------------------------------------\u001B[0m",
      "\u001B[1;31mKeyboardInterrupt\u001B[0m                         Traceback (most recent call last)",
      "Cell \u001B[1;32mIn [25], line 72\u001B[0m\n\u001B[0;32m     70\u001B[0m model \u001B[38;5;241m=\u001B[39m model_class()\n\u001B[0;32m     71\u001B[0m grid_search \u001B[38;5;241m=\u001B[39m GridSearchCV(model, param_grid\u001B[38;5;241m=\u001B[39mparam_grids[model_name], cv\u001B[38;5;241m=\u001B[39mStratifiedKFold(n_splits\u001B[38;5;241m=\u001B[39m\u001B[38;5;241m5\u001B[39m, shuffle\u001B[38;5;241m=\u001B[39m\u001B[38;5;28;01mTrue\u001B[39;00m, random_state\u001B[38;5;241m=\u001B[39m\u001B[38;5;241m42\u001B[39m), scoring\u001B[38;5;241m=\u001B[39m[\u001B[38;5;124m'\u001B[39m\u001B[38;5;124maccuracy\u001B[39m\u001B[38;5;124m'\u001B[39m, \u001B[38;5;124m'\u001B[39m\u001B[38;5;124mf1_weighted\u001B[39m\u001B[38;5;124m'\u001B[39m], refit\u001B[38;5;241m=\u001B[39m\u001B[38;5;124m'\u001B[39m\u001B[38;5;124maccuracy\u001B[39m\u001B[38;5;124m'\u001B[39m)\n\u001B[1;32m---> 72\u001B[0m \u001B[43mgrid_search\u001B[49m\u001B[38;5;241;43m.\u001B[39;49m\u001B[43mfit\u001B[49m\u001B[43m(\u001B[49m\u001B[43mX_tfidf\u001B[49m\u001B[43m,\u001B[49m\u001B[43m \u001B[49m\u001B[43mdf\u001B[49m\u001B[43m[\u001B[49m\u001B[38;5;124;43m'\u001B[39;49m\u001B[38;5;124;43memotion\u001B[39;49m\u001B[38;5;124;43m'\u001B[39;49m\u001B[43m]\u001B[49m\u001B[43m)\u001B[49m\n\u001B[0;32m     74\u001B[0m \u001B[38;5;66;03m#print(f'{model_name} - Best Accuracy: {grid_search.best_score_[\"accuracy\"]:.2f}')\u001B[39;00m\n\u001B[0;32m     75\u001B[0m \u001B[38;5;66;03m#print(f'{model_name} - Best F1-score: {grid_search.best_score_[\"f1_weighted\"]:.2f}')\u001B[39;00m\n\u001B[0;32m     76\u001B[0m \u001B[38;5;28mprint\u001B[39m(\u001B[38;5;124mf\u001B[39m\u001B[38;5;124m'\u001B[39m\u001B[38;5;132;01m{\u001B[39;00mmodel_name\u001B[38;5;132;01m}\u001B[39;00m\u001B[38;5;124m - Best Hyperparameters: \u001B[39m\u001B[38;5;132;01m{\u001B[39;00mgrid_search\u001B[38;5;241m.\u001B[39mbest_params_\u001B[38;5;132;01m}\u001B[39;00m\u001B[38;5;124m'\u001B[39m)\n",
      "File \u001B[1;32m~\\AppData\\Local\\Programs\\Python\\Python311\\Lib\\site-packages\\sklearn\\model_selection\\_search.py:874\u001B[0m, in \u001B[0;36mBaseSearchCV.fit\u001B[1;34m(self, X, y, groups, **fit_params)\u001B[0m\n\u001B[0;32m    868\u001B[0m     results \u001B[38;5;241m=\u001B[39m \u001B[38;5;28mself\u001B[39m\u001B[38;5;241m.\u001B[39m_format_results(\n\u001B[0;32m    869\u001B[0m         all_candidate_params, n_splits, all_out, all_more_results\n\u001B[0;32m    870\u001B[0m     )\n\u001B[0;32m    872\u001B[0m     \u001B[38;5;28;01mreturn\u001B[39;00m results\n\u001B[1;32m--> 874\u001B[0m \u001B[38;5;28;43mself\u001B[39;49m\u001B[38;5;241;43m.\u001B[39;49m\u001B[43m_run_search\u001B[49m\u001B[43m(\u001B[49m\u001B[43mevaluate_candidates\u001B[49m\u001B[43m)\u001B[49m\n\u001B[0;32m    876\u001B[0m \u001B[38;5;66;03m# multimetric is determined here because in the case of a callable\u001B[39;00m\n\u001B[0;32m    877\u001B[0m \u001B[38;5;66;03m# self.scoring the return type is only known after calling\u001B[39;00m\n\u001B[0;32m    878\u001B[0m first_test_score \u001B[38;5;241m=\u001B[39m all_out[\u001B[38;5;241m0\u001B[39m][\u001B[38;5;124m\"\u001B[39m\u001B[38;5;124mtest_scores\u001B[39m\u001B[38;5;124m\"\u001B[39m]\n",
      "File \u001B[1;32m~\\AppData\\Local\\Programs\\Python\\Python311\\Lib\\site-packages\\sklearn\\model_selection\\_search.py:1388\u001B[0m, in \u001B[0;36mGridSearchCV._run_search\u001B[1;34m(self, evaluate_candidates)\u001B[0m\n\u001B[0;32m   1386\u001B[0m \u001B[38;5;28;01mdef\u001B[39;00m \u001B[38;5;21m_run_search\u001B[39m(\u001B[38;5;28mself\u001B[39m, evaluate_candidates):\n\u001B[0;32m   1387\u001B[0m     \u001B[38;5;124;03m\"\"\"Search all candidates in param_grid\"\"\"\u001B[39;00m\n\u001B[1;32m-> 1388\u001B[0m     \u001B[43mevaluate_candidates\u001B[49m\u001B[43m(\u001B[49m\u001B[43mParameterGrid\u001B[49m\u001B[43m(\u001B[49m\u001B[38;5;28;43mself\u001B[39;49m\u001B[38;5;241;43m.\u001B[39;49m\u001B[43mparam_grid\u001B[49m\u001B[43m)\u001B[49m\u001B[43m)\u001B[49m\n",
      "File \u001B[1;32m~\\AppData\\Local\\Programs\\Python\\Python311\\Lib\\site-packages\\sklearn\\model_selection\\_search.py:821\u001B[0m, in \u001B[0;36mBaseSearchCV.fit.<locals>.evaluate_candidates\u001B[1;34m(candidate_params, cv, more_results)\u001B[0m\n\u001B[0;32m    813\u001B[0m \u001B[38;5;28;01mif\u001B[39;00m \u001B[38;5;28mself\u001B[39m\u001B[38;5;241m.\u001B[39mverbose \u001B[38;5;241m>\u001B[39m \u001B[38;5;241m0\u001B[39m:\n\u001B[0;32m    814\u001B[0m     \u001B[38;5;28mprint\u001B[39m(\n\u001B[0;32m    815\u001B[0m         \u001B[38;5;124m\"\u001B[39m\u001B[38;5;124mFitting \u001B[39m\u001B[38;5;132;01m{0}\u001B[39;00m\u001B[38;5;124m folds for each of \u001B[39m\u001B[38;5;132;01m{1}\u001B[39;00m\u001B[38;5;124m candidates,\u001B[39m\u001B[38;5;124m\"\u001B[39m\n\u001B[0;32m    816\u001B[0m         \u001B[38;5;124m\"\u001B[39m\u001B[38;5;124m totalling \u001B[39m\u001B[38;5;132;01m{2}\u001B[39;00m\u001B[38;5;124m fits\u001B[39m\u001B[38;5;124m\"\u001B[39m\u001B[38;5;241m.\u001B[39mformat(\n\u001B[0;32m    817\u001B[0m             n_splits, n_candidates, n_candidates \u001B[38;5;241m*\u001B[39m n_splits\n\u001B[0;32m    818\u001B[0m         )\n\u001B[0;32m    819\u001B[0m     )\n\u001B[1;32m--> 821\u001B[0m out \u001B[38;5;241m=\u001B[39m \u001B[43mparallel\u001B[49m\u001B[43m(\u001B[49m\n\u001B[0;32m    822\u001B[0m \u001B[43m    \u001B[49m\u001B[43mdelayed\u001B[49m\u001B[43m(\u001B[49m\u001B[43m_fit_and_score\u001B[49m\u001B[43m)\u001B[49m\u001B[43m(\u001B[49m\n\u001B[0;32m    823\u001B[0m \u001B[43m        \u001B[49m\u001B[43mclone\u001B[49m\u001B[43m(\u001B[49m\u001B[43mbase_estimator\u001B[49m\u001B[43m)\u001B[49m\u001B[43m,\u001B[49m\n\u001B[0;32m    824\u001B[0m \u001B[43m        \u001B[49m\u001B[43mX\u001B[49m\u001B[43m,\u001B[49m\n\u001B[0;32m    825\u001B[0m \u001B[43m        \u001B[49m\u001B[43my\u001B[49m\u001B[43m,\u001B[49m\n\u001B[0;32m    826\u001B[0m \u001B[43m        \u001B[49m\u001B[43mtrain\u001B[49m\u001B[38;5;241;43m=\u001B[39;49m\u001B[43mtrain\u001B[49m\u001B[43m,\u001B[49m\n\u001B[0;32m    827\u001B[0m \u001B[43m        \u001B[49m\u001B[43mtest\u001B[49m\u001B[38;5;241;43m=\u001B[39;49m\u001B[43mtest\u001B[49m\u001B[43m,\u001B[49m\n\u001B[0;32m    828\u001B[0m \u001B[43m        \u001B[49m\u001B[43mparameters\u001B[49m\u001B[38;5;241;43m=\u001B[39;49m\u001B[43mparameters\u001B[49m\u001B[43m,\u001B[49m\n\u001B[0;32m    829\u001B[0m \u001B[43m        \u001B[49m\u001B[43msplit_progress\u001B[49m\u001B[38;5;241;43m=\u001B[39;49m\u001B[43m(\u001B[49m\u001B[43msplit_idx\u001B[49m\u001B[43m,\u001B[49m\u001B[43m \u001B[49m\u001B[43mn_splits\u001B[49m\u001B[43m)\u001B[49m\u001B[43m,\u001B[49m\n\u001B[0;32m    830\u001B[0m \u001B[43m        \u001B[49m\u001B[43mcandidate_progress\u001B[49m\u001B[38;5;241;43m=\u001B[39;49m\u001B[43m(\u001B[49m\u001B[43mcand_idx\u001B[49m\u001B[43m,\u001B[49m\u001B[43m \u001B[49m\u001B[43mn_candidates\u001B[49m\u001B[43m)\u001B[49m\u001B[43m,\u001B[49m\n\u001B[0;32m    831\u001B[0m \u001B[43m        \u001B[49m\u001B[38;5;241;43m*\u001B[39;49m\u001B[38;5;241;43m*\u001B[39;49m\u001B[43mfit_and_score_kwargs\u001B[49m\u001B[43m,\u001B[49m\n\u001B[0;32m    832\u001B[0m \u001B[43m    \u001B[49m\u001B[43m)\u001B[49m\n\u001B[0;32m    833\u001B[0m \u001B[43m    \u001B[49m\u001B[38;5;28;43;01mfor\u001B[39;49;00m\u001B[43m \u001B[49m\u001B[43m(\u001B[49m\u001B[43mcand_idx\u001B[49m\u001B[43m,\u001B[49m\u001B[43m \u001B[49m\u001B[43mparameters\u001B[49m\u001B[43m)\u001B[49m\u001B[43m,\u001B[49m\u001B[43m \u001B[49m\u001B[43m(\u001B[49m\u001B[43msplit_idx\u001B[49m\u001B[43m,\u001B[49m\u001B[43m \u001B[49m\u001B[43m(\u001B[49m\u001B[43mtrain\u001B[49m\u001B[43m,\u001B[49m\u001B[43m \u001B[49m\u001B[43mtest\u001B[49m\u001B[43m)\u001B[49m\u001B[43m)\u001B[49m\u001B[43m \u001B[49m\u001B[38;5;129;43;01min\u001B[39;49;00m\u001B[43m \u001B[49m\u001B[43mproduct\u001B[49m\u001B[43m(\u001B[49m\n\u001B[0;32m    834\u001B[0m \u001B[43m        \u001B[49m\u001B[38;5;28;43menumerate\u001B[39;49m\u001B[43m(\u001B[49m\u001B[43mcandidate_params\u001B[49m\u001B[43m)\u001B[49m\u001B[43m,\u001B[49m\u001B[43m \u001B[49m\u001B[38;5;28;43menumerate\u001B[39;49m\u001B[43m(\u001B[49m\u001B[43mcv\u001B[49m\u001B[38;5;241;43m.\u001B[39;49m\u001B[43msplit\u001B[49m\u001B[43m(\u001B[49m\u001B[43mX\u001B[49m\u001B[43m,\u001B[49m\u001B[43m \u001B[49m\u001B[43my\u001B[49m\u001B[43m,\u001B[49m\u001B[43m \u001B[49m\u001B[43mgroups\u001B[49m\u001B[43m)\u001B[49m\u001B[43m)\u001B[49m\n\u001B[0;32m    835\u001B[0m \u001B[43m    \u001B[49m\u001B[43m)\u001B[49m\n\u001B[0;32m    836\u001B[0m \u001B[43m\u001B[49m\u001B[43m)\u001B[49m\n\u001B[0;32m    838\u001B[0m \u001B[38;5;28;01mif\u001B[39;00m \u001B[38;5;28mlen\u001B[39m(out) \u001B[38;5;241m<\u001B[39m \u001B[38;5;241m1\u001B[39m:\n\u001B[0;32m    839\u001B[0m     \u001B[38;5;28;01mraise\u001B[39;00m \u001B[38;5;167;01mValueError\u001B[39;00m(\n\u001B[0;32m    840\u001B[0m         \u001B[38;5;124m\"\u001B[39m\u001B[38;5;124mNo fits were performed. \u001B[39m\u001B[38;5;124m\"\u001B[39m\n\u001B[0;32m    841\u001B[0m         \u001B[38;5;124m\"\u001B[39m\u001B[38;5;124mWas the CV iterator empty? \u001B[39m\u001B[38;5;124m\"\u001B[39m\n\u001B[0;32m    842\u001B[0m         \u001B[38;5;124m\"\u001B[39m\u001B[38;5;124mWere there no candidates?\u001B[39m\u001B[38;5;124m\"\u001B[39m\n\u001B[0;32m    843\u001B[0m     )\n",
      "File \u001B[1;32m~\\AppData\\Local\\Programs\\Python\\Python311\\Lib\\site-packages\\sklearn\\utils\\parallel.py:63\u001B[0m, in \u001B[0;36mParallel.__call__\u001B[1;34m(self, iterable)\u001B[0m\n\u001B[0;32m     58\u001B[0m config \u001B[38;5;241m=\u001B[39m get_config()\n\u001B[0;32m     59\u001B[0m iterable_with_config \u001B[38;5;241m=\u001B[39m (\n\u001B[0;32m     60\u001B[0m     (_with_config(delayed_func, config), args, kwargs)\n\u001B[0;32m     61\u001B[0m     \u001B[38;5;28;01mfor\u001B[39;00m delayed_func, args, kwargs \u001B[38;5;129;01min\u001B[39;00m iterable\n\u001B[0;32m     62\u001B[0m )\n\u001B[1;32m---> 63\u001B[0m \u001B[38;5;28;01mreturn\u001B[39;00m \u001B[38;5;28;43msuper\u001B[39;49m\u001B[43m(\u001B[49m\u001B[43m)\u001B[49m\u001B[38;5;241;43m.\u001B[39;49m\u001B[38;5;21;43m__call__\u001B[39;49m\u001B[43m(\u001B[49m\u001B[43miterable_with_config\u001B[49m\u001B[43m)\u001B[49m\n",
      "File \u001B[1;32m~\\AppData\\Local\\Programs\\Python\\Python311\\Lib\\site-packages\\joblib\\parallel.py:1088\u001B[0m, in \u001B[0;36mParallel.__call__\u001B[1;34m(self, iterable)\u001B[0m\n\u001B[0;32m   1085\u001B[0m \u001B[38;5;28;01mif\u001B[39;00m \u001B[38;5;28mself\u001B[39m\u001B[38;5;241m.\u001B[39mdispatch_one_batch(iterator):\n\u001B[0;32m   1086\u001B[0m     \u001B[38;5;28mself\u001B[39m\u001B[38;5;241m.\u001B[39m_iterating \u001B[38;5;241m=\u001B[39m \u001B[38;5;28mself\u001B[39m\u001B[38;5;241m.\u001B[39m_original_iterator \u001B[38;5;129;01mis\u001B[39;00m \u001B[38;5;129;01mnot\u001B[39;00m \u001B[38;5;28;01mNone\u001B[39;00m\n\u001B[1;32m-> 1088\u001B[0m \u001B[38;5;28;01mwhile\u001B[39;00m \u001B[38;5;28;43mself\u001B[39;49m\u001B[38;5;241;43m.\u001B[39;49m\u001B[43mdispatch_one_batch\u001B[49m\u001B[43m(\u001B[49m\u001B[43miterator\u001B[49m\u001B[43m)\u001B[49m:\n\u001B[0;32m   1089\u001B[0m     \u001B[38;5;28;01mpass\u001B[39;00m\n\u001B[0;32m   1091\u001B[0m \u001B[38;5;28;01mif\u001B[39;00m pre_dispatch \u001B[38;5;241m==\u001B[39m \u001B[38;5;124m\"\u001B[39m\u001B[38;5;124mall\u001B[39m\u001B[38;5;124m\"\u001B[39m \u001B[38;5;129;01mor\u001B[39;00m n_jobs \u001B[38;5;241m==\u001B[39m \u001B[38;5;241m1\u001B[39m:\n\u001B[0;32m   1092\u001B[0m     \u001B[38;5;66;03m# The iterable was consumed all at once by the above for loop.\u001B[39;00m\n\u001B[0;32m   1093\u001B[0m     \u001B[38;5;66;03m# No need to wait for async callbacks to trigger to\u001B[39;00m\n\u001B[0;32m   1094\u001B[0m     \u001B[38;5;66;03m# consumption.\u001B[39;00m\n",
      "File \u001B[1;32m~\\AppData\\Local\\Programs\\Python\\Python311\\Lib\\site-packages\\joblib\\parallel.py:901\u001B[0m, in \u001B[0;36mParallel.dispatch_one_batch\u001B[1;34m(self, iterator)\u001B[0m\n\u001B[0;32m    899\u001B[0m     \u001B[38;5;28;01mreturn\u001B[39;00m \u001B[38;5;28;01mFalse\u001B[39;00m\n\u001B[0;32m    900\u001B[0m \u001B[38;5;28;01melse\u001B[39;00m:\n\u001B[1;32m--> 901\u001B[0m     \u001B[38;5;28;43mself\u001B[39;49m\u001B[38;5;241;43m.\u001B[39;49m\u001B[43m_dispatch\u001B[49m\u001B[43m(\u001B[49m\u001B[43mtasks\u001B[49m\u001B[43m)\u001B[49m\n\u001B[0;32m    902\u001B[0m     \u001B[38;5;28;01mreturn\u001B[39;00m \u001B[38;5;28;01mTrue\u001B[39;00m\n",
      "File \u001B[1;32m~\\AppData\\Local\\Programs\\Python\\Python311\\Lib\\site-packages\\joblib\\parallel.py:819\u001B[0m, in \u001B[0;36mParallel._dispatch\u001B[1;34m(self, batch)\u001B[0m\n\u001B[0;32m    817\u001B[0m \u001B[38;5;28;01mwith\u001B[39;00m \u001B[38;5;28mself\u001B[39m\u001B[38;5;241m.\u001B[39m_lock:\n\u001B[0;32m    818\u001B[0m     job_idx \u001B[38;5;241m=\u001B[39m \u001B[38;5;28mlen\u001B[39m(\u001B[38;5;28mself\u001B[39m\u001B[38;5;241m.\u001B[39m_jobs)\n\u001B[1;32m--> 819\u001B[0m     job \u001B[38;5;241m=\u001B[39m \u001B[38;5;28;43mself\u001B[39;49m\u001B[38;5;241;43m.\u001B[39;49m\u001B[43m_backend\u001B[49m\u001B[38;5;241;43m.\u001B[39;49m\u001B[43mapply_async\u001B[49m\u001B[43m(\u001B[49m\u001B[43mbatch\u001B[49m\u001B[43m,\u001B[49m\u001B[43m \u001B[49m\u001B[43mcallback\u001B[49m\u001B[38;5;241;43m=\u001B[39;49m\u001B[43mcb\u001B[49m\u001B[43m)\u001B[49m\n\u001B[0;32m    820\u001B[0m     \u001B[38;5;66;03m# A job can complete so quickly than its callback is\u001B[39;00m\n\u001B[0;32m    821\u001B[0m     \u001B[38;5;66;03m# called before we get here, causing self._jobs to\u001B[39;00m\n\u001B[0;32m    822\u001B[0m     \u001B[38;5;66;03m# grow. To ensure correct results ordering, .insert is\u001B[39;00m\n\u001B[0;32m    823\u001B[0m     \u001B[38;5;66;03m# used (rather than .append) in the following line\u001B[39;00m\n\u001B[0;32m    824\u001B[0m     \u001B[38;5;28mself\u001B[39m\u001B[38;5;241m.\u001B[39m_jobs\u001B[38;5;241m.\u001B[39minsert(job_idx, job)\n",
      "File \u001B[1;32m~\\AppData\\Local\\Programs\\Python\\Python311\\Lib\\site-packages\\joblib\\_parallel_backends.py:208\u001B[0m, in \u001B[0;36mSequentialBackend.apply_async\u001B[1;34m(self, func, callback)\u001B[0m\n\u001B[0;32m    206\u001B[0m \u001B[38;5;28;01mdef\u001B[39;00m \u001B[38;5;21mapply_async\u001B[39m(\u001B[38;5;28mself\u001B[39m, func, callback\u001B[38;5;241m=\u001B[39m\u001B[38;5;28;01mNone\u001B[39;00m):\n\u001B[0;32m    207\u001B[0m     \u001B[38;5;124;03m\"\"\"Schedule a func to be run\"\"\"\u001B[39;00m\n\u001B[1;32m--> 208\u001B[0m     result \u001B[38;5;241m=\u001B[39m \u001B[43mImmediateResult\u001B[49m\u001B[43m(\u001B[49m\u001B[43mfunc\u001B[49m\u001B[43m)\u001B[49m\n\u001B[0;32m    209\u001B[0m     \u001B[38;5;28;01mif\u001B[39;00m callback:\n\u001B[0;32m    210\u001B[0m         callback(result)\n",
      "File \u001B[1;32m~\\AppData\\Local\\Programs\\Python\\Python311\\Lib\\site-packages\\joblib\\_parallel_backends.py:597\u001B[0m, in \u001B[0;36mImmediateResult.__init__\u001B[1;34m(self, batch)\u001B[0m\n\u001B[0;32m    594\u001B[0m \u001B[38;5;28;01mdef\u001B[39;00m \u001B[38;5;21m__init__\u001B[39m(\u001B[38;5;28mself\u001B[39m, batch):\n\u001B[0;32m    595\u001B[0m     \u001B[38;5;66;03m# Don't delay the application, to avoid keeping the input\u001B[39;00m\n\u001B[0;32m    596\u001B[0m     \u001B[38;5;66;03m# arguments in memory\u001B[39;00m\n\u001B[1;32m--> 597\u001B[0m     \u001B[38;5;28mself\u001B[39m\u001B[38;5;241m.\u001B[39mresults \u001B[38;5;241m=\u001B[39m \u001B[43mbatch\u001B[49m\u001B[43m(\u001B[49m\u001B[43m)\u001B[49m\n",
      "File \u001B[1;32m~\\AppData\\Local\\Programs\\Python\\Python311\\Lib\\site-packages\\joblib\\parallel.py:288\u001B[0m, in \u001B[0;36mBatchedCalls.__call__\u001B[1;34m(self)\u001B[0m\n\u001B[0;32m    284\u001B[0m \u001B[38;5;28;01mdef\u001B[39;00m \u001B[38;5;21m__call__\u001B[39m(\u001B[38;5;28mself\u001B[39m):\n\u001B[0;32m    285\u001B[0m     \u001B[38;5;66;03m# Set the default nested backend to self._backend but do not set the\u001B[39;00m\n\u001B[0;32m    286\u001B[0m     \u001B[38;5;66;03m# change the default number of processes to -1\u001B[39;00m\n\u001B[0;32m    287\u001B[0m     \u001B[38;5;28;01mwith\u001B[39;00m parallel_backend(\u001B[38;5;28mself\u001B[39m\u001B[38;5;241m.\u001B[39m_backend, n_jobs\u001B[38;5;241m=\u001B[39m\u001B[38;5;28mself\u001B[39m\u001B[38;5;241m.\u001B[39m_n_jobs):\n\u001B[1;32m--> 288\u001B[0m         \u001B[38;5;28;01mreturn\u001B[39;00m \u001B[43m[\u001B[49m\u001B[43mfunc\u001B[49m\u001B[43m(\u001B[49m\u001B[38;5;241;43m*\u001B[39;49m\u001B[43margs\u001B[49m\u001B[43m,\u001B[49m\u001B[43m \u001B[49m\u001B[38;5;241;43m*\u001B[39;49m\u001B[38;5;241;43m*\u001B[39;49m\u001B[43mkwargs\u001B[49m\u001B[43m)\u001B[49m\n\u001B[0;32m    289\u001B[0m \u001B[43m                \u001B[49m\u001B[38;5;28;43;01mfor\u001B[39;49;00m\u001B[43m \u001B[49m\u001B[43mfunc\u001B[49m\u001B[43m,\u001B[49m\u001B[43m \u001B[49m\u001B[43margs\u001B[49m\u001B[43m,\u001B[49m\u001B[43m \u001B[49m\u001B[43mkwargs\u001B[49m\u001B[43m \u001B[49m\u001B[38;5;129;43;01min\u001B[39;49;00m\u001B[43m \u001B[49m\u001B[38;5;28;43mself\u001B[39;49m\u001B[38;5;241;43m.\u001B[39;49m\u001B[43mitems\u001B[49m\u001B[43m]\u001B[49m\n",
      "File \u001B[1;32m~\\AppData\\Local\\Programs\\Python\\Python311\\Lib\\site-packages\\joblib\\parallel.py:288\u001B[0m, in \u001B[0;36m<listcomp>\u001B[1;34m(.0)\u001B[0m\n\u001B[0;32m    284\u001B[0m \u001B[38;5;28;01mdef\u001B[39;00m \u001B[38;5;21m__call__\u001B[39m(\u001B[38;5;28mself\u001B[39m):\n\u001B[0;32m    285\u001B[0m     \u001B[38;5;66;03m# Set the default nested backend to self._backend but do not set the\u001B[39;00m\n\u001B[0;32m    286\u001B[0m     \u001B[38;5;66;03m# change the default number of processes to -1\u001B[39;00m\n\u001B[0;32m    287\u001B[0m     \u001B[38;5;28;01mwith\u001B[39;00m parallel_backend(\u001B[38;5;28mself\u001B[39m\u001B[38;5;241m.\u001B[39m_backend, n_jobs\u001B[38;5;241m=\u001B[39m\u001B[38;5;28mself\u001B[39m\u001B[38;5;241m.\u001B[39m_n_jobs):\n\u001B[1;32m--> 288\u001B[0m         \u001B[38;5;28;01mreturn\u001B[39;00m [\u001B[43mfunc\u001B[49m\u001B[43m(\u001B[49m\u001B[38;5;241;43m*\u001B[39;49m\u001B[43margs\u001B[49m\u001B[43m,\u001B[49m\u001B[43m \u001B[49m\u001B[38;5;241;43m*\u001B[39;49m\u001B[38;5;241;43m*\u001B[39;49m\u001B[43mkwargs\u001B[49m\u001B[43m)\u001B[49m\n\u001B[0;32m    289\u001B[0m                 \u001B[38;5;28;01mfor\u001B[39;00m func, args, kwargs \u001B[38;5;129;01min\u001B[39;00m \u001B[38;5;28mself\u001B[39m\u001B[38;5;241m.\u001B[39mitems]\n",
      "File \u001B[1;32m~\\AppData\\Local\\Programs\\Python\\Python311\\Lib\\site-packages\\sklearn\\utils\\parallel.py:123\u001B[0m, in \u001B[0;36m_FuncWrapper.__call__\u001B[1;34m(self, *args, **kwargs)\u001B[0m\n\u001B[0;32m    121\u001B[0m     config \u001B[38;5;241m=\u001B[39m {}\n\u001B[0;32m    122\u001B[0m \u001B[38;5;28;01mwith\u001B[39;00m config_context(\u001B[38;5;241m*\u001B[39m\u001B[38;5;241m*\u001B[39mconfig):\n\u001B[1;32m--> 123\u001B[0m     \u001B[38;5;28;01mreturn\u001B[39;00m \u001B[38;5;28;43mself\u001B[39;49m\u001B[38;5;241;43m.\u001B[39;49m\u001B[43mfunction\u001B[49m\u001B[43m(\u001B[49m\u001B[38;5;241;43m*\u001B[39;49m\u001B[43margs\u001B[49m\u001B[43m,\u001B[49m\u001B[43m \u001B[49m\u001B[38;5;241;43m*\u001B[39;49m\u001B[38;5;241;43m*\u001B[39;49m\u001B[43mkwargs\u001B[49m\u001B[43m)\u001B[49m\n",
      "File \u001B[1;32m~\\AppData\\Local\\Programs\\Python\\Python311\\Lib\\site-packages\\sklearn\\model_selection\\_validation.py:686\u001B[0m, in \u001B[0;36m_fit_and_score\u001B[1;34m(estimator, X, y, scorer, train, test, verbose, parameters, fit_params, return_train_score, return_parameters, return_n_test_samples, return_times, return_estimator, split_progress, candidate_progress, error_score)\u001B[0m\n\u001B[0;32m    684\u001B[0m         estimator\u001B[38;5;241m.\u001B[39mfit(X_train, \u001B[38;5;241m*\u001B[39m\u001B[38;5;241m*\u001B[39mfit_params)\n\u001B[0;32m    685\u001B[0m     \u001B[38;5;28;01melse\u001B[39;00m:\n\u001B[1;32m--> 686\u001B[0m         \u001B[43mestimator\u001B[49m\u001B[38;5;241;43m.\u001B[39;49m\u001B[43mfit\u001B[49m\u001B[43m(\u001B[49m\u001B[43mX_train\u001B[49m\u001B[43m,\u001B[49m\u001B[43m \u001B[49m\u001B[43my_train\u001B[49m\u001B[43m,\u001B[49m\u001B[43m \u001B[49m\u001B[38;5;241;43m*\u001B[39;49m\u001B[38;5;241;43m*\u001B[39;49m\u001B[43mfit_params\u001B[49m\u001B[43m)\u001B[49m\n\u001B[0;32m    688\u001B[0m \u001B[38;5;28;01mexcept\u001B[39;00m \u001B[38;5;167;01mException\u001B[39;00m:\n\u001B[0;32m    689\u001B[0m     \u001B[38;5;66;03m# Note fit time as time until error\u001B[39;00m\n\u001B[0;32m    690\u001B[0m     fit_time \u001B[38;5;241m=\u001B[39m time\u001B[38;5;241m.\u001B[39mtime() \u001B[38;5;241m-\u001B[39m start_time\n",
      "File \u001B[1;32m~\\AppData\\Local\\Programs\\Python\\Python311\\Lib\\site-packages\\sklearn\\ensemble\\_gb.py:538\u001B[0m, in \u001B[0;36mBaseGradientBoosting.fit\u001B[1;34m(self, X, y, sample_weight, monitor)\u001B[0m\n\u001B[0;32m    535\u001B[0m     \u001B[38;5;28mself\u001B[39m\u001B[38;5;241m.\u001B[39m_resize_state()\n\u001B[0;32m    537\u001B[0m \u001B[38;5;66;03m# fit the boosting stages\u001B[39;00m\n\u001B[1;32m--> 538\u001B[0m n_stages \u001B[38;5;241m=\u001B[39m \u001B[38;5;28;43mself\u001B[39;49m\u001B[38;5;241;43m.\u001B[39;49m\u001B[43m_fit_stages\u001B[49m\u001B[43m(\u001B[49m\n\u001B[0;32m    539\u001B[0m \u001B[43m    \u001B[49m\u001B[43mX\u001B[49m\u001B[43m,\u001B[49m\n\u001B[0;32m    540\u001B[0m \u001B[43m    \u001B[49m\u001B[43my\u001B[49m\u001B[43m,\u001B[49m\n\u001B[0;32m    541\u001B[0m \u001B[43m    \u001B[49m\u001B[43mraw_predictions\u001B[49m\u001B[43m,\u001B[49m\n\u001B[0;32m    542\u001B[0m \u001B[43m    \u001B[49m\u001B[43msample_weight\u001B[49m\u001B[43m,\u001B[49m\n\u001B[0;32m    543\u001B[0m \u001B[43m    \u001B[49m\u001B[38;5;28;43mself\u001B[39;49m\u001B[38;5;241;43m.\u001B[39;49m\u001B[43m_rng\u001B[49m\u001B[43m,\u001B[49m\n\u001B[0;32m    544\u001B[0m \u001B[43m    \u001B[49m\u001B[43mX_val\u001B[49m\u001B[43m,\u001B[49m\n\u001B[0;32m    545\u001B[0m \u001B[43m    \u001B[49m\u001B[43my_val\u001B[49m\u001B[43m,\u001B[49m\n\u001B[0;32m    546\u001B[0m \u001B[43m    \u001B[49m\u001B[43msample_weight_val\u001B[49m\u001B[43m,\u001B[49m\n\u001B[0;32m    547\u001B[0m \u001B[43m    \u001B[49m\u001B[43mbegin_at_stage\u001B[49m\u001B[43m,\u001B[49m\n\u001B[0;32m    548\u001B[0m \u001B[43m    \u001B[49m\u001B[43mmonitor\u001B[49m\u001B[43m,\u001B[49m\n\u001B[0;32m    549\u001B[0m \u001B[43m\u001B[49m\u001B[43m)\u001B[49m\n\u001B[0;32m    551\u001B[0m \u001B[38;5;66;03m# change shape of arrays after fit (early-stopping or additional ests)\u001B[39;00m\n\u001B[0;32m    552\u001B[0m \u001B[38;5;28;01mif\u001B[39;00m n_stages \u001B[38;5;241m!=\u001B[39m \u001B[38;5;28mself\u001B[39m\u001B[38;5;241m.\u001B[39mestimators_\u001B[38;5;241m.\u001B[39mshape[\u001B[38;5;241m0\u001B[39m]:\n",
      "File \u001B[1;32m~\\AppData\\Local\\Programs\\Python\\Python311\\Lib\\site-packages\\sklearn\\ensemble\\_gb.py:615\u001B[0m, in \u001B[0;36mBaseGradientBoosting._fit_stages\u001B[1;34m(self, X, y, raw_predictions, sample_weight, random_state, X_val, y_val, sample_weight_val, begin_at_stage, monitor)\u001B[0m\n\u001B[0;32m    608\u001B[0m     old_oob_score \u001B[38;5;241m=\u001B[39m loss_(\n\u001B[0;32m    609\u001B[0m         y[\u001B[38;5;241m~\u001B[39msample_mask],\n\u001B[0;32m    610\u001B[0m         raw_predictions[\u001B[38;5;241m~\u001B[39msample_mask],\n\u001B[0;32m    611\u001B[0m         sample_weight[\u001B[38;5;241m~\u001B[39msample_mask],\n\u001B[0;32m    612\u001B[0m     )\n\u001B[0;32m    614\u001B[0m \u001B[38;5;66;03m# fit next stage of trees\u001B[39;00m\n\u001B[1;32m--> 615\u001B[0m raw_predictions \u001B[38;5;241m=\u001B[39m \u001B[38;5;28;43mself\u001B[39;49m\u001B[38;5;241;43m.\u001B[39;49m\u001B[43m_fit_stage\u001B[49m\u001B[43m(\u001B[49m\n\u001B[0;32m    616\u001B[0m \u001B[43m    \u001B[49m\u001B[43mi\u001B[49m\u001B[43m,\u001B[49m\n\u001B[0;32m    617\u001B[0m \u001B[43m    \u001B[49m\u001B[43mX\u001B[49m\u001B[43m,\u001B[49m\n\u001B[0;32m    618\u001B[0m \u001B[43m    \u001B[49m\u001B[43my\u001B[49m\u001B[43m,\u001B[49m\n\u001B[0;32m    619\u001B[0m \u001B[43m    \u001B[49m\u001B[43mraw_predictions\u001B[49m\u001B[43m,\u001B[49m\n\u001B[0;32m    620\u001B[0m \u001B[43m    \u001B[49m\u001B[43msample_weight\u001B[49m\u001B[43m,\u001B[49m\n\u001B[0;32m    621\u001B[0m \u001B[43m    \u001B[49m\u001B[43msample_mask\u001B[49m\u001B[43m,\u001B[49m\n\u001B[0;32m    622\u001B[0m \u001B[43m    \u001B[49m\u001B[43mrandom_state\u001B[49m\u001B[43m,\u001B[49m\n\u001B[0;32m    623\u001B[0m \u001B[43m    \u001B[49m\u001B[43mX_csc\u001B[49m\u001B[43m,\u001B[49m\n\u001B[0;32m    624\u001B[0m \u001B[43m    \u001B[49m\u001B[43mX_csr\u001B[49m\u001B[43m,\u001B[49m\n\u001B[0;32m    625\u001B[0m \u001B[43m\u001B[49m\u001B[43m)\u001B[49m\n\u001B[0;32m    627\u001B[0m \u001B[38;5;66;03m# track deviance (= loss)\u001B[39;00m\n\u001B[0;32m    628\u001B[0m \u001B[38;5;28;01mif\u001B[39;00m do_oob:\n",
      "File \u001B[1;32m~\\AppData\\Local\\Programs\\Python\\Python311\\Lib\\site-packages\\sklearn\\ensemble\\_gb.py:257\u001B[0m, in \u001B[0;36mBaseGradientBoosting._fit_stage\u001B[1;34m(self, i, X, y, raw_predictions, sample_weight, sample_mask, random_state, X_csc, X_csr)\u001B[0m\n\u001B[0;32m    254\u001B[0m     sample_weight \u001B[38;5;241m=\u001B[39m sample_weight \u001B[38;5;241m*\u001B[39m sample_mask\u001B[38;5;241m.\u001B[39mastype(np\u001B[38;5;241m.\u001B[39mfloat64)\n\u001B[0;32m    256\u001B[0m X \u001B[38;5;241m=\u001B[39m X_csr \u001B[38;5;28;01mif\u001B[39;00m X_csr \u001B[38;5;129;01mis\u001B[39;00m \u001B[38;5;129;01mnot\u001B[39;00m \u001B[38;5;28;01mNone\u001B[39;00m \u001B[38;5;28;01melse\u001B[39;00m X\n\u001B[1;32m--> 257\u001B[0m \u001B[43mtree\u001B[49m\u001B[38;5;241;43m.\u001B[39;49m\u001B[43mfit\u001B[49m\u001B[43m(\u001B[49m\u001B[43mX\u001B[49m\u001B[43m,\u001B[49m\u001B[43m \u001B[49m\u001B[43mresidual\u001B[49m\u001B[43m,\u001B[49m\u001B[43m \u001B[49m\u001B[43msample_weight\u001B[49m\u001B[38;5;241;43m=\u001B[39;49m\u001B[43msample_weight\u001B[49m\u001B[43m,\u001B[49m\u001B[43m \u001B[49m\u001B[43mcheck_input\u001B[49m\u001B[38;5;241;43m=\u001B[39;49m\u001B[38;5;28;43;01mFalse\u001B[39;49;00m\u001B[43m)\u001B[49m\n\u001B[0;32m    259\u001B[0m \u001B[38;5;66;03m# update tree leaves\u001B[39;00m\n\u001B[0;32m    260\u001B[0m loss\u001B[38;5;241m.\u001B[39mupdate_terminal_regions(\n\u001B[0;32m    261\u001B[0m     tree\u001B[38;5;241m.\u001B[39mtree_,\n\u001B[0;32m    262\u001B[0m     X,\n\u001B[1;32m   (...)\u001B[0m\n\u001B[0;32m    269\u001B[0m     k\u001B[38;5;241m=\u001B[39mk,\n\u001B[0;32m    270\u001B[0m )\n",
      "File \u001B[1;32m~\\AppData\\Local\\Programs\\Python\\Python311\\Lib\\site-packages\\sklearn\\tree\\_classes.py:1247\u001B[0m, in \u001B[0;36mDecisionTreeRegressor.fit\u001B[1;34m(self, X, y, sample_weight, check_input)\u001B[0m\n\u001B[0;32m   1218\u001B[0m \u001B[38;5;28;01mdef\u001B[39;00m \u001B[38;5;21mfit\u001B[39m(\u001B[38;5;28mself\u001B[39m, X, y, sample_weight\u001B[38;5;241m=\u001B[39m\u001B[38;5;28;01mNone\u001B[39;00m, check_input\u001B[38;5;241m=\u001B[39m\u001B[38;5;28;01mTrue\u001B[39;00m):\n\u001B[0;32m   1219\u001B[0m     \u001B[38;5;124;03m\"\"\"Build a decision tree regressor from the training set (X, y).\u001B[39;00m\n\u001B[0;32m   1220\u001B[0m \n\u001B[0;32m   1221\u001B[0m \u001B[38;5;124;03m    Parameters\u001B[39;00m\n\u001B[1;32m   (...)\u001B[0m\n\u001B[0;32m   1244\u001B[0m \u001B[38;5;124;03m        Fitted estimator.\u001B[39;00m\n\u001B[0;32m   1245\u001B[0m \u001B[38;5;124;03m    \"\"\"\u001B[39;00m\n\u001B[1;32m-> 1247\u001B[0m     \u001B[38;5;28;43msuper\u001B[39;49m\u001B[43m(\u001B[49m\u001B[43m)\u001B[49m\u001B[38;5;241;43m.\u001B[39;49m\u001B[43mfit\u001B[49m\u001B[43m(\u001B[49m\n\u001B[0;32m   1248\u001B[0m \u001B[43m        \u001B[49m\u001B[43mX\u001B[49m\u001B[43m,\u001B[49m\n\u001B[0;32m   1249\u001B[0m \u001B[43m        \u001B[49m\u001B[43my\u001B[49m\u001B[43m,\u001B[49m\n\u001B[0;32m   1250\u001B[0m \u001B[43m        \u001B[49m\u001B[43msample_weight\u001B[49m\u001B[38;5;241;43m=\u001B[39;49m\u001B[43msample_weight\u001B[49m\u001B[43m,\u001B[49m\n\u001B[0;32m   1251\u001B[0m \u001B[43m        \u001B[49m\u001B[43mcheck_input\u001B[49m\u001B[38;5;241;43m=\u001B[39;49m\u001B[43mcheck_input\u001B[49m\u001B[43m,\u001B[49m\n\u001B[0;32m   1252\u001B[0m \u001B[43m    \u001B[49m\u001B[43m)\u001B[49m\n\u001B[0;32m   1253\u001B[0m     \u001B[38;5;28;01mreturn\u001B[39;00m \u001B[38;5;28mself\u001B[39m\n",
      "File \u001B[1;32m~\\AppData\\Local\\Programs\\Python\\Python311\\Lib\\site-packages\\sklearn\\tree\\_classes.py:379\u001B[0m, in \u001B[0;36mBaseDecisionTree.fit\u001B[1;34m(self, X, y, sample_weight, check_input)\u001B[0m\n\u001B[0;32m    368\u001B[0m \u001B[38;5;28;01melse\u001B[39;00m:\n\u001B[0;32m    369\u001B[0m     builder \u001B[38;5;241m=\u001B[39m BestFirstTreeBuilder(\n\u001B[0;32m    370\u001B[0m         splitter,\n\u001B[0;32m    371\u001B[0m         min_samples_split,\n\u001B[1;32m   (...)\u001B[0m\n\u001B[0;32m    376\u001B[0m         \u001B[38;5;28mself\u001B[39m\u001B[38;5;241m.\u001B[39mmin_impurity_decrease,\n\u001B[0;32m    377\u001B[0m     )\n\u001B[1;32m--> 379\u001B[0m \u001B[43mbuilder\u001B[49m\u001B[38;5;241;43m.\u001B[39;49m\u001B[43mbuild\u001B[49m\u001B[43m(\u001B[49m\u001B[38;5;28;43mself\u001B[39;49m\u001B[38;5;241;43m.\u001B[39;49m\u001B[43mtree_\u001B[49m\u001B[43m,\u001B[49m\u001B[43m \u001B[49m\u001B[43mX\u001B[49m\u001B[43m,\u001B[49m\u001B[43m \u001B[49m\u001B[43my\u001B[49m\u001B[43m,\u001B[49m\u001B[43m \u001B[49m\u001B[43msample_weight\u001B[49m\u001B[43m)\u001B[49m\n\u001B[0;32m    381\u001B[0m \u001B[38;5;28;01mif\u001B[39;00m \u001B[38;5;28mself\u001B[39m\u001B[38;5;241m.\u001B[39mn_outputs_ \u001B[38;5;241m==\u001B[39m \u001B[38;5;241m1\u001B[39m \u001B[38;5;129;01mand\u001B[39;00m is_classifier(\u001B[38;5;28mself\u001B[39m):\n\u001B[0;32m    382\u001B[0m     \u001B[38;5;28mself\u001B[39m\u001B[38;5;241m.\u001B[39mn_classes_ \u001B[38;5;241m=\u001B[39m \u001B[38;5;28mself\u001B[39m\u001B[38;5;241m.\u001B[39mn_classes_[\u001B[38;5;241m0\u001B[39m]\n",
      "\u001B[1;31mKeyboardInterrupt\u001B[0m: "
     ]
    }
   ],
   "source": [
    "from sklearn.preprocessing import OrdinalEncoder\n",
    "from xgboost import XGBClassifier\n",
    "from sklearn.ensemble import RandomForestClassifier, GradientBoostingClassifier, AdaBoostClassifier, ExtraTreesClassifier\n",
    "import pandas as pd\n",
    "from sklearn.tree import DecisionTreeClassifier\n",
    "from sklearn.model_selection import GridSearchCV, cross_val_score, StratifiedKFold\n",
    "from sklearn.feature_extraction.text import TfidfVectorizer\n",
    "from sklearn.metrics import accuracy_score, f1_score\n",
    "from lightgbm import LGBMClassifier\n",
    "\n",
    "# Load your dataset\n",
    "df = pd.read_csv('train_data.csv')\n",
    "\n",
    "# Preprocess the text data\n",
    "def preprocess_text(text):\n",
    "    # Normalize Persian characters\n",
    "    text = normalize_persian(text)\n",
    "\n",
    "    # Convert to lowercase\n",
    "    text = text.lower()\n",
    "\n",
    "    # Add more preprocessing steps as needed\n",
    "\n",
    "    return text\n",
    "\n",
    "def normalize_persian(text):\n",
    "    # Define a function to normalize Persian characters\n",
    "    persian_digits = '۰۱۲۳۴۵۶۷۸۹٦'\n",
    "    english_digits = '01234567896'\n",
    "    yeh_characters = ['ی', 'ي', 'ے', 'ئ', 'ى']\n",
    "\n",
    "    text = text.translate(str.maketrans(persian_digits, english_digits))\n",
    "    for char in yeh_characters:\n",
    "        text = text.replace(char, 'ی')\n",
    "\n",
    "    return text\n",
    "\n",
    "# Preprocess the text data\n",
    "df['Sentence'] = df['Sentence'].apply(preprocess_text)\n",
    "encoder = OrdinalEncoder()\n",
    "# Fit and transform the 'emotion' column\n",
    "df['emotion'] = encoder.fit_transform(df[['Emotion']])\n",
    "\n",
    "# Extract features using TF-IDF\n",
    "tfidf = TfidfVectorizer()\n",
    "X_tfidf = tfidf.fit_transform(df['Sentence'])\n",
    "\n",
    "# Define the hyperparameter grids for each model\n",
    "param_grids = {\n",
    "    'Decision Tree': {'criterion': ['gini', 'entropy'], 'max_depth': [5, 10, 15, None]},\n",
    "    'Random Forest': {'n_estimators': [50, 100, 150], 'max_depth': [5, 10, 15, None]},\n",
    "    'Gradient Boosting': {'n_estimators': [50, 100, 150], 'learning_rate': [0.1, 0.2, 0.3]},\n",
    "    'XGBoost': {'max_depth': [3, 5, 7], 'learning_rate': [0.1, 0.2, 0.3]},\n",
    "    'AdaBoost': {'n_estimators': [50, 100, 150], 'learning_rate': [0.1, 0.5, 1.0]},\n",
    "    'Extra Tree': {'n_estimators': [50, 100, 150], 'criterion': ['gini', 'entropy']},\n",
    "    'LightGBM': {'num_leaves': [31, 63, 127], 'learning_rate': [0.1, 0.2, 0.3]}\n",
    "}\n",
    "\n",
    "# Train the tree-based models using cross-validation with hyperparameter optimization\n",
    "for model_name, model_class in [\n",
    "    ('Decision Tree', DecisionTreeClassifier),\n",
    "    ('Random Forest', RandomForestClassifier),\n",
    "    ('Gradient Boosting', GradientBoostingClassifier),\n",
    "    ('XGBoost', XGBClassifier),\n",
    "    ('AdaBoost', AdaBoostClassifier),\n",
    "    ('Extra Tree', ExtraTreesClassifier),\n",
    "    ('LightGBM', LGBMClassifier)\n",
    "]:\n",
    "    print(f'Optimizing {model_name} model...')\n",
    "    model = model_class()\n",
    "    grid_search = GridSearchCV(model, param_grid=param_grids[model_name], cv=StratifiedKFold(n_splits=5, shuffle=True, random_state=42), scoring=['accuracy', 'f1_weighted'], refit='accuracy')\n",
    "    grid_search.fit(X_tfidf, df['emotion'])\n",
    "\n",
    "    #print(f'{model_name} - Best Accuracy: {grid_search.best_score_[\"accuracy\"]:.2f}')\n",
    "    #print(f'{model_name} - Best F1-score: {grid_search.best_score_[\"f1_weighted\"]:.2f}')\n",
    "    print(f'{model_name} - Best Hyperparameters: {grid_search.best_params_}')\n"
   ],
   "metadata": {
    "collapsed": false,
    "ExecuteTime": {
     "end_time": "2024-06-04T12:05:51.878677800Z",
     "start_time": "2024-06-04T11:42:51.469754Z"
    }
   }
  },
  {
   "cell_type": "code",
   "execution_count": null,
   "outputs": [],
   "source": [],
   "metadata": {
    "collapsed": false
   }
  }
 ],
 "metadata": {
  "kernelspec": {
   "display_name": "Python 3",
   "language": "python",
   "name": "python3"
  },
  "language_info": {
   "codemirror_mode": {
    "name": "ipython",
    "version": 2
   },
   "file_extension": ".py",
   "mimetype": "text/x-python",
   "name": "python",
   "nbconvert_exporter": "python",
   "pygments_lexer": "ipython2",
   "version": "2.7.6"
  }
 },
 "nbformat": 4,
 "nbformat_minor": 0
}

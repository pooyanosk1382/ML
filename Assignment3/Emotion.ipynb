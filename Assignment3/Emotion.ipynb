{
 "cells": [
  {
   "cell_type": "code",
   "execution_count": 50,
   "metadata": {
    "collapsed": true,
    "ExecuteTime": {
     "end_time": "2024-06-04T00:37:36.950837100Z",
     "start_time": "2024-06-04T00:37:36.930994300Z"
    }
   },
   "outputs": [],
   "source": [
    "import numpy as np\n",
    "import pandas as pd\n",
    "import matplotlib.pyplot as plt\n",
    "import seaborn as sns"
   ]
  },
  {
   "cell_type": "markdown",
   "source": [
    "Before anything we add a name for each column to make them meaningful and easy to use."
   ],
   "metadata": {
    "collapsed": false
   }
  },
  {
   "cell_type": "code",
   "execution_count": 51,
   "outputs": [
    {
     "data": {
      "text/plain": "                                               Sentence Emotion\n0     کی گفته مرد گریه نمیکنه!؟!؟ سیلم امشب سیل #اصفهان     SAD\n1     عکسی که چند روز پیش گذاشته بودم این فیلم الانش...   OTHER\n2     تنهاییم شبیه تنهاییه ظهرای بچگیم شده وقتی که ه...     SAD\n3              خوبه تمام قسمت‌های گوشی رو محافظت می‌کنه   HAPPY\n4     این خاک مال مردمان است نه حاکمان #ایران #مهسا_...   ANGRY\n...                                                 ...     ...\n4919  من از بو و ماندگاریش راضی بودم ، قیمتش هم‌ مناسبه   HAPPY\n4920  گاز نداریم آب نداریم برق نداریم نت نداریم پول ...     SAD\n4921  یکی بهم گفت برنو چرا عاشق نمیشی گفتم ما پول عا...     SAD\n4922  زیادی داریم به قضیه ی گاز میپردازیم فقط فراخوا...   OTHER\n4923  سلام. خیلی مواظبت کنید این ویروس کوفتی رو‌ نگی...     SAD\n\n[4924 rows x 2 columns]",
      "text/html": "<div>\n<style scoped>\n    .dataframe tbody tr th:only-of-type {\n        vertical-align: middle;\n    }\n\n    .dataframe tbody tr th {\n        vertical-align: top;\n    }\n\n    .dataframe thead th {\n        text-align: right;\n    }\n</style>\n<table border=\"1\" class=\"dataframe\">\n  <thead>\n    <tr style=\"text-align: right;\">\n      <th></th>\n      <th>Sentence</th>\n      <th>Emotion</th>\n    </tr>\n  </thead>\n  <tbody>\n    <tr>\n      <th>0</th>\n      <td>کی گفته مرد گریه نمیکنه!؟!؟ سیلم امشب سیل #اصفهان</td>\n      <td>SAD</td>\n    </tr>\n    <tr>\n      <th>1</th>\n      <td>عکسی که چند روز پیش گذاشته بودم این فیلم الانش...</td>\n      <td>OTHER</td>\n    </tr>\n    <tr>\n      <th>2</th>\n      <td>تنهاییم شبیه تنهاییه ظهرای بچگیم شده وقتی که ه...</td>\n      <td>SAD</td>\n    </tr>\n    <tr>\n      <th>3</th>\n      <td>خوبه تمام قسمت‌های گوشی رو محافظت می‌کنه</td>\n      <td>HAPPY</td>\n    </tr>\n    <tr>\n      <th>4</th>\n      <td>این خاک مال مردمان است نه حاکمان #ایران #مهسا_...</td>\n      <td>ANGRY</td>\n    </tr>\n    <tr>\n      <th>...</th>\n      <td>...</td>\n      <td>...</td>\n    </tr>\n    <tr>\n      <th>4919</th>\n      <td>من از بو و ماندگاریش راضی بودم ، قیمتش هم‌ مناسبه</td>\n      <td>HAPPY</td>\n    </tr>\n    <tr>\n      <th>4920</th>\n      <td>گاز نداریم آب نداریم برق نداریم نت نداریم پول ...</td>\n      <td>SAD</td>\n    </tr>\n    <tr>\n      <th>4921</th>\n      <td>یکی بهم گفت برنو چرا عاشق نمیشی گفتم ما پول عا...</td>\n      <td>SAD</td>\n    </tr>\n    <tr>\n      <th>4922</th>\n      <td>زیادی داریم به قضیه ی گاز میپردازیم فقط فراخوا...</td>\n      <td>OTHER</td>\n    </tr>\n    <tr>\n      <th>4923</th>\n      <td>سلام. خیلی مواظبت کنید این ویروس کوفتی رو‌ نگی...</td>\n      <td>SAD</td>\n    </tr>\n  </tbody>\n</table>\n<p>4924 rows × 2 columns</p>\n</div>"
     },
     "execution_count": 51,
     "metadata": {},
     "output_type": "execute_result"
    }
   ],
   "source": [
    "data = pd.read_csv('train_data.csv')\n",
    "data"
   ],
   "metadata": {
    "collapsed": false,
    "ExecuteTime": {
     "end_time": "2024-06-04T00:37:37.029373100Z",
     "start_time": "2024-06-04T00:37:36.935160700Z"
    }
   }
  },
  {
   "cell_type": "code",
   "execution_count": 52,
   "outputs": [
    {
     "data": {
      "text/plain": "(4924, 2)"
     },
     "execution_count": 52,
     "metadata": {},
     "output_type": "execute_result"
    }
   ],
   "source": [
    "data.shape"
   ],
   "metadata": {
    "collapsed": false,
    "ExecuteTime": {
     "end_time": "2024-06-04T00:37:37.029373100Z",
     "start_time": "2024-06-04T00:37:36.966507300Z"
    }
   }
  },
  {
   "cell_type": "code",
   "execution_count": 53,
   "outputs": [
    {
     "data": {
      "text/plain": "Sentence    0\nEmotion     0\ndtype: int64"
     },
     "execution_count": 53,
     "metadata": {},
     "output_type": "execute_result"
    }
   ],
   "source": [
    "data.isnull().sum()"
   ],
   "metadata": {
    "collapsed": false,
    "ExecuteTime": {
     "end_time": "2024-06-04T00:37:37.029373100Z",
     "start_time": "2024-06-04T00:37:36.971133800Z"
    }
   }
  },
  {
   "cell_type": "code",
   "execution_count": 54,
   "outputs": [
    {
     "data": {
      "text/plain": "<AxesSubplot: >"
     },
     "execution_count": 54,
     "metadata": {},
     "output_type": "execute_result"
    },
    {
     "data": {
      "text/plain": "<Figure size 640x480 with 1 Axes>",
      "image/png": "[encoded data removed]"
     },
     "metadata": {},
     "output_type": "display_data"
    }
   ],
   "source": [
    "plot_df = data.Emotion.value_counts()\n",
    "plot_df.plot(kind=\"bar\")"
   ],
   "metadata": {
    "collapsed": false,
    "ExecuteTime": {
     "end_time": "2024-06-04T00:37:37.159474400Z",
     "start_time": "2024-06-04T00:37:36.982488Z"
    }
   }
  },
  {
   "cell_type": "code",
   "execution_count": 55,
   "outputs": [
    {
     "name": "stdout",
     "output_type": "stream",
     "text": [
      "210\n",
      "{'ى', '3', '²', 'م', 'k', 'I', '”', '\\u2067', 'A', '۵', 'ر', 'ك', 'ي', '٠', '☝', '⭕', 'ً', '☠', 'G', 'g', 'S', '۳', 'j', 'M', '✅', 'ث', 'ژ', '«', 'ټ', '/', 'u', '%', '٦', '\\u2066', 'ئ', 'x', '0', 'ق', '٬', '⛓', 'ش', 'ے', 'K', ' ', '☹', '☄', 'C', '•', 'ن', 'ص', '=', ',', ';', 'َ', 'ʏ', '\\u2069', '١', '\\u200d', '‘', '8', '⚘', '“', 'z', 'ᴛ', '۴', '✋', '؛', 'T', '✍', 'خ', 'س', 'ل', '\\u200c', ':', '✨', 'ّ', 'ت', '\\n', 'V', 'أ', 'ہ', ')', 'F', '*', '۹', '☘', 'D', '؟', 'ز', 't', 'h', '&', '⃟', '۶', '‐', '♀', 'H', 'ِ', 'y', 'ە', 'R', 'v', '-', '۔', 'ۀ', '[', '_', 'غ', 'e', 'ی', '۲', '⁉', 'ھ', '☺', 'l', 'ک', 'U', '٪', 'ذ', '️', '،', '٣', 'O', '✌', 'ؤ', '7', 'د', '¹', 'Y', 'm', 'ج', '❄', 'Q', '٫', 'ٔ', '⊰', 'o', '5', 'ظ', '۷', 'ع', 'J', '♥', 'ɴ', '+', 'L', '6', 'آ', 'b', 'W', 'پ', 'ح', 'a', 'r', 'd', '’', '?', 'چ', 'ب', '}', '۱', '4', 'ض', 'و', 'ـ', 'c', '(', '❤', '۰', '|', 'ْ', 'ُ', 'ط', 's', '٢', 'P', '♂', '»', '…', 'E', '1', 'w', '⭐', '⚽', 'N', 'n', 'p', 'گ', '~', 'ه', '2', '!', 'ف', 'ء', 'ا', 'Z', '#', 'f', 'i', ']', '°', '۸', '^', 'ة', 'q', 'ᴏ', '.', '9', 'B', 'ᴇ'}\n"
     ]
    }
   ],
   "source": [
    "uniqueChars = set(''.join(data['Sentence']))\n",
    "print(len(uniqueChars))\n",
    "print(uniqueChars)"
   ],
   "metadata": {
    "collapsed": false,
    "ExecuteTime": {
     "end_time": "2024-06-04T00:37:37.159474400Z",
     "start_time": "2024-06-04T00:37:37.112698800Z"
    }
   }
  },
  {
   "cell_type": "markdown",
   "source": [
    "As we can see there are capital and small letter. Also, there are three kind of 'ی' for only one char and there are persian and english numbers. We have to handle all of them."
   ],
   "metadata": {
    "collapsed": false
   }
  },
  {
   "cell_type": "code",
   "execution_count": 56,
   "outputs": [
    {
     "name": "stdout",
     "output_type": "stream",
     "text": [
      "185\n",
      "{'ى', '3', '²', 'م', 'k', '”', '\\u2067', '۵', 'ر', 'ك', 'ي', '٠', '☝', '⭕', 'ً', '☠', 'g', '۳', 'j', '✅', 'ث', 'ژ', '«', 'ټ', '/', 'u', '%', '٦', '\\u2066', 'ئ', 'x', '0', 'ق', '٬', '⛓', 'ش', 'ے', ' ', '☹', '☄', '•', 'ن', 'ص', '=', ',', ';', 'َ', 'ʏ', '\\u2069', '١', '\\u200d', '‘', '8', '⚘', '“', 'z', 'ᴛ', '۴', '✋', '؛', '✍', 'خ', 'س', 'ل', '\\u200c', ':', '✨', 'ّ', 'ت', '\\n', 'أ', 'ہ', ')', '*', '۹', '☘', '؟', 'ز', 't', 'h', '&', '⃟', '۶', '‐', '♀', 'ە', 'ِ', 'y', 'v', '-', '۔', 'ۀ', '[', '_', 'غ', 'e', 'ی', '۲', '⁉', 'ھ', '☺', 'l', 'ک', '٪', 'ذ', '️', '،', '٣', '✌', 'ؤ', '7', 'د', '¹', 'm', 'ج', '❄', '٫', 'ٔ', '⊰', 'o', '5', 'ظ', '۷', 'ع', '♥', 'ɴ', '+', '6', 'آ', 'b', 'پ', 'ح', 'a', 'r', 'd', '’', '?', 'چ', 'ب', '}', '۱', '4', 'ض', 'و', 'ـ', 'c', '(', '❤', '۰', '|', 'ْ', 'ُ', 'ط', 's', '٢', '♂', '»', '…', '1', 'w', '⭐', '⚽', 'n', 'p', 'گ', '~', 'ه', '2', '!', 'ف', 'ء', 'ا', '#', 'f', 'i', ']', '°', '۸', '^', 'ة', 'q', 'ᴏ', '.', '9', 'ᴇ'}\n"
     ]
    }
   ],
   "source": [
    "data['Sentence'] = data['Sentence'].str.lower()\n",
    "uniqueChars = set(''.join(data['Sentence']))\n",
    "print(len(uniqueChars))\n",
    "print(uniqueChars)"
   ],
   "metadata": {
    "collapsed": false,
    "ExecuteTime": {
     "end_time": "2024-06-04T00:37:37.159474400Z",
     "start_time": "2024-06-04T00:37:37.128175600Z"
    }
   }
  },
  {
   "cell_type": "code",
   "execution_count": 57,
   "outputs": [
    {
     "name": "stdout",
     "output_type": "stream",
     "text": [
      "174\n",
      "{'ى', '3', '²', 'م', 'k', '”', '\\u2067', 'ر', 'ك', 'ي', '٠', '☝', '⭕', 'ً', '☠', 'g', 'j', '✅', 'ث', 'ژ', '«', 'ټ', '/', 'u', '%', '\\u2066', 'ئ', 'x', '0', 'ق', '٬', '⛓', 'ش', 'ے', ' ', '☹', '☄', '•', 'ن', 'ص', '=', ',', ';', 'َ', 'ʏ', '\\u2069', '١', '\\u200d', '‘', '8', '⚘', '“', 'z', 'ᴛ', '✋', '؛', '✍', 'خ', 'س', 'ل', '\\u200c', ':', '✨', 'ّ', 'ت', '\\n', 'أ', 'ہ', ')', '*', '☘', '؟', 'ز', 't', 'h', '&', '⃟', '‐', '♀', 'ە', 'ِ', 'y', 'v', '-', '۔', 'ۀ', '[', '_', 'غ', 'e', 'ی', '⁉', 'ھ', '☺', 'l', 'ک', '٪', 'ذ', '️', '،', '٣', '✌', 'ؤ', '7', 'د', '¹', 'm', 'ج', '❄', '٫', 'ٔ', '⊰', 'o', '5', 'ظ', 'ع', '♥', 'ɴ', '+', '6', 'آ', 'b', 'پ', 'ح', 'a', 'r', 'd', '’', '?', 'چ', 'ب', '}', '4', 'ض', 'و', 'ـ', 'c', '(', '❤', '|', 'ْ', 'ُ', 'ط', 's', '٢', '♂', '»', '…', '1', 'w', '⭐', '⚽', 'n', 'p', 'گ', '~', 'ه', '2', '!', 'ف', 'ء', 'ا', '#', 'f', 'i', ']', '°', '^', 'ة', 'q', 'ᴏ', '.', '9', 'ᴇ'}\n"
     ]
    }
   ],
   "source": [
    "def convert_persian_to_english(text):\n",
    "    persian_digits = '۰۱۲۳۴۵۶۷۸۹٦'\n",
    "    english_digits = '01234567896'\n",
    "    translation_table = str.maketrans(persian_digits, english_digits)\n",
    "    return text.translate(translation_table)\n",
    "\n",
    "# Apply the function to the 'text' column\n",
    "data['Sentence'] = data['Sentence'].apply(convert_persian_to_english)\n",
    "uniqueChars = set(''.join(data['Sentence']))\n",
    "print(len(uniqueChars))\n",
    "print(uniqueChars)"
   ],
   "metadata": {
    "collapsed": false,
    "ExecuteTime": {
     "end_time": "2024-06-04T00:37:37.206599300Z",
     "start_time": "2024-06-04T00:37:37.145466500Z"
    }
   }
  },
  {
   "cell_type": "markdown",
   "source": [
    "Now we handle the numbers and upper cases."
   ],
   "metadata": {
    "collapsed": false
   }
  },
  {
   "cell_type": "code",
   "execution_count": 58,
   "outputs": [
    {
     "name": "stdout",
     "output_type": "stream",
     "text": [
      "170\n",
      "{'3', '²', 'م', 'k', '”', '\\u2067', 'ر', 'ك', '٠', '☝', '⭕', 'ً', '☠', 'g', 'j', '✅', 'ث', 'ژ', '«', 'ټ', '/', 'u', '%', '\\u2066', 'x', '0', 'ق', '٬', '⛓', 'ش', ' ', '☹', '☄', '•', 'ن', 'ص', '=', ',', ';', 'َ', 'ʏ', '\\u2069', '١', '\\u200d', '‘', '8', '⚘', '“', 'z', 'ᴛ', '✋', '؛', '✍', 'خ', 'س', 'ل', '\\u200c', ':', '✨', 'ّ', 'ت', '\\n', 'أ', 'ہ', ')', '*', '☘', '؟', 'ز', 't', 'h', '&', '⃟', '‐', '♀', 'ە', 'ِ', 'y', 'v', '-', '۔', 'ۀ', '[', '_', 'غ', 'e', 'ی', '⁉', 'ھ', '☺', 'l', 'ک', '٪', 'ذ', '️', '،', '٣', '✌', 'ؤ', '7', 'د', '¹', 'm', 'ج', '❄', '٫', 'ٔ', '⊰', 'o', '5', 'ظ', 'ع', '♥', 'ɴ', '+', '6', 'آ', 'b', 'پ', 'ح', 'a', 'r', 'd', '’', '?', 'چ', 'ب', '}', '4', 'ض', 'و', 'ـ', 'c', '(', '❤', '|', 'ْ', 'ُ', 'ط', 's', '٢', '♂', '»', '…', '1', 'w', '⭐', '⚽', 'n', 'p', 'گ', '~', 'ه', '2', '!', 'ف', 'ء', 'ا', '#', 'f', 'i', ']', '°', '^', 'ة', 'q', 'ᴏ', '.', '9', 'ᴇ'}\n"
     ]
    }
   ],
   "source": [
    "def normalize_yeh(text):\n",
    "    # The three types of \"ی\" in Persian: ی, ي, ے, ئ\n",
    "    yeh_characters = ['ی', 'ي', 'ے', 'ئ', 'ى']\n",
    "    # Convert all types of \"ی\" to the standard \"ی\"\n",
    "    for char in yeh_characters:\n",
    "        text = text.replace(char, 'ی')\n",
    "    return text\n",
    "\n",
    "# Apply the normalization function to the 'text' column\n",
    "data['Sentence'] = data['Sentence'].apply(normalize_yeh)\n",
    "uniqueChars = set(''.join(data['Sentence']))\n",
    "print(len(uniqueChars))\n",
    "print(uniqueChars)"
   ],
   "metadata": {
    "collapsed": false,
    "ExecuteTime": {
     "end_time": "2024-06-04T00:37:37.316659100Z",
     "start_time": "2024-06-04T00:37:37.206599300Z"
    }
   }
  },
  {
   "cell_type": "code",
   "execution_count": 61,
   "outputs": [
    {
     "name": "stdout",
     "output_type": "stream",
     "text": [
      "Accuracy: 0.61\n",
      "F1-score: 0.61\n"
     ]
    }
   ],
   "source": [
    "import pandas as pd\n",
    "from sklearn.model_selection import train_test_split\n",
    "from sklearn.feature_extraction.text import TfidfVectorizer\n",
    "from sklearn.linear_model import LogisticRegression\n",
    "from sklearn.metrics import accuracy_score, f1_score\n",
    "import re\n",
    "\n",
    "# Load your dataset\n",
    "df = pd.read_csv('train_data.csv')\n",
    "\n",
    "# Preprocess the text data\n",
    "def preprocess_text(text):\n",
    "    # Normalize Persian characters\n",
    "    text = normalize_persian(text)\n",
    "\n",
    "    # Convert to lowercase\n",
    "    text = text.lower()\n",
    "\n",
    "    # Add more preprocessing steps as needed\n",
    "\n",
    "    return text\n",
    "\n",
    "def normalize_persian(text):\n",
    "    # Define a function to normalize Persian characters\n",
    "    persian_digits = '۰۱۲۳۴۵۶۷۸۹'\n",
    "    english_digits = '0123456789'\n",
    "    yeh_characters = ['ی', 'ي', 'ے', 'ئ']\n",
    "\n",
    "    text = text.translate(str.maketrans(persian_digits, english_digits))\n",
    "    for char in yeh_characters:\n",
    "        text = text.replace(char, 'ی')\n",
    "\n",
    "    return text\n",
    "\n",
    "# Preprocess the text data\n",
    "df['Sentence'] = df['Sentence'].apply(preprocess_text)\n",
    "\n",
    "# Split the dataset into training and test sets\n",
    "X_train, X_test, y_train, y_test = train_test_split(df['Sentence'], df['Emotion'], test_size=0.2, random_state=42)\n",
    "\n",
    "# Extract features using TF-IDF\n",
    "tfidf = TfidfVectorizer()\n",
    "X_train_tfidf = tfidf.fit_transform(X_train)\n",
    "X_test_tfidf = tfidf.transform(X_test)\n",
    "\n",
    "# Train a logistic regression model\n",
    "model = LogisticRegression()\n",
    "model.fit(X_train_tfidf, y_train)\n",
    "\n",
    "# Evaluate the model on the test set\n",
    "y_pred = model.predict(X_test_tfidf)\n",
    "accuracy = accuracy_score(y_test, y_pred)\n",
    "f1 = f1_score(y_test, y_pred, average='weighted')\n",
    "\n",
    "print(f'Accuracy: {accuracy:.2f}')\n",
    "print(f'F1-score: {f1:.2f}')\n"
   ],
   "metadata": {
    "collapsed": false,
    "ExecuteTime": {
     "end_time": "2024-06-04T00:58:08.514339100Z",
     "start_time": "2024-06-04T00:58:07.694844900Z"
    }
   }
  },
  {
   "cell_type": "code",
   "execution_count": 1,
   "outputs": [
    {
     "name": "stdout",
     "output_type": "stream",
     "text": [
      "Accuracy: 0.58\n",
      "F1-score: 0.57\n"
     ]
    }
   ],
   "source": [
    "import pandas as pd\n",
    "from sklearn.model_selection import train_test_split\n",
    "from sklearn.feature_extraction.text import TfidfVectorizer\n",
    "from sklearn.linear_model import LogisticRegression\n",
    "from sklearn.metrics import accuracy_score, f1_score\n",
    "import re\n",
    "from sklearn.ensemble import RandomForestClassifier\n",
    "\n",
    "# Load your dataset\n",
    "df = pd.read_csv('train_data.csv')\n",
    "\n",
    "# Preprocess the text data\n",
    "def preprocess_text(text):\n",
    "    # Normalize Persian characters\n",
    "    text = normalize_persian(text)\n",
    "\n",
    "    # Convert to lowercase\n",
    "    text = text.lower()\n",
    "\n",
    "    # Add more preprocessing steps as needed\n",
    "\n",
    "    return text\n",
    "\n",
    "def normalize_persian(text):\n",
    "    # Define a function to normalize Persian characters\n",
    "    persian_digits = '۰۱۲۳۴۵۶۷۸۹'\n",
    "    english_digits = '0123456789'\n",
    "    yeh_characters = ['ی', 'ي', 'ے', 'ئ']\n",
    "\n",
    "    text = text.translate(str.maketrans(persian_digits, english_digits))\n",
    "    for char in yeh_characters:\n",
    "        text = text.replace(char, 'ی')\n",
    "\n",
    "    return text\n",
    "\n",
    "# Preprocess the text data\n",
    "df['Sentence'] = df['Sentence'].apply(preprocess_text)\n",
    "\n",
    "# Split the dataset into training and test sets\n",
    "X_train, X_test, y_train, y_test = train_test_split(df['Sentence'], df['Emotion'], test_size=0.2, random_state=42)\n",
    "\n",
    "# Extract features using TF-IDF\n",
    "tfidf = TfidfVectorizer()\n",
    "X_train_tfidf = tfidf.fit_transform(X_train)\n",
    "X_test_tfidf = tfidf.transform(X_test)\n",
    "\n",
    "# Train a logistic regression model\n",
    "model = RandomForestClassifier()\n",
    "model.fit(X_train_tfidf, y_train)\n",
    "\n",
    "# Evaluate the model on the test set\n",
    "y_pred = model.predict(X_test_tfidf)\n",
    "accuracy = accuracy_score(y_test, y_pred)\n",
    "f1 = f1_score(y_test, y_pred, average='weighted')\n",
    "\n",
    "print(f'Accuracy: {accuracy:.2f}')\n",
    "print(f'F1-score: {f1:.2f}')\n"
   ],
   "metadata": {
    "collapsed": false,
    "ExecuteTime": {
     "end_time": "2024-06-04T01:03:44.778086800Z",
     "start_time": "2024-06-04T01:03:34.096517300Z"
    }
   }
  },
  {
   "cell_type": "code",
   "execution_count": 6,
   "outputs": [
    {
     "name": "stdout",
     "output_type": "stream",
     "text": [
      "Accuracy: 0.62\n",
      "F1-score: 0.62\n"
     ]
    }
   ],
   "source": [
    "from sklearn.svm import SVC\n",
    "import pandas as pd\n",
    "from sklearn.model_selection import train_test_split\n",
    "from sklearn.feature_extraction.text import TfidfVectorizer\n",
    "from sklearn.linear_model import LogisticRegression\n",
    "from sklearn.metrics import accuracy_score, f1_score\n",
    "import re\n",
    "\n",
    "# Load your dataset\n",
    "df = pd.read_csv('train_data.csv')\n",
    "\n",
    "# Preprocess the text data\n",
    "def preprocess_text(text):\n",
    "    # Normalize Persian characters\n",
    "    text = normalize_persian(text)\n",
    "\n",
    "    # Convert to lowercase\n",
    "    text = text.lower()\n",
    "\n",
    "    # Add more preprocessing steps as needed\n",
    "\n",
    "    return text\n",
    "\n",
    "def normalize_persian(text):\n",
    "    # Define a function to normalize Persian characters\n",
    "    persian_digits = '۰۱۲۳۴۵۶۷۸۹'\n",
    "    english_digits = '0123456789'\n",
    "    yeh_characters = ['ی', 'ي', 'ے', 'ئ']\n",
    "\n",
    "    text = text.translate(str.maketrans(persian_digits, english_digits))\n",
    "    for char in yeh_characters:\n",
    "        text = text.replace(char, 'ی')\n",
    "\n",
    "    return text\n",
    "\n",
    "# Preprocess the text data\n",
    "df['Sentence'] = df['Sentence'].apply(preprocess_text)\n",
    "\n",
    "# Split the dataset into training and test sets\n",
    "X_train, X_test, y_train, y_test = train_test_split(df['Sentence'], df['Emotion'], test_size=0.2, random_state=42)\n",
    "\n",
    "# Extract features using TF-IDF\n",
    "tfidf = TfidfVectorizer()\n",
    "X_train_tfidf = tfidf.fit_transform(X_train)\n",
    "X_test_tfidf = tfidf.transform(X_test)\n",
    "\n",
    "# Train a logistic regression model\n",
    "model = SVC(kernel = 'rbf', random_state = 0)\n",
    "model.fit(X_train_tfidf, y_train)\n",
    "\n",
    "# Evaluate the model on the test set\n",
    "y_pred = model.predict(X_test_tfidf)\n",
    "accuracy = accuracy_score(y_test, y_pred)\n",
    "f1 = f1_score(y_test, y_pred, average='weighted')\n",
    "\n",
    "print(f'Accuracy: {accuracy:.2f}')\n",
    "print(f'F1-score: {f1:.2f}')\n"
   ],
   "metadata": {
    "collapsed": false,
    "ExecuteTime": {
     "end_time": "2024-06-04T01:06:28.880661200Z",
     "start_time": "2024-06-04T01:06:25.988365300Z"
    }
   }
  },
  {
   "cell_type": "code",
   "execution_count": 4,
   "outputs": [
    {
     "name": "stdout",
     "output_type": "stream",
     "text": [
      "Accuracy: 0.55\n",
      "F1-score: 0.54\n"
     ]
    }
   ],
   "source": [
    "from sklearn.neighbors import KNeighborsClassifier\n",
    "import pandas as pd\n",
    "from sklearn.model_selection import train_test_split\n",
    "from sklearn.feature_extraction.text import TfidfVectorizer\n",
    "from sklearn.linear_model import LogisticRegression\n",
    "from sklearn.metrics import accuracy_score, f1_score\n",
    "import re\n",
    "\n",
    "# Load your dataset\n",
    "df = pd.read_csv('train_data.csv')\n",
    "\n",
    "# Preprocess the text data\n",
    "def preprocess_text(text):\n",
    "    # Normalize Persian characters\n",
    "    text = normalize_persian(text)\n",
    "\n",
    "    # Convert to lowercase\n",
    "    text = text.lower()\n",
    "\n",
    "    # Add more preprocessing steps as needed\n",
    "\n",
    "    return text\n",
    "\n",
    "def normalize_persian(text):\n",
    "    # Define a function to normalize Persian characters\n",
    "    persian_digits = '۰۱۲۳۴۵۶۷۸۹'\n",
    "    english_digits = '0123456789'\n",
    "    yeh_characters = ['ی', 'ي', 'ے', 'ئ']\n",
    "\n",
    "    text = text.translate(str.maketrans(persian_digits, english_digits))\n",
    "    for char in yeh_characters:\n",
    "        text = text.replace(char, 'ی')\n",
    "\n",
    "    return text\n",
    "\n",
    "# Preprocess the text data\n",
    "df['Sentence'] = df['Sentence'].apply(preprocess_text)\n",
    "\n",
    "# Split the dataset into training and test sets\n",
    "X_train, X_test, y_train, y_test = train_test_split(df['Sentence'], df['Emotion'], test_size=0.2, random_state=42)\n",
    "\n",
    "# Extract features using TF-IDF\n",
    "tfidf = TfidfVectorizer()\n",
    "X_train_tfidf = tfidf.fit_transform(X_train)\n",
    "X_test_tfidf = tfidf.transform(X_test)\n",
    "\n",
    "# Train a logistic regression model\n",
    "model = KNeighborsClassifier()\n",
    "model.fit(X_train_tfidf, y_train)\n",
    "\n",
    "# Evaluate the model on the test set\n",
    "y_pred = model.predict(X_test_tfidf)\n",
    "accuracy = accuracy_score(y_test, y_pred)\n",
    "f1 = f1_score(y_test, y_pred, average='weighted')\n",
    "\n",
    "print(f'Accuracy: {accuracy:.2f}')\n",
    "print(f'F1-score: {f1:.2f}')\n"
   ],
   "metadata": {
    "collapsed": false,
    "ExecuteTime": {
     "end_time": "2024-06-04T01:06:09.187364900Z",
     "start_time": "2024-06-04T01:06:08.919287800Z"
    }
   }
  },
  {
   "cell_type": "code",
   "execution_count": 8,
   "outputs": [
    {
     "name": "stdout",
     "output_type": "stream",
     "text": [
      "Accuracy: 0.59\n",
      "F1-score: 0.60\n"
     ]
    }
   ],
   "source": [
    "from sklearn.preprocessing import OrdinalEncoder\n",
    "from xgboost import XGBClassifier\n",
    "import pandas as pd\n",
    "from sklearn.model_selection import train_test_split\n",
    "from sklearn.feature_extraction.text import TfidfVectorizer\n",
    "from sklearn.linear_model import LogisticRegression\n",
    "from sklearn.metrics import accuracy_score, f1_score\n",
    "import re\n",
    "\n",
    "# Load your dataset\n",
    "df = pd.read_csv('train_data.csv')\n",
    "\n",
    "# Preprocess the text data\n",
    "def preprocess_text(text):\n",
    "    # Normalize Persian characters\n",
    "    text = normalize_persian(text)\n",
    "\n",
    "    # Convert to lowercase\n",
    "    text = text.lower()\n",
    "\n",
    "    # Add more preprocessing steps as needed\n",
    "\n",
    "    return text\n",
    "\n",
    "def normalize_persian(text):\n",
    "    # Define a function to normalize Persian characters\n",
    "    persian_digits = '۰۱۲۳۴۵۶۷۸۹'\n",
    "    english_digits = '0123456789'\n",
    "    yeh_characters = ['ی', 'ي', 'ے', 'ئ']\n",
    "\n",
    "    text = text.translate(str.maketrans(persian_digits, english_digits))\n",
    "    for char in yeh_characters:\n",
    "        text = text.replace(char, 'ی')\n",
    "\n",
    "    return text\n",
    "\n",
    "# Preprocess the text data\n",
    "df['Sentence'] = df['Sentence'].apply(preprocess_text)\n",
    "encoder = OrdinalEncoder()\n",
    "# Fit and transform the 'emotion' column\n",
    "df['emotion'] = encoder.fit_transform(df[['Emotion']])\n",
    "# Split the dataset into training and test sets\n",
    "X_train, X_test, y_train, y_test = train_test_split(df['Sentence'], df['emotion'], test_size=0.2, random_state=42)\n",
    "\n",
    "# Extract features using TF-IDF\n",
    "tfidf = TfidfVectorizer()\n",
    "X_train_tfidf = tfidf.fit_transform(X_train)\n",
    "X_test_tfidf = tfidf.transform(X_test)\n",
    "\n",
    "# Train a logistic regression model\n",
    "model = XGBClassifier()\n",
    "model.fit(X_train_tfidf, y_train)\n",
    "\n",
    "# Evaluate the model on the test set\n",
    "y_pred = model.predict(X_test_tfidf)\n",
    "accuracy = accuracy_score(y_test, y_pred)\n",
    "f1 = f1_score(y_test, y_pred, average='weighted')\n",
    "\n",
    "print(f'Accuracy: {accuracy:.2f}')\n",
    "print(f'F1-score: {f1:.2f}')\n"
   ],
   "metadata": {
    "collapsed": false,
    "ExecuteTime": {
     "end_time": "2024-06-04T01:11:54.862837400Z",
     "start_time": "2024-06-04T01:11:52.715685200Z"
    }
   }
  },
  {
   "cell_type": "code",
   "execution_count": null,
   "outputs": [],
   "source": [],
   "metadata": {
    "collapsed": false
   }
  }
 ],
 "metadata": {
  "kernelspec": {
   "display_name": "Python 3",
   "language": "python",
   "name": "python3"
  },
  "language_info": {
   "codemirror_mode": {
    "name": "ipython",
    "version": 2
   },
   "file_extension": ".py",
   "mimetype": "text/x-python",
   "name": "python",
   "nbconvert_exporter": "python",
   "pygments_lexer": "ipython2",
   "version": "2.7.6"
  }
 },
 "nbformat": 4,
 "nbformat_minor": 0
}

{
 "cells": [
  {
   "cell_type": "code",
   "execution_count": 7,
   "metadata": {
    "collapsed": true,
    "ExecuteTime": {
     "end_time": "2024-06-05T06:04:04.287569Z",
     "start_time": "2024-06-05T06:04:04.271809300Z"
    }
   },
   "outputs": [],
   "source": [
    "from sklearn.preprocessing import OrdinalEncoder\n",
    "from xgboost import XGBClassifier\n",
    "from sklearn.ensemble import RandomForestClassifier, GradientBoostingClassifier, AdaBoostClassifier, ExtraTreesClassifier\n",
    "import pandas as pd\n",
    "from sklearn.tree import DecisionTreeClassifier\n",
    "from sklearn.model_selection import GridSearchCV, StratifiedKFold\n",
    "from sklearn.feature_extraction.text import TfidfVectorizer\n",
    "from lightgbm import LGBMClassifier\n",
    "df = pd.read_csv('train_data.csv')"
   ]
  },
  {
   "cell_type": "code",
   "execution_count": 8,
   "outputs": [],
   "source": [
    "def normalize_persian(text):\n",
    "    # Define a function to normalize Persian characters\n",
    "    persian_digits = '۰۱۲۳۴۵۶۷۸۹٦'\n",
    "    english_digits = '01234567896'\n",
    "    yeh_characters = ['ی', 'ي', 'ے', 'ئ', 'ى']\n",
    "\n",
    "    text = text.translate(str.maketrans(persian_digits, english_digits))\n",
    "    for char in yeh_characters:\n",
    "        text = text.replace(char, 'ی')\n",
    "\n",
    "    return text"
   ],
   "metadata": {
    "collapsed": false,
    "ExecuteTime": {
     "end_time": "2024-06-05T06:04:16.951612400Z",
     "start_time": "2024-06-05T06:04:16.951612400Z"
    }
   }
  },
  {
   "cell_type": "code",
   "execution_count": 9,
   "outputs": [],
   "source": [
    "def preprocess_text(text):\n",
    "    # Normalize Persian characters\n",
    "    text = normalize_persian(text)\n",
    "\n",
    "    # Convert to lowercase\n",
    "    text = text.lower()\n",
    "\n",
    "    # Add more preprocessing steps as needed\n",
    "\n",
    "    return text"
   ],
   "metadata": {
    "collapsed": false,
    "ExecuteTime": {
     "end_time": "2024-06-05T06:04:17.186026800Z",
     "start_time": "2024-06-05T06:04:17.158883200Z"
    }
   }
  },
  {
   "cell_type": "code",
   "execution_count": 10,
   "outputs": [],
   "source": [
    "# Preprocess the text data\n",
    "df['Sentence'] = df['Sentence'].apply(preprocess_text)\n",
    "encoder = OrdinalEncoder()\n",
    "# Fit and transform the 'emotion' column\n",
    "df['emotion'] = encoder.fit_transform(df[['Emotion']])\n",
    "\n",
    "# Extract features using TF-IDF\n",
    "tfidf = TfidfVectorizer()\n",
    "X_tfidf = tfidf.fit_transform(df['Sentence'])"
   ],
   "metadata": {
    "collapsed": false,
    "ExecuteTime": {
     "end_time": "2024-06-05T06:04:17.449643800Z",
     "start_time": "2024-06-05T06:04:17.424193700Z"
    }
   }
  },
  {
   "cell_type": "code",
   "execution_count": 11,
   "outputs": [],
   "source": [
    "param_grids = {\n",
    "    'Decision Tree': {'criterion': ['gini', 'entropy'], 'max_depth': [5, 10, 15, None]},\n",
    "}"
   ],
   "metadata": {
    "collapsed": false,
    "ExecuteTime": {
     "end_time": "2024-06-05T06:04:17.960279400Z",
     "start_time": "2024-06-05T06:04:17.942761100Z"
    }
   }
  },
  {
   "cell_type": "code",
   "execution_count": 12,
   "outputs": [
    {
     "name": "stdout",
     "output_type": "stream",
     "text": [
      "Optimizing Decision Tree model...\n",
      "Decision Tree - Best Hyperparameters: {'criterion': 'gini', 'max_depth': None}\n"
     ]
    }
   ],
   "source": [
    "for model_name, model_class in [\n",
    "    ('Decision Tree', DecisionTreeClassifier),\n",
    "]:\n",
    "    print(f'Optimizing {model_name} model...')\n",
    "    model = model_class()\n",
    "    grid_search = GridSearchCV(model, param_grid=param_grids[model_name], cv=StratifiedKFold(n_splits=5, shuffle=True, random_state=42), scoring=['accuracy', 'f1_weighted'], refit='accuracy')\n",
    "    grid_search.fit(X_tfidf, df['emotion'])\n",
    "\n",
    "    #print(f'{model_name} - Best Accuracy: {grid_search.best_score_[\"accuracy\"]:.2f}')\n",
    "    #print(f'{model_name} - Best F1-score: {grid_search.best_score_[\"f1_weighted\"]:.2f}')\n",
    "    print(f'{model_name} - Best Hyperparameters: {grid_search.best_params_}')"
   ],
   "metadata": {
    "collapsed": false,
    "ExecuteTime": {
     "end_time": "2024-06-05T06:04:38.709416500Z",
     "start_time": "2024-06-05T06:04:18.488197700Z"
    }
   }
  },
  {
   "cell_type": "code",
   "execution_count": 13,
   "outputs": [
    {
     "name": "stdout",
     "output_type": "stream",
     "text": [
      "Average Accuracy: 0.53\n",
      "Average F1-score: 0.53\n"
     ]
    }
   ],
   "source": [
    "from sklearn.metrics import accuracy_score, f1_score\n",
    "model = DecisionTreeClassifier(criterion='gini', max_depth=None)\n",
    "skf = StratifiedKFold(n_splits=5, shuffle=True, random_state=42)\n",
    "accuracy_scores = []\n",
    "f1_scores = []\n",
    "\n",
    "for train_index, test_index in skf.split(X_tfidf, df['emotion']):\n",
    "    X_train_tfidf, X_test_tfidf = X_tfidf[train_index], X_tfidf[test_index]\n",
    "    y_train, y_test = df['emotion'].iloc[train_index], df['emotion'].iloc[test_index]\n",
    "\n",
    "    model.fit(X_train_tfidf, y_train)\n",
    "    y_pred = model.predict(X_test_tfidf)\n",
    "\n",
    "    accuracy = accuracy_score(y_test, y_pred)\n",
    "    f1 = f1_score(y_test, y_pred, average='weighted')\n",
    "\n",
    "    accuracy_scores.append(accuracy)\n",
    "    f1_scores.append(f1)\n",
    "\n",
    "print(f'Average Accuracy: {sum(accuracy_scores) / len(accuracy_scores):.2f}')\n",
    "print(f'Average F1-score: {sum(f1_scores) / len(f1_scores):.2f}')"
   ],
   "metadata": {
    "collapsed": false,
    "ExecuteTime": {
     "end_time": "2024-06-05T06:05:52.463552400Z",
     "start_time": "2024-06-05T06:05:45.796273700Z"
    }
   }
  },
  {
   "cell_type": "code",
   "execution_count": 14,
   "outputs": [],
   "source": [
    "param_grids = {\n",
    "    'Random Forest': {'n_estimators': [50, 100, 150], 'max_depth': [5, 10, 15, None]},\n",
    "}"
   ],
   "metadata": {
    "collapsed": false,
    "ExecuteTime": {
     "end_time": "2024-06-05T06:06:45.415012900Z",
     "start_time": "2024-06-05T06:06:45.415012900Z"
    }
   }
  },
  {
   "cell_type": "code",
   "execution_count": 15,
   "outputs": [
    {
     "name": "stdout",
     "output_type": "stream",
     "text": [
      "Optimizing Random Forest model...\n",
      "Random Forest - Best Hyperparameters: {'max_depth': None, 'n_estimators': 100}\n"
     ]
    }
   ],
   "source": [
    "for model_name, model_class in [\n",
    "    ('Random Forest', RandomForestClassifier),\n",
    "]:\n",
    "    print(f'Optimizing {model_name} model...')\n",
    "    model = model_class()\n",
    "    grid_search = GridSearchCV(model, param_grid=param_grids[model_name], cv=StratifiedKFold(n_splits=5, shuffle=True, random_state=42), scoring=['accuracy', 'f1_weighted'], refit='accuracy')\n",
    "    grid_search.fit(X_tfidf, df['emotion'])\n",
    "\n",
    "    #print(f'{model_name} - Best Accuracy: {grid_search.best_score_[\"accuracy\"]:.2f}')\n",
    "    #print(f'{model_name} - Best F1-score: {grid_search.best_score_[\"f1_weighted\"]:.2f}')\n",
    "    print(f'{model_name} - Best Hyperparameters: {grid_search.best_params_}')"
   ],
   "metadata": {
    "collapsed": false,
    "ExecuteTime": {
     "end_time": "2024-06-05T06:11:28.582914100Z",
     "start_time": "2024-06-05T06:07:01.171932Z"
    }
   }
  },
  {
   "cell_type": "code",
   "execution_count": 16,
   "outputs": [
    {
     "name": "stdout",
     "output_type": "stream",
     "text": [
      "Average Accuracy: 0.58\n",
      "Average F1-score: 0.57\n"
     ]
    }
   ],
   "source": [
    "from sklearn.metrics import accuracy_score, f1_score\n",
    "model = RandomForestClassifier(n_estimators=100, max_depth=None)\n",
    "skf = StratifiedKFold(n_splits=5, shuffle=True, random_state=42)\n",
    "accuracy_scores = []\n",
    "f1_scores = []\n",
    "\n",
    "for train_index, test_index in skf.split(X_tfidf, df['emotion']):\n",
    "    X_train_tfidf, X_test_tfidf = X_tfidf[train_index], X_tfidf[test_index]\n",
    "    y_train, y_test = df['emotion'].iloc[train_index], df['emotion'].iloc[test_index]\n",
    "\n",
    "    model.fit(X_train_tfidf, y_train)\n",
    "    y_pred = model.predict(X_test_tfidf)\n",
    "\n",
    "    accuracy = accuracy_score(y_test, y_pred)\n",
    "    f1 = f1_score(y_test, y_pred, average='weighted')\n",
    "\n",
    "    accuracy_scores.append(accuracy)\n",
    "    f1_scores.append(f1)\n",
    "\n",
    "print(f'Average Accuracy: {sum(accuracy_scores) / len(accuracy_scores):.2f}')\n",
    "print(f'Average F1-score: {sum(f1_scores) / len(f1_scores):.2f}')"
   ],
   "metadata": {
    "collapsed": false,
    "ExecuteTime": {
     "end_time": "2024-06-05T06:12:56.374951500Z",
     "start_time": "2024-06-05T06:11:50.281812800Z"
    }
   }
  },
  {
   "cell_type": "code",
   "execution_count": null,
   "outputs": [],
   "source": [],
   "metadata": {
    "collapsed": false
   }
  }
 ],
 "metadata": {
  "kernelspec": {
   "display_name": "Python 3",
   "language": "python",
   "name": "python3"
  },
  "language_info": {
   "codemirror_mode": {
    "name": "ipython",
    "version": 2
   },
   "file_extension": ".py",
   "mimetype": "text/x-python",
   "name": "python",
   "nbconvert_exporter": "python",
   "pygments_lexer": "ipython2",
   "version": "2.7.6"
  }
 },
 "nbformat": 4,
 "nbformat_minor": 0
}
